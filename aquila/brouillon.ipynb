{
 "cells": [
  {
   "cell_type": "markdown",
   "metadata": {},
   "source": [
    "# Part I : Quel(le) data scientist êtes-vous ?\n",
    "## Contexte de l’analyse\n",
    "\n",
    "Elu métier le plus sexy par la Harvard Business Review en octobre 2012, le data scientist représente un profil rare qui exige de nombreuses compétences.\n",
    "\n",
    "A partir d'un dataset Aquila, vous réaliserez :\n",
    "- un clustering non supervisé afin d'identifier 2 groupes de profils techniques distinctes\n",
    "- une prédiction des profils dont le métier n'est pas labellisé\n",
    "\n",
    "\n",
    "## Données\n",
    "data.csv contient 6 variables : \n",
    "    - 'Entreprise' correspond à une liste d'entreprises fictive\n",
    "    - 'Metier' correspond au métier parmi data scientist, lead data scientist, data engineer et data architecte\n",
    "    - 'Technologies' correspond aux compétences maîtrisées par le profil\n",
    "    - 'Diplome' correspond à son niveau scolaire (Bac, Master, PhD,...)\n",
    "    - 'Experience' correspond au nombre d'années d'expériences\n",
    "    - 'Ville' correspond au lieu de travail\n",
    "    \n",
    "\n",
    "\n",
    "## Répondez aux questions \n",
    "\n",
    "Bonne chance!"
   ]
  },
  {
   "cell_type": "code",
   "execution_count": 1,
   "metadata": {},
   "outputs": [],
   "source": [
    "# Import des libraries classique (numpy, pandas, ...)\n",
    "import pandas as pd\n",
    "import numpy as np\n",
    "import re\n",
    "import sklearn as sk\n",
    "import seaborn as sb\n",
    "from matplotlib import pyplot as plt\n",
    "plt.style.use('ggplot')"
   ]
  },
  {
   "cell_type": "markdown",
   "metadata": {},
   "source": [
    "### 1) Importer le tableau de données dans un dataframe "
   ]
  },
  {
   "cell_type": "code",
   "execution_count": 2,
   "metadata": {},
   "outputs": [],
   "source": [
    "# Import du dataframe \"data.csv\"\n",
    "df = pd.read_csv(\"data.csv\")"
   ]
  },
  {
   "cell_type": "markdown",
   "metadata": {},
   "source": [
    "### 2) Combien y a t-il d'observations dans ce dataset? Y a t-il des valeurs manquantes? "
   ]
  },
  {
   "cell_type": "markdown",
   "metadata": {},
   "source": [
    "Nous savons que dans le dataset il y a **6 catégories différentes**, nous récupérons le nom de ces différentes catégories puis les ajoutons dans une liste appelée `categories`. Ensuite nous allons pouvoir étudier chaque valeur manquante de ce dataset en utilisant des méthodes implémentées directement dans la librairie `pandas`."
   ]
  },
  {
   "cell_type": "code",
   "execution_count": 3,
   "metadata": {},
   "outputs": [
    {
     "name": "stdout",
     "output_type": "stream",
     "text": [
      "['Entreprise', 'Metier', 'Technologies', 'Diplome', 'Experience', 'Ville']\n"
     ]
    }
   ],
   "source": [
    "# get the label names\n",
    "categories = [categories for categories in df.columns]\n",
    "print(categories)"
   ]
  },
  {
   "cell_type": "markdown",
   "metadata": {},
   "source": [
    "Par habitude, nous allons utiliser `X_data` pour nommer les listes de données."
   ]
  },
  {
   "cell_type": "code",
   "execution_count": 4,
   "metadata": {},
   "outputs": [
    {
     "name": "stdout",
     "output_type": "stream",
     "text": [
      "Data shape : (9582, 6) \n",
      "Number of rows : 9582 \n",
      "Number of columns : 6\n"
     ]
    }
   ],
   "source": [
    "# get the data values using the features we defined before\n",
    "X_data = df[categories]\n",
    "\n",
    "# visualize the shape of the data we've collected\n",
    "print('Data shape :', X_data.shape ,'\\nNumber of rows :', X_data.shape[0] , '\\nNumber of columns :', X_data.shape[1])"
   ]
  },
  {
   "cell_type": "markdown",
   "metadata": {},
   "source": [
    "Nous savons donc que le dataset est constitué de **9582 lignes** (instances/observations/features) et de **6 colonnes** (catégories) en référence aux catégories que nous avions extraites au préalable.\n",
    "\n",
    "Désormais que nous connaissons les différentes catégories et le nombre de données disponibles, nous allons creuser un peu plus en détails, en commençant par passer en revue les données. Pour se faire, nous allons utiliser la méthode **head()** pour explorer les premières données du dataset."
   ]
  },
  {
   "cell_type": "code",
   "execution_count": 5,
   "metadata": {
    "scrolled": true
   },
   "outputs": [
    {
     "data": {
      "text/html": [
       "<div>\n",
       "<style scoped>\n",
       "    .dataframe tbody tr th:only-of-type {\n",
       "        vertical-align: middle;\n",
       "    }\n",
       "\n",
       "    .dataframe tbody tr th {\n",
       "        vertical-align: top;\n",
       "    }\n",
       "\n",
       "    .dataframe thead th {\n",
       "        text-align: right;\n",
       "    }\n",
       "</style>\n",
       "<table border=\"1\" class=\"dataframe\">\n",
       "  <thead>\n",
       "    <tr style=\"text-align: right;\">\n",
       "      <th></th>\n",
       "      <th>Entreprise</th>\n",
       "      <th>Metier</th>\n",
       "      <th>Technologies</th>\n",
       "      <th>Diplome</th>\n",
       "      <th>Experience</th>\n",
       "      <th>Ville</th>\n",
       "    </tr>\n",
       "  </thead>\n",
       "  <tbody>\n",
       "    <tr>\n",
       "      <th>0</th>\n",
       "      <td>Sanofi</td>\n",
       "      <td>Data scientist</td>\n",
       "      <td>Matlab/Python/Pyspark/Scikit-learn/Tensorflow</td>\n",
       "      <td>Master</td>\n",
       "      <td>1</td>\n",
       "      <td>Paris</td>\n",
       "    </tr>\n",
       "    <tr>\n",
       "      <th>1</th>\n",
       "      <td>Massachusetts General Hospital(MGH)</td>\n",
       "      <td>Data architecte</td>\n",
       "      <td>Python/Java/Scala/MongoDB</td>\n",
       "      <td>Master</td>\n",
       "      <td>3</td>\n",
       "      <td>Marseille</td>\n",
       "    </tr>\n",
       "    <tr>\n",
       "      <th>2</th>\n",
       "      <td>Delve</td>\n",
       "      <td>Lead data scientist</td>\n",
       "      <td>SPSS/SQL/Teradata/R/Python/Tensorflow/scikit-l...</td>\n",
       "      <td>Master</td>\n",
       "      <td>3</td>\n",
       "      <td>Nantes</td>\n",
       "    </tr>\n",
       "    <tr>\n",
       "      <th>3</th>\n",
       "      <td>Ann &amp; Robert H. Lurie Children’s Hospital of C...</td>\n",
       "      <td>Data scientist</td>\n",
       "      <td>C/C++/Java/Python</td>\n",
       "      <td>Master</td>\n",
       "      <td>1,5</td>\n",
       "      <td>Marseille</td>\n",
       "    </tr>\n",
       "    <tr>\n",
       "      <th>4</th>\n",
       "      <td>Arm</td>\n",
       "      <td>Data scientist</td>\n",
       "      <td>Matlab/Python/C++/numpy/Tensorflow/scikit-learn</td>\n",
       "      <td>Phd</td>\n",
       "      <td>NaN</td>\n",
       "      <td>Bordeaux</td>\n",
       "    </tr>\n",
       "  </tbody>\n",
       "</table>\n",
       "</div>"
      ],
      "text/plain": [
       "                                          Entreprise               Metier  \\\n",
       "0                                             Sanofi       Data scientist   \n",
       "1                Massachusetts General Hospital(MGH)      Data architecte   \n",
       "2                                              Delve  Lead data scientist   \n",
       "3  Ann & Robert H. Lurie Children’s Hospital of C...       Data scientist   \n",
       "4                                                Arm       Data scientist   \n",
       "\n",
       "                                        Technologies Diplome Experience  \\\n",
       "0      Matlab/Python/Pyspark/Scikit-learn/Tensorflow  Master          1   \n",
       "1                          Python/Java/Scala/MongoDB  Master          3   \n",
       "2  SPSS/SQL/Teradata/R/Python/Tensorflow/scikit-l...  Master          3   \n",
       "3                                  C/C++/Java/Python  Master        1,5   \n",
       "4    Matlab/Python/C++/numpy/Tensorflow/scikit-learn     Phd        NaN   \n",
       "\n",
       "       Ville  \n",
       "0      Paris  \n",
       "1  Marseille  \n",
       "2     Nantes  \n",
       "3  Marseille  \n",
       "4   Bordeaux  "
      ]
     },
     "execution_count": 5,
     "metadata": {},
     "output_type": "execute_result"
    }
   ],
   "source": [
    "# quick review of the data\n",
    "X_data.head()"
   ]
  },
  {
   "cell_type": "markdown",
   "metadata": {},
   "source": [
    "Nous regardons ensuite le nombre de valeurs manquantes dans notre dataset en utilisant les méthodes **isna()** ou **isnull()** directement disponibles à travers `pandas`."
   ]
  },
  {
   "cell_type": "code",
   "execution_count": 6,
   "metadata": {},
   "outputs": [
    {
     "name": "stdout",
     "output_type": "stream",
     "text": [
      "Number of missing values per categories :\n",
      "\n",
      "Entreprise      17\n",
      "Metier          19\n",
      "Technologies     0\n",
      "Diplome          0\n",
      "Experience      94\n",
      "Ville            0\n",
      "dtype: int64 \n",
      "\n",
      "Total of missing values in all categories : 130\n"
     ]
    }
   ],
   "source": [
    "# checking the na values in our dataset and summing them \n",
    "na_values = X_data.isna()\n",
    "number_na = na_values.sum()\n",
    "total_number_na = number_na.sum()\n",
    "\n",
    "print(\"Number of missing values per categories :\\n\")\n",
    "print(number_na ,\"\\n\\nTotal of missing values in all categories :\", total_number_na)"
   ]
  },
  {
   "cell_type": "markdown",
   "metadata": {},
   "source": [
    "Nous pouvons observer qu'il y a des valeurs manquantes (`NaN`) dans les catégories **`Experience`**, **`Metier`** et **`Entreprise`**."
   ]
  },
  {
   "cell_type": "markdown",
   "metadata": {},
   "source": [
    "### 3) Réaliser l'imputation des valeurs manquantes pour la variable \"Experience\" avec : \n",
    "- la valeur médiane pour les data scientists\n",
    "- la valeur moyenne pour les data engineers"
   ]
  },
  {
   "cell_type": "markdown",
   "metadata": {},
   "source": [
    "Il y a plusieurs façons de remédier aux problèmes des valeurs manquantes, dans cet exercice nous allons utiliser la version fournie par `pandas`, mais nous pouvions aussi utiliser celle de `scikit-learn` avec le module `SimpleImputer`. La méthode **fillna()** de `pandas` nous permet de \"impute\" de nouvelles valeurs sur les valeurs manquantes, tout en choisissant la manière que l'on veut **i.e.** en remplaçant par la médiane des valeurs ou la moyenne (au choix).  \n",
    "\n",
    "D'après nos observations, seules les colonnes **`Experience`**, **`Metier`** et **`Entreprise`** possèdent des valeurs manquantes. Sachant que la colonne **`Experience`** est la seule contenant des *valeurs numériques* nous allons donc \"imputer\" les valeurs médianes et moyennes seulement dans cette colonne."
   ]
  },
  {
   "cell_type": "code",
   "execution_count": 7,
   "metadata": {},
   "outputs": [],
   "source": [
    "# make copy to avoid changing original data \n",
    "X_data_copy = X_data.copy()"
   ]
  },
  {
   "cell_type": "code",
   "execution_count": 8,
   "metadata": {},
   "outputs": [
    {
     "data": {
      "text/plain": [
       "dtype('O')"
      ]
     },
     "execution_count": 8,
     "metadata": {},
     "output_type": "execute_result"
    }
   ],
   "source": [
    "# we get the data type of the values in the category 'Experience'\n",
    "X_data_copy['Experience'].dtypes\n",
    "# output dtype = object"
   ]
  },
  {
   "cell_type": "markdown",
   "metadata": {},
   "source": [
    "En regardant attentivement les données dans la catégorie **`Experience`**, nous avons remarqué que les valeurs sont soumise sous un format à virgule (décimale à virgule). Lorsque l'on check le type de données de la colonne **`Experience`**, on remarque que le type de données est `object` il est donc nécessaire de transformer ce le type de données en `float` pour pouvoir calculer la valeur moyenne et la valeur médiane."
   ]
  },
  {
   "cell_type": "markdown",
   "metadata": {},
   "source": [
    "Et pour que nos données soient plus facilement manipulable, nous allons remplacer **TOUTES** les virgules par des points et ensuite transformer les types de valeurs de la catégorie **`Experience`** en `float`."
   ]
  },
  {
   "cell_type": "code",
   "execution_count": 9,
   "metadata": {},
   "outputs": [
    {
     "data": {
      "text/plain": [
       "dtype('float64')"
      ]
     },
     "execution_count": 9,
     "metadata": {},
     "output_type": "execute_result"
    }
   ],
   "source": [
    "# convert the object types to float type\n",
    "X_data_copy['Experience'] = X_data_copy['Experience'].str.replace(',', '.').astype(float)\n",
    "X_data_copy['Experience'].dtypes"
   ]
  },
  {
   "cell_type": "code",
   "execution_count": 10,
   "metadata": {
    "scrolled": false
   },
   "outputs": [
    {
     "data": {
      "text/html": [
       "<div>\n",
       "<style scoped>\n",
       "    .dataframe tbody tr th:only-of-type {\n",
       "        vertical-align: middle;\n",
       "    }\n",
       "\n",
       "    .dataframe tbody tr th {\n",
       "        vertical-align: top;\n",
       "    }\n",
       "\n",
       "    .dataframe thead th {\n",
       "        text-align: right;\n",
       "    }\n",
       "</style>\n",
       "<table border=\"1\" class=\"dataframe\">\n",
       "  <thead>\n",
       "    <tr style=\"text-align: right;\">\n",
       "      <th></th>\n",
       "      <th>Entreprise</th>\n",
       "      <th>Metier</th>\n",
       "      <th>Technologies</th>\n",
       "      <th>Diplome</th>\n",
       "      <th>Experience</th>\n",
       "      <th>Ville</th>\n",
       "    </tr>\n",
       "  </thead>\n",
       "  <tbody>\n",
       "    <tr>\n",
       "      <th>0</th>\n",
       "      <td>Sanofi</td>\n",
       "      <td>Data scientist</td>\n",
       "      <td>Matlab/Python/Pyspark/Scikit-learn/Tensorflow</td>\n",
       "      <td>Master</td>\n",
       "      <td>1.0</td>\n",
       "      <td>Paris</td>\n",
       "    </tr>\n",
       "    <tr>\n",
       "      <th>1</th>\n",
       "      <td>Massachusetts General Hospital(MGH)</td>\n",
       "      <td>Data architecte</td>\n",
       "      <td>Python/Java/Scala/MongoDB</td>\n",
       "      <td>Master</td>\n",
       "      <td>3.0</td>\n",
       "      <td>Marseille</td>\n",
       "    </tr>\n",
       "    <tr>\n",
       "      <th>2</th>\n",
       "      <td>Delve</td>\n",
       "      <td>Lead data scientist</td>\n",
       "      <td>SPSS/SQL/Teradata/R/Python/Tensorflow/scikit-l...</td>\n",
       "      <td>Master</td>\n",
       "      <td>3.0</td>\n",
       "      <td>Nantes</td>\n",
       "    </tr>\n",
       "    <tr>\n",
       "      <th>3</th>\n",
       "      <td>Ann &amp; Robert H. Lurie Children’s Hospital of C...</td>\n",
       "      <td>Data scientist</td>\n",
       "      <td>C/C++/Java/Python</td>\n",
       "      <td>Master</td>\n",
       "      <td>1.5</td>\n",
       "      <td>Marseille</td>\n",
       "    </tr>\n",
       "    <tr>\n",
       "      <th>4</th>\n",
       "      <td>Arm</td>\n",
       "      <td>Data scientist</td>\n",
       "      <td>Matlab/Python/C++/numpy/Tensorflow/scikit-learn</td>\n",
       "      <td>Phd</td>\n",
       "      <td>NaN</td>\n",
       "      <td>Bordeaux</td>\n",
       "    </tr>\n",
       "  </tbody>\n",
       "</table>\n",
       "</div>"
      ],
      "text/plain": [
       "                                          Entreprise               Metier  \\\n",
       "0                                             Sanofi       Data scientist   \n",
       "1                Massachusetts General Hospital(MGH)      Data architecte   \n",
       "2                                              Delve  Lead data scientist   \n",
       "3  Ann & Robert H. Lurie Children’s Hospital of C...       Data scientist   \n",
       "4                                                Arm       Data scientist   \n",
       "\n",
       "                                        Technologies Diplome  Experience  \\\n",
       "0      Matlab/Python/Pyspark/Scikit-learn/Tensorflow  Master         1.0   \n",
       "1                          Python/Java/Scala/MongoDB  Master         3.0   \n",
       "2  SPSS/SQL/Teradata/R/Python/Tensorflow/scikit-l...  Master         3.0   \n",
       "3                                  C/C++/Java/Python  Master         1.5   \n",
       "4    Matlab/Python/C++/numpy/Tensorflow/scikit-learn     Phd         NaN   \n",
       "\n",
       "       Ville  \n",
       "0      Paris  \n",
       "1  Marseille  \n",
       "2     Nantes  \n",
       "3  Marseille  \n",
       "4   Bordeaux  "
      ]
     },
     "execution_count": 10,
     "metadata": {},
     "output_type": "execute_result"
    }
   ],
   "source": [
    "# check the X_data values again\n",
    "X_data_copy.head()"
   ]
  },
  {
   "cell_type": "markdown",
   "metadata": {},
   "source": [
    "Nous utilisons ensuite les méthodes **mask()** et **loc()** pour imposer nos conditions et localiser les valeurs correspondantes à la colonne **`Experience`** des différents métiers qui nous intéresse. Finalement, nous allons imputer les valeurs moyennes et médianes correspondantes aux différents corps de métiers dans la colonne **`Experience`**. \n",
    "\n",
    "**A noter que** : si nous nous trompons dans l'orthographe du métier dans la condition du **mask()**, `pandas` ne prendra pas en compte les instructions que l'on confie ensuite **i.e** : les lignes contenant des valeurs manquantes ne seront pas remplies."
   ]
  },
  {
   "cell_type": "code",
   "execution_count": 11,
   "metadata": {
    "scrolled": true
   },
   "outputs": [],
   "source": [
    "# we'll use masks to respect the conditions, here we want to put mean value experience for data scientist\n",
    "mask1 = (X_data_copy['Metier'] == 'Data scientist')\n",
    "X_data_copy.loc[mask1, 'Experience'] = X_data_copy.loc[mask1, 'Experience'].fillna(X_data_copy['Experience'].mean())\n",
    "\n",
    "# we'll use masks to respect the conditions, here we want to put mean value experience for lead data scientist\n",
    "mask2 = (X_data_copy['Metier'] == 'Lead data scientist')\n",
    "X_data_copy.loc[mask2, 'Experience'] = X_data_copy.loc[mask2, 'Experience'].fillna(X_data_copy['Experience'].mean())\n",
    "\n",
    "# we'll use masks to respect the conditions, here we want to put median value experience for data engineer\n",
    "mask3 = (X_data_copy['Metier'] == 'Data engineer')\n",
    "X_data_copy.loc[mask3, 'Experience'] = X_data_copy.loc[mask3, 'Experience'].fillna(X_data_copy['Experience'].median())"
   ]
  },
  {
   "cell_type": "code",
   "execution_count": 12,
   "metadata": {},
   "outputs": [
    {
     "name": "stdout",
     "output_type": "stream",
     "text": [
      "Are there any missing values for data scientist? : False\n",
      "Are there any missing values for lead data scientist? : False\n",
      "Are there any missing values for data engineer? : False\n"
     ]
    }
   ],
   "source": [
    "# checking the results by verifying is there are still any missing values\n",
    "print(\"Are there any missing values for data scientist? :\", X_data_copy.loc[mask1, 'Experience'].isna().any())\n",
    "print(\"Are there any missing values for lead data scientist? :\", X_data_copy.loc[mask2, 'Experience'].isna().any())\n",
    "print(\"Are there any missing values for data engineer? :\", X_data_copy.loc[mask3, 'Experience'].isna().any())"
   ]
  },
  {
   "cell_type": "code",
   "execution_count": 13,
   "metadata": {},
   "outputs": [
    {
     "data": {
      "text/html": [
       "<div>\n",
       "<style scoped>\n",
       "    .dataframe tbody tr th:only-of-type {\n",
       "        vertical-align: middle;\n",
       "    }\n",
       "\n",
       "    .dataframe tbody tr th {\n",
       "        vertical-align: top;\n",
       "    }\n",
       "\n",
       "    .dataframe thead th {\n",
       "        text-align: right;\n",
       "    }\n",
       "</style>\n",
       "<table border=\"1\" class=\"dataframe\">\n",
       "  <thead>\n",
       "    <tr style=\"text-align: right;\">\n",
       "      <th></th>\n",
       "      <th>Entreprise</th>\n",
       "      <th>Metier</th>\n",
       "      <th>Technologies</th>\n",
       "      <th>Diplome</th>\n",
       "      <th>Experience</th>\n",
       "      <th>Ville</th>\n",
       "    </tr>\n",
       "  </thead>\n",
       "  <tbody>\n",
       "    <tr>\n",
       "      <th>0</th>\n",
       "      <td>Sanofi</td>\n",
       "      <td>Data scientist</td>\n",
       "      <td>Matlab/Python/Pyspark/Scikit-learn/Tensorflow</td>\n",
       "      <td>Master</td>\n",
       "      <td>1.000000</td>\n",
       "      <td>Paris</td>\n",
       "    </tr>\n",
       "    <tr>\n",
       "      <th>1</th>\n",
       "      <td>Massachusetts General Hospital(MGH)</td>\n",
       "      <td>Data architecte</td>\n",
       "      <td>Python/Java/Scala/MongoDB</td>\n",
       "      <td>Master</td>\n",
       "      <td>3.000000</td>\n",
       "      <td>Marseille</td>\n",
       "    </tr>\n",
       "    <tr>\n",
       "      <th>2</th>\n",
       "      <td>Delve</td>\n",
       "      <td>Lead data scientist</td>\n",
       "      <td>SPSS/SQL/Teradata/R/Python/Tensorflow/scikit-l...</td>\n",
       "      <td>Master</td>\n",
       "      <td>3.000000</td>\n",
       "      <td>Nantes</td>\n",
       "    </tr>\n",
       "    <tr>\n",
       "      <th>3</th>\n",
       "      <td>Ann &amp; Robert H. Lurie Children’s Hospital of C...</td>\n",
       "      <td>Data scientist</td>\n",
       "      <td>C/C++/Java/Python</td>\n",
       "      <td>Master</td>\n",
       "      <td>1.500000</td>\n",
       "      <td>Marseille</td>\n",
       "    </tr>\n",
       "    <tr>\n",
       "      <th>4</th>\n",
       "      <td>Arm</td>\n",
       "      <td>Data scientist</td>\n",
       "      <td>Matlab/Python/C++/numpy/Tensorflow/scikit-learn</td>\n",
       "      <td>Phd</td>\n",
       "      <td>2.814186</td>\n",
       "      <td>Bordeaux</td>\n",
       "    </tr>\n",
       "  </tbody>\n",
       "</table>\n",
       "</div>"
      ],
      "text/plain": [
       "                                          Entreprise               Metier  \\\n",
       "0                                             Sanofi       Data scientist   \n",
       "1                Massachusetts General Hospital(MGH)      Data architecte   \n",
       "2                                              Delve  Lead data scientist   \n",
       "3  Ann & Robert H. Lurie Children’s Hospital of C...       Data scientist   \n",
       "4                                                Arm       Data scientist   \n",
       "\n",
       "                                        Technologies Diplome  Experience  \\\n",
       "0      Matlab/Python/Pyspark/Scikit-learn/Tensorflow  Master    1.000000   \n",
       "1                          Python/Java/Scala/MongoDB  Master    3.000000   \n",
       "2  SPSS/SQL/Teradata/R/Python/Tensorflow/scikit-l...  Master    3.000000   \n",
       "3                                  C/C++/Java/Python  Master    1.500000   \n",
       "4    Matlab/Python/C++/numpy/Tensorflow/scikit-learn     Phd    2.814186   \n",
       "\n",
       "       Ville  \n",
       "0      Paris  \n",
       "1  Marseille  \n",
       "2     Nantes  \n",
       "3  Marseille  \n",
       "4   Bordeaux  "
      ]
     },
     "execution_count": 13,
     "metadata": {},
     "output_type": "execute_result"
    }
   ],
   "source": [
    "# we can check the X_data values to be sure\n",
    "X_data_copy.head()\n",
    "# the output missing value at the 5th indice is now fill with the mean of al the values"
   ]
  },
  {
   "cell_type": "markdown",
   "metadata": {},
   "source": [
    "Nous pouvons observer les statistiques de la colonne `Experience` en utilisant la méthode **describe()**."
   ]
  },
  {
   "cell_type": "code",
   "execution_count": 14,
   "metadata": {},
   "outputs": [
    {
     "data": {
      "text/html": [
       "<div>\n",
       "<style scoped>\n",
       "    .dataframe tbody tr th:only-of-type {\n",
       "        vertical-align: middle;\n",
       "    }\n",
       "\n",
       "    .dataframe tbody tr th {\n",
       "        vertical-align: top;\n",
       "    }\n",
       "\n",
       "    .dataframe thead th {\n",
       "        text-align: right;\n",
       "    }\n",
       "</style>\n",
       "<table border=\"1\" class=\"dataframe\">\n",
       "  <thead>\n",
       "    <tr style=\"text-align: right;\">\n",
       "      <th></th>\n",
       "      <th>Experience</th>\n",
       "    </tr>\n",
       "  </thead>\n",
       "  <tbody>\n",
       "    <tr>\n",
       "      <th>count</th>\n",
       "      <td>9559.000000</td>\n",
       "    </tr>\n",
       "    <tr>\n",
       "      <th>mean</th>\n",
       "      <td>2.812483</td>\n",
       "    </tr>\n",
       "    <tr>\n",
       "      <th>std</th>\n",
       "      <td>2.706441</td>\n",
       "    </tr>\n",
       "    <tr>\n",
       "      <th>min</th>\n",
       "      <td>0.000000</td>\n",
       "    </tr>\n",
       "    <tr>\n",
       "      <th>25%</th>\n",
       "      <td>1.000000</td>\n",
       "    </tr>\n",
       "    <tr>\n",
       "      <th>50%</th>\n",
       "      <td>2.000000</td>\n",
       "    </tr>\n",
       "    <tr>\n",
       "      <th>75%</th>\n",
       "      <td>3.500000</td>\n",
       "    </tr>\n",
       "    <tr>\n",
       "      <th>max</th>\n",
       "      <td>21.000000</td>\n",
       "    </tr>\n",
       "  </tbody>\n",
       "</table>\n",
       "</div>"
      ],
      "text/plain": [
       "        Experience\n",
       "count  9559.000000\n",
       "mean      2.812483\n",
       "std       2.706441\n",
       "min       0.000000\n",
       "25%       1.000000\n",
       "50%       2.000000\n",
       "75%       3.500000\n",
       "max      21.000000"
      ]
     },
     "execution_count": 14,
     "metadata": {},
     "output_type": "execute_result"
    }
   ],
   "source": [
    "# generate descriptive statistics of the 'Experience' column which is the only column with float values\n",
    "X_data_copy.describe()"
   ]
  },
  {
   "cell_type": "code",
   "execution_count": 15,
   "metadata": {},
   "outputs": [
    {
     "data": {
      "text/plain": [
       "dtype('O')"
      ]
     },
     "execution_count": 15,
     "metadata": {},
     "output_type": "execute_result"
    }
   ],
   "source": [
    "# get the experience column back to object type\n",
    "X_data_copy['Experience'] = X_data_copy['Experience'].astype(object)\n",
    "X_data_copy['Experience'].dtypes"
   ]
  },
  {
   "cell_type": "code",
   "execution_count": 16,
   "metadata": {},
   "outputs": [],
   "source": [
    "# we get the values back in X_data\n",
    "X_data = X_data_copy\n",
    "\n",
    "# check our data\n",
    "#X_data"
   ]
  },
  {
   "cell_type": "markdown",
   "metadata": {},
   "source": [
    "A partir des données statistisques que nous avons récupéré et les codes écrits précédents, nous pouvons tenter de répondre à la question suivante."
   ]
  },
  {
   "cell_type": "markdown",
   "metadata": {},
   "source": [
    "### 4) Combien d'années d'expériences ont, en moyenne, chacun des profils : le data scientist, le lead data scientist et le data engineer en moyenne?\n",
    "\n",
    "**Réponse :**"
   ]
  },
  {
   "cell_type": "code",
   "execution_count": 17,
   "metadata": {
    "scrolled": false
   },
   "outputs": [
    {
     "name": "stdout",
     "output_type": "stream",
     "text": [
      "Mean value for years of experience working (data scientist) : 2.25 years\n",
      "Mean value for years of experience working (Lead data scientist) : 3.95 years\n",
      "Mean value for years of experience working (data engineer) : 2.98 years\n",
      "Mean value for years of experience working (data architecte) : 3.00 years\n"
     ]
    }
   ],
   "source": [
    "# mask for data architecte \n",
    "mask4 = (X_data['Metier'] == 'Data architecte')\n",
    "\n",
    "# mean values calculations\n",
    "mean_values_data_scientist = X_data.loc[mask1, 'Experience'].mean()\n",
    "mean_values_lead_data_scientist = X_data.loc[mask2, 'Experience'].mean()\n",
    "mean_values_data_engineer = X_data.loc[mask3, 'Experience'].mean()\n",
    "mean_values_data_architecte = X_data.loc[mask4, 'Experience'].mean()\n",
    "\n",
    "print(f'Mean value for years of experience working (data scientist) : {mean_values_data_scientist:.2f} years') \n",
    "print(f'Mean value for years of experience working (Lead data scientist) : {mean_values_lead_data_scientist:.2f} years') \n",
    "print(f'Mean value for years of experience working (data engineer) : {mean_values_data_engineer:.2f} years') \n",
    "print(f'Mean value for years of experience working (data architecte) : {mean_values_data_architecte:.2f} years') "
   ]
  },
  {
   "cell_type": "code",
   "execution_count": 18,
   "metadata": {},
   "outputs": [
    {
     "name": "stdout",
     "output_type": "stream",
     "text": [
      "Mean value for years of experience working for all types of jobs : 3.04 years\n"
     ]
    }
   ],
   "source": [
    "# mean value for all :\n",
    "mean_value = 1/4*(mean_values_data_scientist + mean_values_lead_data_scientist \n",
    "                                             + mean_values_data_engineer \n",
    "                                             + mean_values_data_architecte)\n",
    "\n",
    "print(f'Mean value for years of experience working for all types of jobs : {mean_value:.2f} years') "
   ]
  },
  {
   "cell_type": "markdown",
   "metadata": {},
   "source": [
    "La valeur moyenne d'expérience au travail d'un data architecte **est très suspecte**, nous checkons donc s'il manque des valeurs dans le dataset de cette catégorie de travail."
   ]
  },
  {
   "cell_type": "code",
   "execution_count": 19,
   "metadata": {},
   "outputs": [
    {
     "name": "stdout",
     "output_type": "stream",
     "text": [
      "Are there any missing values for data architecte? : True\n",
      "\n",
      "There are 23 missing year of working experience values for the data architecte job.\n"
     ]
    }
   ],
   "source": [
    "print(\"Are there any missing values for data architecte? :\", X_data.loc[mask4, 'Experience'].isna().any())\n",
    "print(\"\\nThere are\", X_data.loc[mask4, 'Experience'].isna().sum(), \"missing year of working experience values for the data architecte job.\")"
   ]
  },
  {
   "cell_type": "markdown",
   "metadata": {},
   "source": [
    "Nous observons qu'il y a 23 valeurs manquantes (missing values) pour le métier de **data architecte**, néanmoins il n'y a aucune consigne indiquée pour imputer ces valeurs manquantes. Nous pouvons donc décider oui ou non d'imputer une moyenne des valeurs pour ces valeurs manquantes."
   ]
  },
  {
   "cell_type": "markdown",
   "metadata": {},
   "source": [
    "### 5) Faire la représentation graphique de votre choix afin de comparer le nombre moyen d'années d'expériences pour chaque métier"
   ]
  },
  {
   "cell_type": "code",
   "execution_count": 20,
   "metadata": {},
   "outputs": [
    {
     "data": {
      "text/plain": [
       "<AxesSubplot:xlabel='Metier', ylabel='Experience'>"
      ]
     },
     "execution_count": 20,
     "metadata": {},
     "output_type": "execute_result"
    },
    {
     "data": {
      "image/png": "[encoded data removed]",
      "text/plain": [
       "<Figure size 792x504 with 1 Axes>"
      ]
     },
     "metadata": {},
     "output_type": "display_data"
    }
   ],
   "source": [
    "# plot the mean value of year experience for each jobs\n",
    "f, ax = plt.subplots(figsize=(11, 7))\n",
    "sb.set_color_codes(\"muted\")\n",
    "sb.barplot(x='Metier', y='Experience', data=X_data, color='b')"
   ]
  },
  {
   "cell_type": "markdown",
   "metadata": {},
   "source": [
    "### 6) Transformer la variable continue 'Experience' en une nouvelle variable catégorielle 'Exp_label' à 4 modalités: débutant, confirmé, avancé et expert\n",
    "- Veuillez expliquer votre choix du règle de transformation.  "
   ]
  },
  {
   "cell_type": "markdown",
   "metadata": {},
   "source": [
    "**Réponse :** \n",
    "\n",
    "Il y a différentes façons de transformer des variables continues (continuous) en variables catégorielles, parmi elles, il y a les techniques classiques de **\"label encoding\"** ou de **\"one-hot encoding\"**. Pour la méthode de **\"label encoding\"** les variables continues doivent être *ordonnées* c'est à dire qu'elles doivent respecter un ordre ou une hiérarchie entre elles.  \n",
    "Prenons l'exemple d'une variable **`Brossage de dents après le petit-déj`** contenant des valeurs ordonnées : `Tous les jours` ,`Jamais` ,`Rarement`, `Parfois`; nous observons donc bien une hiérarchie entre les différentes valeurs possibles.  \n",
    "\n",
    "Nous pouvons, dès lors, appliquer la méthode de **\"label encoding\"** pour transformer la variable continue en variable catégorielle à 4 modalités (classées par ordre hiérarchique): \n",
    "* `Jamais` (0)\n",
    "* `Rarement` (1)\n",
    "* `Parfois` (2)\n",
    "* `Tous les jours` (3)\n",
    "\n",
    "Dans notre cas d'étude, nous allons transformer notre variable continue **`Experience`** en variable catégorielle **`Exp_label`** à 4 modalités en utilisant une méthode implémentée dans `pandas` directement.  \n",
    "Nous allons encoder la nouvelle variable catégorielle comme suit (classées par ordre hiérarchique) : \n",
    "\n",
    "* `Débutant` (0)\n",
    "* `Confirmé` (1)\n",
    "* `Avancé` (2)\n",
    "* `Expert` (3)  \n",
    "\n",
    "Il existe plusieurs façons de faire du **\"label encoding\"**, en utilisant le module `LabelEncoder` dans `scikit-learn`  ou bien les méthodes de catégorisation de `pandas`. Dans ce cas de figure, nous allons utiliser les méthodes de `pandas`."
   ]
  },
  {
   "cell_type": "code",
   "execution_count": 21,
   "metadata": {
    "scrolled": true
   },
   "outputs": [],
   "source": [
    "# make copy to avoid changing original data \n",
    "label_X_data = X_data.copy()"
   ]
  },
  {
   "cell_type": "code",
   "execution_count": 22,
   "metadata": {},
   "outputs": [
    {
     "data": {
      "text/plain": [
       "0       Débutant\n",
       "1       Débutant\n",
       "2       Débutant\n",
       "3       Débutant\n",
       "4       Débutant\n",
       "          ...   \n",
       "9577    Débutant\n",
       "9578      Avancé\n",
       "9579    Débutant\n",
       "9580      Expert\n",
       "9581    Débutant\n",
       "Name: Exp_label, Length: 9582, dtype: category\n",
       "Categories (4, object): ['Débutant' < 'Confirmé' < 'Avancé' < 'Expert']"
      ]
     },
     "execution_count": 22,
     "metadata": {},
     "output_type": "execute_result"
    }
   ],
   "source": [
    "# encode the new column using cut() method from pandas\n",
    "label_X_data['Exp_label'] = pd.cut(label_X_data['Experience'], 4, labels=['Débutant', 'Confirmé', 'Avancé', 'Expert'])\n",
    "# check the result\n",
    "label_X_data['Exp_label']"
   ]
  },
  {
   "cell_type": "code",
   "execution_count": 23,
   "metadata": {},
   "outputs": [
    {
     "data": {
      "text/html": [
       "<div>\n",
       "<style scoped>\n",
       "    .dataframe tbody tr th:only-of-type {\n",
       "        vertical-align: middle;\n",
       "    }\n",
       "\n",
       "    .dataframe tbody tr th {\n",
       "        vertical-align: top;\n",
       "    }\n",
       "\n",
       "    .dataframe thead th {\n",
       "        text-align: right;\n",
       "    }\n",
       "</style>\n",
       "<table border=\"1\" class=\"dataframe\">\n",
       "  <thead>\n",
       "    <tr style=\"text-align: right;\">\n",
       "      <th></th>\n",
       "      <th>Entreprise</th>\n",
       "      <th>Metier</th>\n",
       "      <th>Technologies</th>\n",
       "      <th>Diplome</th>\n",
       "      <th>Experience</th>\n",
       "      <th>Ville</th>\n",
       "      <th>Exp_label</th>\n",
       "    </tr>\n",
       "  </thead>\n",
       "  <tbody>\n",
       "    <tr>\n",
       "      <th>0</th>\n",
       "      <td>Sanofi</td>\n",
       "      <td>Data scientist</td>\n",
       "      <td>Matlab/Python/Pyspark/Scikit-learn/Tensorflow</td>\n",
       "      <td>Master</td>\n",
       "      <td>1.000000</td>\n",
       "      <td>Paris</td>\n",
       "      <td>Débutant</td>\n",
       "    </tr>\n",
       "    <tr>\n",
       "      <th>1</th>\n",
       "      <td>Massachusetts General Hospital(MGH)</td>\n",
       "      <td>Data architecte</td>\n",
       "      <td>Python/Java/Scala/MongoDB</td>\n",
       "      <td>Master</td>\n",
       "      <td>3.000000</td>\n",
       "      <td>Marseille</td>\n",
       "      <td>Débutant</td>\n",
       "    </tr>\n",
       "    <tr>\n",
       "      <th>2</th>\n",
       "      <td>Delve</td>\n",
       "      <td>Lead data scientist</td>\n",
       "      <td>SPSS/SQL/Teradata/R/Python/Tensorflow/scikit-l...</td>\n",
       "      <td>Master</td>\n",
       "      <td>3.000000</td>\n",
       "      <td>Nantes</td>\n",
       "      <td>Débutant</td>\n",
       "    </tr>\n",
       "    <tr>\n",
       "      <th>3</th>\n",
       "      <td>Ann &amp; Robert H. Lurie Children’s Hospital of C...</td>\n",
       "      <td>Data scientist</td>\n",
       "      <td>C/C++/Java/Python</td>\n",
       "      <td>Master</td>\n",
       "      <td>1.500000</td>\n",
       "      <td>Marseille</td>\n",
       "      <td>Débutant</td>\n",
       "    </tr>\n",
       "    <tr>\n",
       "      <th>4</th>\n",
       "      <td>Arm</td>\n",
       "      <td>Data scientist</td>\n",
       "      <td>Matlab/Python/C++/numpy/Tensorflow/scikit-learn</td>\n",
       "      <td>Phd</td>\n",
       "      <td>2.814186</td>\n",
       "      <td>Bordeaux</td>\n",
       "      <td>Débutant</td>\n",
       "    </tr>\n",
       "    <tr>\n",
       "      <th>...</th>\n",
       "      <td>...</td>\n",
       "      <td>...</td>\n",
       "      <td>...</td>\n",
       "      <td>...</td>\n",
       "      <td>...</td>\n",
       "      <td>...</td>\n",
       "      <td>...</td>\n",
       "    </tr>\n",
       "    <tr>\n",
       "      <th>9577</th>\n",
       "      <td>Massachusetts General Hospital(MGH)</td>\n",
       "      <td>Data scientist</td>\n",
       "      <td>C++/R/Python/Matlab/Matplotlib</td>\n",
       "      <td>Master</td>\n",
       "      <td>1.500000</td>\n",
       "      <td>Lyon</td>\n",
       "      <td>Débutant</td>\n",
       "    </tr>\n",
       "    <tr>\n",
       "      <th>9578</th>\n",
       "      <td>Charles River Analytics</td>\n",
       "      <td>Data scientist</td>\n",
       "      <td>Excel/Python/Matlab/R/machine learning/anglais</td>\n",
       "      <td>Master</td>\n",
       "      <td>11.000000</td>\n",
       "      <td>Toulouse</td>\n",
       "      <td>Avancé</td>\n",
       "    </tr>\n",
       "    <tr>\n",
       "      <th>9579</th>\n",
       "      <td>Ball Aerospace</td>\n",
       "      <td>Data scientist</td>\n",
       "      <td>R/machine learning/Excel/VBA</td>\n",
       "      <td>Master</td>\n",
       "      <td>1.000000</td>\n",
       "      <td>Paris</td>\n",
       "      <td>Débutant</td>\n",
       "    </tr>\n",
       "    <tr>\n",
       "      <th>9580</th>\n",
       "      <td>Takeda Pharmaceutical</td>\n",
       "      <td>Data scientist</td>\n",
       "      <td>Python/Pyspark/machine learning/Microsoft Azure</td>\n",
       "      <td>Master</td>\n",
       "      <td>17.000000</td>\n",
       "      <td>Rennes</td>\n",
       "      <td>Expert</td>\n",
       "    </tr>\n",
       "    <tr>\n",
       "      <th>9581</th>\n",
       "      <td>Vertex</td>\n",
       "      <td>Data scientist</td>\n",
       "      <td>VBA/Python/Excel/R</td>\n",
       "      <td>Phd</td>\n",
       "      <td>0.000000</td>\n",
       "      <td>Paris</td>\n",
       "      <td>Débutant</td>\n",
       "    </tr>\n",
       "  </tbody>\n",
       "</table>\n",
       "<p>9582 rows × 7 columns</p>\n",
       "</div>"
      ],
      "text/plain": [
       "                                             Entreprise               Metier  \\\n",
       "0                                                Sanofi       Data scientist   \n",
       "1                   Massachusetts General Hospital(MGH)      Data architecte   \n",
       "2                                                 Delve  Lead data scientist   \n",
       "3     Ann & Robert H. Lurie Children’s Hospital of C...       Data scientist   \n",
       "4                                                   Arm       Data scientist   \n",
       "...                                                 ...                  ...   \n",
       "9577                Massachusetts General Hospital(MGH)       Data scientist   \n",
       "9578                            Charles River Analytics       Data scientist   \n",
       "9579                                     Ball Aerospace       Data scientist   \n",
       "9580                              Takeda Pharmaceutical       Data scientist   \n",
       "9581                                             Vertex       Data scientist   \n",
       "\n",
       "                                           Technologies Diplome Experience  \\\n",
       "0         Matlab/Python/Pyspark/Scikit-learn/Tensorflow  Master   1.000000   \n",
       "1                             Python/Java/Scala/MongoDB  Master   3.000000   \n",
       "2     SPSS/SQL/Teradata/R/Python/Tensorflow/scikit-l...  Master   3.000000   \n",
       "3                                     C/C++/Java/Python  Master   1.500000   \n",
       "4       Matlab/Python/C++/numpy/Tensorflow/scikit-learn     Phd   2.814186   \n",
       "...                                                 ...     ...        ...   \n",
       "9577                     C++/R/Python/Matlab/Matplotlib  Master   1.500000   \n",
       "9578     Excel/Python/Matlab/R/machine learning/anglais  Master  11.000000   \n",
       "9579                       R/machine learning/Excel/VBA  Master   1.000000   \n",
       "9580    Python/Pyspark/machine learning/Microsoft Azure  Master  17.000000   \n",
       "9581                                 VBA/Python/Excel/R     Phd   0.000000   \n",
       "\n",
       "          Ville Exp_label  \n",
       "0         Paris  Débutant  \n",
       "1     Marseille  Débutant  \n",
       "2        Nantes  Débutant  \n",
       "3     Marseille  Débutant  \n",
       "4      Bordeaux  Débutant  \n",
       "...         ...       ...  \n",
       "9577       Lyon  Débutant  \n",
       "9578   Toulouse    Avancé  \n",
       "9579      Paris  Débutant  \n",
       "9580     Rennes    Expert  \n",
       "9581      Paris  Débutant  \n",
       "\n",
       "[9582 rows x 7 columns]"
      ]
     },
     "execution_count": 23,
     "metadata": {},
     "output_type": "execute_result"
    }
   ],
   "source": [
    "# get an overall view of the new transformed dataset \n",
    "label_X_data"
   ]
  },
  {
   "cell_type": "markdown",
   "metadata": {},
   "source": [
    "En comparant les données, nous pouvons dresser un tableau des différentes modalités de la variable catégorielle `Exp_label` qui sont : \n",
    "\n",
    "* **Entre 0 et 3 ans d'expérience :**  `Débutant` (0)\n",
    "* **Entre 5 ans et 8 ans d'expérience :** `Confirmé` (1)\n",
    "* **Entre 10 ans et 13 ans d'expérience :** `Avancé` (2)\n",
    "* **Plus de 13 ans d'expérience :** `Expert` (3)  "
   ]
  },
  {
   "cell_type": "markdown",
   "metadata": {},
   "source": [
    "### 7) Quelles sont les 5 technologies les plus utilisées? Faites un graphique\n",
    "\n",
    "\n",
    "**Réponse :**\n",
    "\n",
    "Nous allons d'abord prétaiter les données contenues dans la catégorie **`Technologies`**, nous transformons la catégorie en `list` puis faisons en sorte de rassembler tous les éléments de cette liste ensemble dans une **\"super list\"**. A partir de cette **\"super list\"**, nous pouvons compter le nombre de répétitions des différentes technologies pour pouvoir déterminer lesquelles sont les plus utilisées. Pour ce faire, nous allons utiliser la méthode **count()** en même temps qu'un dictionnaire Python. "
   ]
  },
  {
   "cell_type": "code",
   "execution_count": 24,
   "metadata": {
    "scrolled": true
   },
   "outputs": [
    {
     "name": "stdout",
     "output_type": "stream",
     "text": [
      "0           Matlab/Python/Pyspark/Scikit-learn/Tensorflow\n",
      "1                               Python/Java/Scala/MongoDB\n",
      "2       SPSS/SQL/Teradata/R/Python/Tensorflow/scikit-l...\n",
      "3                                       C/C++/Java/Python\n",
      "4         Matlab/Python/C++/numpy/Tensorflow/scikit-learn\n",
      "                              ...                        \n",
      "9577                       C++/R/Python/Matlab/Matplotlib\n",
      "9578       Excel/Python/Matlab/R/machine learning/anglais\n",
      "9579                         R/machine learning/Excel/VBA\n",
      "9580      Python/Pyspark/machine learning/Microsoft Azure\n",
      "9581                                   VBA/Python/Excel/R\n",
      "Name: Technologies, Length: 9582, dtype: object\n"
     ]
    }
   ],
   "source": [
    "# make copy to avoid changing original data \n",
    "lst_X_data = label_X_data.copy()\n",
    "\n",
    "# for checking\n",
    "print(lst_X_data['Technologies'])"
   ]
  },
  {
   "cell_type": "code",
   "execution_count": 25,
   "metadata": {},
   "outputs": [],
   "source": [
    "def extract_slash(lst): \n",
    "    \"\"\" This function split the elements with a slash suffix\"\"\"\n",
    "    res = [] \n",
    "    for element in lst: \n",
    "        sub_list = element.split('/') \n",
    "        res.append(sub_list) \n",
    "      \n",
    "    return(res) "
   ]
  },
  {
   "cell_type": "code",
   "execution_count": 26,
   "metadata": {},
   "outputs": [],
   "source": [
    "# transform into a list\n",
    "raw_tech_list = lst_X_data['Technologies'].tolist()\n",
    "\n",
    "# extract elements with a slash suffix and stored them in sublists\n",
    "raw_tech_list = extract_slash(raw_tech_list)\n",
    "tech_list = []\n",
    "for elem in raw_tech_list:\n",
    "    tech_list.extend(elem)\n",
    "\n",
    "# check our list\n",
    "#print(tech_list)"
   ]
  },
  {
   "cell_type": "code",
   "execution_count": 27,
   "metadata": {},
   "outputs": [
    {
     "name": "stdout",
     "output_type": "stream",
     "text": [
      "{'Matlab': 871, 'Python': 6627, 'Pyspark': 448, 'Scikit-learn': 313, 'Tensorflow': 848, 'Java': 1719, 'Scala': 310, 'MongoDB': 1166, 'SPSS': 359, 'SQL': 2581, 'Teradata': 610, 'R': 4374, 'scikit-learn': 476, 'C': 739, 'C++': 1381, 'numpy': 140, 'VBA': 1003, 'Excel': 1398, 'PySpark': 145, 'Linux': 1183, 'Docker': 927, 'GNU': 677, 'Hadoop': 1589, 'Hive': 864, 'MariaDB': 335, 'machine learning': 996, 'Spark': 1240, 'AWS': 691, 'Deep learning': 227, 'PostgreSQL': 208, 'Elasticsearch': 826, 'Kibana': 728, 'HDFS': 361, 'Yarn': 206, 'Microsoft Azure': 338, 'Redshift': 124, 'SAS': 943, 'Machine learning': 458, 'Anglais': 458, 'anglais': 145, 'AI': 250, 'Scoring': 250, 'Perl': 74, 'Ruby': 35, 'Pycharm': 235, 'Vertica': 250, 'Tableau': 250, '': 539, 'Big data': 824, 'Kafka': 235, 'ORACLE': 94, 'MySQL': 94, 'Cassandra': 284, 'NoSQL': 232, 'Matplotlib': 273, 'Map-Reduce': 155, 'PIG': 155, 'HBASE': 155, 'Windows': 75, 'NoSQ': 123, 'Hadoop(HDFS)': 98}\n"
     ]
    }
   ],
   "source": [
    "# dict before processing\n",
    "tech_dict_no_processed = {i:tech_list.count(i) for i in tech_list}\n",
    "print(tech_dict_no_processed)"
   ]
  },
  {
   "cell_type": "markdown",
   "metadata": {},
   "source": [
    "Nous remarquons qu'il y a des soucis dans les noms de certaines technologies. En effet par exemple pour `scikit-learn` : il y a deux écritures différentes dans notre catégorie **`Technologies`**, avec le **s** majuscule ou mininuscule; nous devons donc uniformiser tous les mots clés avant de pouvoir faire notre compte des répétitions. Il y a d'autres technologies identiques mais écrites de façon différente, nous devons donc les traiter au préalable."
   ]
  },
  {
   "cell_type": "code",
   "execution_count": 28,
   "metadata": {},
   "outputs": [],
   "source": [
    "# replace all the redundants words with only 1 version\n",
    "tech_list_processed = []\n",
    "for tech in tech_list:\n",
    "    word1 = tech.replace(\"Pyspark\", \"PySpark\").replace(\"scikit-learn\", \"Scikit-learn\").replace(\"anglais\", \"Anglais\").replace(\"machine learning\", \"Machine Learning\").replace(\"Hadoop(HDFS)\", \"HDFS\").replace(\"NoSQ\", \"NoSQL\")\n",
    "    tech_list_processed.append(word1)\n",
    "\n",
    "# check our resulting list   \n",
    "#print(tech_list_processed)    "
   ]
  },
  {
   "cell_type": "code",
   "execution_count": 29,
   "metadata": {},
   "outputs": [
    {
     "name": "stdout",
     "output_type": "stream",
     "text": [
      "{'Python': 6627, 'R': 4374, 'SQL': 2581, 'Java': 1719, 'Hadoop': 1589, 'Excel': 1398, 'C++': 1381, 'Spark': 1240, 'Linux': 1183, 'MongoDB': 1166, 'VBA': 1003, 'Machine Learning': 996, 'SAS': 943, 'Docker': 927, 'Matlab': 871, 'Hive': 864, 'Tensorflow': 848, 'Elasticsearch': 826, 'Big data': 824, 'Scikit-learn': 789, 'C': 739, 'Kibana': 728, 'AWS': 691, 'GNU': 677, 'Teradata': 610, 'Anglais': 603, 'PySpark': 593, '': 539, 'HDFS': 459, 'Machine learning': 458, 'SPSS': 359, 'Microsoft Azure': 338, 'MariaDB': 335, 'Scala': 310, 'Cassandra': 284, 'Matplotlib': 273, 'AI': 250, 'Scoring': 250, 'Vertica': 250, 'Tableau': 250, 'Pycharm': 235, 'Kafka': 235, 'NoSQLL': 232, 'Deep learning': 227, 'PostgreSQL': 208, 'Yarn': 206, 'Map-Reduce': 155, 'PIG': 155, 'HBASE': 155, 'numpy': 140, 'Redshift': 124, 'NoSQL': 123, 'ORACLE': 94, 'MySQL': 94, 'Windows': 75, 'Perl': 74, 'Ruby': 35}\n"
     ]
    }
   ],
   "source": [
    "# processed dict\n",
    "tech_dict = {i:tech_list_processed.count(i) for i in tech_list_processed}\n",
    "\n",
    "# sorted technologies dict in descending order\n",
    "sorted_dict = dict(sorted(tech_dict.items(), key=lambda item: item[1], reverse=True))\n",
    "print(sorted_dict)"
   ]
  },
  {
   "cell_type": "code",
   "execution_count": 30,
   "metadata": {},
   "outputs": [
    {
     "data": {
      "text/plain": [
       "['Python', 'R', 'SQL', 'Java', 'Hadoop']"
      ]
     },
     "execution_count": 30,
     "metadata": {},
     "output_type": "execute_result"
    }
   ],
   "source": [
    "# get the first 5 most used technologies\n",
    "max_5_values_tech_dict = sorted(tech_dict, key=tech_dict.get, reverse=True)[:5]\n",
    "max_5_values_tech_dict"
   ]
  },
  {
   "cell_type": "markdown",
   "metadata": {},
   "source": [
    "**Résultats :** On observe que les 5 technologies les plus utilisées sont : \n",
    "- Python (6627 apparitions)\n",
    "- R      (4374 apparitions)\n",
    "- SQL    (2581 apparitions)\n",
    "- Java   (1719 apparitions)\n",
    "- Hadoop (1589 apparitions)\n",
    "\n",
    "Vu que l'on a traité au préalable les éléments de la liste `Technologies`, et qu'on les a stockés dans un `dict`, nous pouvons désormais tracer un histogramme des différentes technologies par rapport à leur redondance."
   ]
  },
  {
   "cell_type": "code",
   "execution_count": 31,
   "metadata": {},
   "outputs": [
    {
     "data": {
      "text/plain": [
       "<BarContainer object of 5 artists>"
      ]
     },
     "execution_count": 31,
     "metadata": {},
     "output_type": "execute_result"
    },
    {
     "data": {
      "image/png": "[encoded data removed]",
      "text/plain": [
       "<Figure size 720x576 with 1 Axes>"
      ]
     },
     "metadata": {},
     "output_type": "display_data"
    }
   ],
   "source": [
    "# plot histogram\n",
    "f, ax = plt.subplots(figsize=(10, 8))\n",
    "\n",
    "ax.set_ylabel('Apparitions in work resumes')\n",
    "ax.set_xlabel('Technologies')\n",
    "ax.set_title('Most used technologies in data science jobs')\n",
    "\n",
    "# limit our dictionnary to the first 5 max values\n",
    "keys = dict(list(sorted_dict.items())[0:5]).keys()\n",
    "values = dict(list(sorted_dict.items())[0:5]).values()\n",
    "\n",
    "plt.bar(keys,values)"
   ]
  },
  {
   "cell_type": "markdown",
   "metadata": {},
   "source": [
    "### 8) Réaliser une méthode de clustering non supervisée de votre choix pour faire apparaître 2 clusters que vous jugerez pertinents. Donnez les caractéristiques de chacun des clusters.\n",
    "-  Justifier la performance de votre algorithme grace à une métrique.\n",
    "-  Interpréter votre resultat.  \n",
    "\n",
    "\n",
    "**Réponse :**  \n",
    "\n",
    "Pour cette question, nous allons utiliser les algorithmes de clustering présent dans `scikit-learn`. Nous jugeons pertinent qu'il y ait un rapport entre les colonnes `Exp_label` et `Experience`, nous allons donc faire apparaître ces deux clusters.\n",
    "\n",
    "Comme nous l'avons dit précédemment, il y a des valeurs d'expérience manquantes pour le travail de Data Engineer. Nous décidons alors de **reconstituer un nouveau dataset** (à partir du dataset avant imputation) en remplissant les profils d'expérience de Data Engineer par une valeur d'expérience médiane (dans la colonne `Experience`) et ainsi créer la nouvelle catégorie `Exp_label` mise à jour par rapport à celle que l'on avait auparavant (dans les précédentes questions)."
   ]
  },
  {
   "cell_type": "code",
   "execution_count": 32,
   "metadata": {},
   "outputs": [],
   "source": [
    "# copy the dataset before applying categorical encoding (in the question 3)\n",
    "X_cluster_data = X_data.copy()\n",
    "#X_cluster_data"
   ]
  },
  {
   "cell_type": "code",
   "execution_count": 33,
   "metadata": {},
   "outputs": [
    {
     "name": "stdout",
     "output_type": "stream",
     "text": [
      "Entreprise       True\n",
      "Metier           True\n",
      "Technologies    False\n",
      "Diplome         False\n",
      "Experience       True\n",
      "Ville           False\n",
      "dtype: bool\n"
     ]
    }
   ],
   "source": [
    "# we're checking if there are any missing values \n",
    "print(X_cluster_data.isna().any())"
   ]
  },
  {
   "cell_type": "markdown",
   "metadata": {},
   "source": [
    "Il y a des valeurs manquantes dans la colonne `Experience`."
   ]
  },
  {
   "cell_type": "code",
   "execution_count": 34,
   "metadata": {
    "scrolled": true
   },
   "outputs": [
    {
     "name": "stdout",
     "output_type": "stream",
     "text": [
      "Are there any missing values for data architecte? : True\n",
      "\n",
      "There are 23 missing year of working experience values for the data architecte job.\n"
     ]
    }
   ],
   "source": [
    "# convert the column type to float type\n",
    "X_cluster_data['Experience'] = X_cluster_data['Experience'].astype(float)\n",
    "\n",
    "# mask for data architecte (cf question 4)\n",
    "mask4 = (X_data['Metier'] == 'Data architecte')\n",
    "\n",
    "print(\"Are there any missing values for data architecte? :\", X_cluster_data.loc[mask4, 'Experience'].isna().any())\n",
    "print(\"\\nThere are\", X_cluster_data.loc[mask4, 'Experience'].isna().sum(), \"missing year of working experience values for the data architecte job.\")"
   ]
  },
  {
   "cell_type": "code",
   "execution_count": 35,
   "metadata": {},
   "outputs": [
    {
     "name": "stdout",
     "output_type": "stream",
     "text": [
      "Are there any missing values for data architecte? : False\n",
      "\n",
      "There are 0 missing year of working experience values for the data architecte job.\n"
     ]
    }
   ],
   "source": [
    "# fill na values for data architecte experience in 'Experience' column \n",
    "X_cluster_data.loc[mask4, 'Experience'] = X_cluster_data.loc[mask4, 'Experience'].fillna(X_cluster_data['Experience'].median())\n",
    "\n",
    "# test if there are still na values \n",
    "print(\"Are there any missing values for data architecte? :\", X_cluster_data.loc[mask4, 'Experience'].isna().any())\n",
    "print(\"\\nThere are\", X_cluster_data.loc[mask4, 'Experience'].isna().sum(), \"missing year of working experience values for the data architecte job.\")"
   ]
  },
  {
   "cell_type": "markdown",
   "metadata": {},
   "source": [
    "Il n'y a désormais plus aucune valeurs manquantes dans nos données essentielles (`Experience` et `Exp_label`)."
   ]
  },
  {
   "cell_type": "code",
   "execution_count": 36,
   "metadata": {},
   "outputs": [],
   "source": [
    "# encode the new column using cut() method from pandas\n",
    "X_cluster_data['Exp_label'] = pd.cut(X_cluster_data['Experience'], 4, labels=['Débutant', 'Confirmé', 'Avancé', 'Expert'])\n",
    "# check the result\n",
    "#print(X_cluster_data['Exp_label'],'\\n\\n')\n",
    "# overview of the new column 'Experience'\n",
    "#print(X_cluster_data['Experience'])"
   ]
  },
  {
   "cell_type": "code",
   "execution_count": 37,
   "metadata": {},
   "outputs": [
    {
     "name": "stdout",
     "output_type": "stream",
     "text": [
      "Are there any missing values for the 'Experience' column ? : False\n",
      "Are there any missing values for the 'Exp_label' column ? : False\n",
      "\n",
      "Statistical data of the 'Experience' column after filling missing values from data architecte jobs:\n"
     ]
    },
    {
     "data": {
      "text/html": [
       "<div>\n",
       "<style scoped>\n",
       "    .dataframe tbody tr th:only-of-type {\n",
       "        vertical-align: middle;\n",
       "    }\n",
       "\n",
       "    .dataframe tbody tr th {\n",
       "        vertical-align: top;\n",
       "    }\n",
       "\n",
       "    .dataframe thead th {\n",
       "        text-align: right;\n",
       "    }\n",
       "</style>\n",
       "<table border=\"1\" class=\"dataframe\">\n",
       "  <thead>\n",
       "    <tr style=\"text-align: right;\">\n",
       "      <th></th>\n",
       "      <th>Experience</th>\n",
       "    </tr>\n",
       "  </thead>\n",
       "  <tbody>\n",
       "    <tr>\n",
       "      <th>count</th>\n",
       "      <td>9582.000000</td>\n",
       "    </tr>\n",
       "    <tr>\n",
       "      <th>mean</th>\n",
       "      <td>2.810533</td>\n",
       "    </tr>\n",
       "    <tr>\n",
       "      <th>std</th>\n",
       "      <td>2.703483</td>\n",
       "    </tr>\n",
       "    <tr>\n",
       "      <th>min</th>\n",
       "      <td>0.000000</td>\n",
       "    </tr>\n",
       "    <tr>\n",
       "      <th>25%</th>\n",
       "      <td>1.000000</td>\n",
       "    </tr>\n",
       "    <tr>\n",
       "      <th>50%</th>\n",
       "      <td>2.000000</td>\n",
       "    </tr>\n",
       "    <tr>\n",
       "      <th>75%</th>\n",
       "      <td>3.500000</td>\n",
       "    </tr>\n",
       "    <tr>\n",
       "      <th>max</th>\n",
       "      <td>21.000000</td>\n",
       "    </tr>\n",
       "  </tbody>\n",
       "</table>\n",
       "</div>"
      ],
      "text/plain": [
       "        Experience\n",
       "count  9582.000000\n",
       "mean      2.810533\n",
       "std       2.703483\n",
       "min       0.000000\n",
       "25%       1.000000\n",
       "50%       2.000000\n",
       "75%       3.500000\n",
       "max      21.000000"
      ]
     },
     "execution_count": 37,
     "metadata": {},
     "output_type": "execute_result"
    }
   ],
   "source": [
    "# check if there are still missing values\n",
    "print(\"Are there any missing values for the 'Experience' column ? :\", X_cluster_data['Experience'].isna().any())\n",
    "print(\"Are there any missing values for the 'Exp_label' column ? :\", X_cluster_data['Exp_label'].isna().any())\n",
    "# generate descriptive statistics of the 'Experience' column which is the only column with float values\n",
    "print(\"\\nStatistical data of the 'Experience' column after filling missing values from data architecte jobs:\")\n",
    "X_cluster_data.describe()"
   ]
  },
  {
   "cell_type": "code",
   "execution_count": 38,
   "metadata": {
    "scrolled": false
   },
   "outputs": [
    {
     "data": {
      "text/plain": [
       "Diplome       False\n",
       "Experience    False\n",
       "dtype: bool"
      ]
     },
     "execution_count": 38,
     "metadata": {},
     "output_type": "execute_result"
    }
   ],
   "source": [
    "# we define the clusters category columns\n",
    "clusters_category = pd.DataFrame(X_cluster_data, columns=['Diplome', 'Experience'])\n",
    "# checking missing values\n",
    "clusters_category.isna().any()"
   ]
  },
  {
   "cell_type": "code",
   "execution_count": 39,
   "metadata": {},
   "outputs": [],
   "source": [
    "# overview of our clusters' categories\n",
    "#clusters_category"
   ]
  },
  {
   "cell_type": "markdown",
   "metadata": {},
   "source": [
    "Pour pouvoir appliquer l'algorithme non supervisé `KMeans`, il faut que les données de la colonne **`Diplome`** soit au format `int32` pour permettre leur exploitation. Sachant que nous savons déjà que les valeurs dans cette colonne sont hiérarchisées (**cf. q6**), nous pouvons effectuer une méthode d'encodage directement sur la colonne **`Diplome`** pour convertir les valeurs `str` en labels exploitables de type `int32` (0 ou 1).\n",
    "\n",
    "Nous allons donc appliquer une méthode d'encodage appelée (**label encoding**) sur la variable continue **`Diplome`** pour pouvoir exploiter les valeurs de celle-ci dans le cadre de notre algorithme non supervisé."
   ]
  },
  {
   "cell_type": "code",
   "execution_count": 40,
   "metadata": {},
   "outputs": [
    {
     "name": "stdout",
     "output_type": "stream",
     "text": [
      "Object variables:\n",
      "['Diplome']\n"
     ]
    }
   ],
   "source": [
    "# Get list of categorical variables\n",
    "data_type_object = (clusters_category.dtypes == 'object')\n",
    "object_cols = list(data_type_object[data_type_object].index)\n",
    "\n",
    "print(\"Object variables:\")\n",
    "print(object_cols)"
   ]
  },
  {
   "cell_type": "markdown",
   "metadata": {},
   "source": [
    "Pour des soucis de priorités (ordre) dans la méthode de **label encoding**, nous allons remplacer \"No diploma\" par \"0 diploma\" qui est le niveau le plus bas par rapport aux valeurs ordinales (\"Bachelor\", \"Master\", \"PhD\")."
   ]
  },
  {
   "cell_type": "code",
   "execution_count": 41,
   "metadata": {},
   "outputs": [],
   "source": [
    "# replace \"no diploma\" by \"0 diploma\"\n",
    "clusters_category['Diplome'] = clusters_category['Diplome'].replace(['No diploma'], '0 diploma')\n",
    "# checking\n",
    "# clusters_category['Diplome'].head(20)"
   ]
  },
  {
   "cell_type": "code",
   "execution_count": 42,
   "metadata": {},
   "outputs": [],
   "source": [
    "from sklearn.preprocessing import LabelEncoder\n",
    "\n",
    "# make copy to avoid changing original data \n",
    "label_X_cluster_data = clusters_category.copy()\n",
    "\n",
    "# Apply label encoder to each column with categorical data\n",
    "label_encoder = LabelEncoder()\n",
    "for col in object_cols:\n",
    "    label_X_cluster_data[col] = label_encoder.fit_transform(clusters_category[col])\n",
    "\n",
    "\n",
    "# checking\n",
    "#print(label_X_cluster_data['Diplome'].dtypes)\n",
    "#label_X_cluster_data"
   ]
  },
  {
   "cell_type": "code",
   "execution_count": 43,
   "metadata": {},
   "outputs": [
    {
     "data": {
      "text/plain": [
       "0         Master Degree and higher\n",
       "1         Master Degree and higher\n",
       "2         Master Degree and higher\n",
       "3         Master Degree and higher\n",
       "4         Master Degree and higher\n",
       "5         Master Degree and higher\n",
       "6     0 diploma or Bachelor Degree\n",
       "7     0 diploma or Bachelor Degree\n",
       "8     0 diploma or Bachelor Degree\n",
       "9         Master Degree and higher\n",
       "10        Master Degree and higher\n",
       "11        Master Degree and higher\n",
       "12        Master Degree and higher\n",
       "13        Master Degree and higher\n",
       "14        Master Degree and higher\n",
       "15        Master Degree and higher\n",
       "16        Master Degree and higher\n",
       "17        Master Degree and higher\n",
       "18        Master Degree and higher\n",
       "19    0 diploma or Bachelor Degree\n",
       "Name: Dip_label, dtype: category\n",
       "Categories (2, object): ['0 diploma or Bachelor Degree' < 'Master Degree and higher']"
      ]
     },
     "execution_count": 43,
     "metadata": {},
     "output_type": "execute_result"
    }
   ],
   "source": [
    "# encode the new column using cut() method from pandas\n",
    "label_X_cluster_data['Diplome'].astype(float)\n",
    "label_X_cluster_data['Dip_label'] = pd.cut(label_X_cluster_data['Diplome'], 2, labels=['0 diploma or Bachelor Degree', 'Master Degree and higher'])\n",
    "# check the result\n",
    "label_X_cluster_data['Dip_label'].head(20)"
   ]
  },
  {
   "cell_type": "code",
   "execution_count": 44,
   "metadata": {},
   "outputs": [
    {
     "data": {
      "text/plain": [
       "Diplome       False\n",
       "Experience    False\n",
       "Dip_label     False\n",
       "dtype: bool"
      ]
     },
     "execution_count": 44,
     "metadata": {},
     "output_type": "execute_result"
    }
   ],
   "source": [
    "# checking again for missing values\n",
    "label_X_cluster_data.isna().any()"
   ]
  },
  {
   "cell_type": "code",
   "execution_count": 45,
   "metadata": {},
   "outputs": [],
   "source": [
    "# get only the 'Experience' and 'Dip_label' column we need.\n",
    "label_X_cluster_data = label_X_cluster_data.drop(columns = 'Diplome')"
   ]
  },
  {
   "cell_type": "code",
   "execution_count": 46,
   "metadata": {},
   "outputs": [
    {
     "data": {
      "text/html": [
       "<div>\n",
       "<style scoped>\n",
       "    .dataframe tbody tr th:only-of-type {\n",
       "        vertical-align: middle;\n",
       "    }\n",
       "\n",
       "    .dataframe tbody tr th {\n",
       "        vertical-align: top;\n",
       "    }\n",
       "\n",
       "    .dataframe thead th {\n",
       "        text-align: right;\n",
       "    }\n",
       "</style>\n",
       "<table border=\"1\" class=\"dataframe\">\n",
       "  <thead>\n",
       "    <tr style=\"text-align: right;\">\n",
       "      <th></th>\n",
       "      <th>Experience</th>\n",
       "      <th>Dip_label</th>\n",
       "    </tr>\n",
       "  </thead>\n",
       "  <tbody>\n",
       "    <tr>\n",
       "      <th>0</th>\n",
       "      <td>1.000000</td>\n",
       "      <td>Master Degree and higher</td>\n",
       "    </tr>\n",
       "    <tr>\n",
       "      <th>1</th>\n",
       "      <td>3.000000</td>\n",
       "      <td>Master Degree and higher</td>\n",
       "    </tr>\n",
       "    <tr>\n",
       "      <th>2</th>\n",
       "      <td>3.000000</td>\n",
       "      <td>Master Degree and higher</td>\n",
       "    </tr>\n",
       "    <tr>\n",
       "      <th>3</th>\n",
       "      <td>1.500000</td>\n",
       "      <td>Master Degree and higher</td>\n",
       "    </tr>\n",
       "    <tr>\n",
       "      <th>4</th>\n",
       "      <td>2.814186</td>\n",
       "      <td>Master Degree and higher</td>\n",
       "    </tr>\n",
       "    <tr>\n",
       "      <th>...</th>\n",
       "      <td>...</td>\n",
       "      <td>...</td>\n",
       "    </tr>\n",
       "    <tr>\n",
       "      <th>9577</th>\n",
       "      <td>1.500000</td>\n",
       "      <td>Master Degree and higher</td>\n",
       "    </tr>\n",
       "    <tr>\n",
       "      <th>9578</th>\n",
       "      <td>11.000000</td>\n",
       "      <td>Master Degree and higher</td>\n",
       "    </tr>\n",
       "    <tr>\n",
       "      <th>9579</th>\n",
       "      <td>1.000000</td>\n",
       "      <td>Master Degree and higher</td>\n",
       "    </tr>\n",
       "    <tr>\n",
       "      <th>9580</th>\n",
       "      <td>17.000000</td>\n",
       "      <td>Master Degree and higher</td>\n",
       "    </tr>\n",
       "    <tr>\n",
       "      <th>9581</th>\n",
       "      <td>0.000000</td>\n",
       "      <td>Master Degree and higher</td>\n",
       "    </tr>\n",
       "  </tbody>\n",
       "</table>\n",
       "<p>9582 rows × 2 columns</p>\n",
       "</div>"
      ],
      "text/plain": [
       "      Experience                 Dip_label\n",
       "0       1.000000  Master Degree and higher\n",
       "1       3.000000  Master Degree and higher\n",
       "2       3.000000  Master Degree and higher\n",
       "3       1.500000  Master Degree and higher\n",
       "4       2.814186  Master Degree and higher\n",
       "...          ...                       ...\n",
       "9577    1.500000  Master Degree and higher\n",
       "9578   11.000000  Master Degree and higher\n",
       "9579    1.000000  Master Degree and higher\n",
       "9580   17.000000  Master Degree and higher\n",
       "9581    0.000000  Master Degree and higher\n",
       "\n",
       "[9582 rows x 2 columns]"
      ]
     },
     "execution_count": 46,
     "metadata": {},
     "output_type": "execute_result"
    }
   ],
   "source": [
    "label_X_cluster_data"
   ]
  },
  {
   "cell_type": "markdown",
   "metadata": {},
   "source": [
    "Maintenant que nous disposons de notre colonne **`Dip_label`**, nous devons labelliser la colonne pour qu'elle possède que des valeurs de type `int32`.  \n",
    "On applique le **label_encoding**."
   ]
  },
  {
   "cell_type": "code",
   "execution_count": 47,
   "metadata": {},
   "outputs": [
    {
     "name": "stdout",
     "output_type": "stream",
     "text": [
      "Object variables:\n",
      "['Dip_label']\n"
     ]
    }
   ],
   "source": [
    "# Get list of categorical variables\n",
    "data_type_object = (label_X_cluster_data.dtypes == 'category')\n",
    "object_cols = list(data_type_object[data_type_object].index)\n",
    "\n",
    "print(\"Object variables:\")\n",
    "print(object_cols)"
   ]
  },
  {
   "cell_type": "code",
   "execution_count": 55,
   "metadata": {},
   "outputs": [],
   "source": [
    "# label encoding the Dip_label column \n",
    "\n",
    "# make copy to avoid changing original data \n",
    "X_dip_label = label_X_cluster_data.copy()\n",
    "\n",
    "# Apply label encoder to each column with categorical data\n",
    "label_encoder = LabelEncoder()\n",
    "for col in object_cols:\n",
    "    X_dip_label[col] = label_encoder.fit_transform(label_X_cluster_data[col])\n",
    "\n",
    "# checking\n",
    "#X_dip_label.head(15)"
   ]
  },
  {
   "cell_type": "markdown",
   "metadata": {},
   "source": [
    "A FINIR DEMAIN"
   ]
  },
  {
   "cell_type": "code",
   "execution_count": 54,
   "metadata": {
    "scrolled": true
   },
   "outputs": [
    {
     "name": "stdout",
     "output_type": "stream",
     "text": [
      "[0 0 0 0 0 1 0 0 1 1 0 0 0 0 0 0 0 0 0 1 0 0 1 0 0 1 1 0 0 1 0 0 0 0 0 0 0\n",
      " 0 0 1 0 0 1 0 0 0 0 0 0 1]\n"
     ]
    }
   ],
   "source": [
    "from sklearn.cluster import KMeans\n",
    "\n",
    "kmeans = KMeans(n_clusters=2, random_state=0)\n",
    "y = kmeans.fit_predict(X_dip_label)\n",
    "print(y[:50])"
   ]
  },
  {
   "cell_type": "markdown",
   "metadata": {},
   "source": [
    "### 9) Réaliser la prédiction des métiers manquants dans la base de données par l'algorithme de votre choix\n",
    "-  Justifier la performance de votre algorithme grace à une métrique.\n",
    "-  Interpréter votre resultat.  "
   ]
  },
  {
   "cell_type": "markdown",
   "metadata": {},
   "source": [
    "Métiers manquants : utilisation de l'algorithme précédent pour déterminer les missing values puis utiliser un algorithm e d'apprentissage supervisé pour essayer de prédire compte tenu des 5 autres features (ecole, entreprise, ville, diplome et experience) => quels sont les métiers qui manquent"
   ]
  },
  {
   "cell_type": "code",
   "execution_count": null,
   "metadata": {},
   "outputs": [],
   "source": []
  },
  {
   "cell_type": "code",
   "execution_count": null,
   "metadata": {},
   "outputs": [],
   "source": [
    "final_tech_list = []\n",
    "for lists in final_raw_tech_list:\n",
    "    #print(lists)\n",
    "    for elem in lists:          \n",
    "        if (elem == '' or elem == \"\"):\n",
    "            lists.remove(elem) \n",
    "        if \"Pyspark\" in elem:\n",
    "            elem = elem.replace(\"Pyspark\", \"PySpark\")\n",
    "        elif \"scikit-learn\" in elem:\n",
    "            elem = elem.replace(\"scikit-learn\", \"Scikit-learn\")\n",
    "        elif \"anglais\" in elem:\n",
    "            elem = elem.replace(\"anglais\", \"Anglais\")\n",
    "        elif \"machine learning\" in elem:            \n",
    "            elem = elem.replace(\"machine learning\", \"Machine Learning\")\n",
    "        elif \"Machine learning\" in elem:\n",
    "            elem = elem.replace(\"Machine learning\", \"Machine Learning\")\n",
    "        elif \"Hadoop(HDFS)\" in elem:\n",
    "            elem = elem.replace(\"Hadoop(HDFS)\", \"HDFS\")\n",
    "        elif \"NoSQ\" in elem:\n",
    "            elem = elem.replace(\"NoSQ\", \"NoSQL\")\n",
    "        elif \"NoSQLL\" in elem:\n",
    "            elem = elem.replace(\"NoSQLL\", \"NoSQL\")\n",
    "        \n",
    "        print(elem)"
   ]
  },
  {
   "cell_type": "code",
   "execution_count": null,
   "metadata": {},
   "outputs": [],
   "source": [
    "new_elem = elem.replace(\"Pyspark\", \"PySpark\"\n",
    "                             ).replace(\"scikit-learn\", \"Scikit-learn\"\n",
    "                             ).replace(\"anglais\", \"Anglais\"\n",
    "                             ).replace(\"machine learning\", \"Machine Learning\"\n",
    "                             ).replace(\"Machine learning\", \"Machine Learning\"\n",
    "                             ).replace(\"Hadoop(HDFS)\", \"HDFS\"\n",
    "                             ).replace(\"NoSQ\", \"NoSQL\"\n",
    "                             ).replace(\"NoSQLL\", \"NoSQL\")"
   ]
  },
  {
   "cell_type": "code",
   "execution_count": null,
   "metadata": {},
   "outputs": [],
   "source": [
    "from sklearn.preprocessing import MultiLabelBinarizer\n",
    "\n",
    "mlb = MultiLabelBinarizer()\n",
    "\n",
    "mlb.fit_transform(final_tech_list)\n",
    "mlb.classes_"
   ]
  },
  {
   "cell_type": "code",
   "execution_count": null,
   "metadata": {},
   "outputs": [],
   "source": [
    "# get the number of technologies used\n",
    "number_tech = set(tech_list_processed)\n",
    "number_tech.remove('') #removing undesired value\n",
    "print(f'{number_tech}\\n')\n",
    "print(f'Number of technologies used in data science jobs : {len(number_tech)}')"
   ]
  },
  {
   "cell_type": "code",
   "execution_count": null,
   "metadata": {},
   "outputs": [],
   "source": [
    "processed_tech_list = []\n",
    "for i, lists in enumerate(final_tech_list):\n",
    "    #print(i, lists)\n",
    "    for j, elem in enumerate(lists):\n",
    "        lists = filter(None,lists)\n",
    "        lists = list(lists)\n",
    "        #print(lists)\n",
    "    processed_tech_list.append(lists)\n",
    "    \n",
    "processed_tech_list "
   ]
  },
  {
   "cell_type": "markdown",
   "metadata": {},
   "source": [
    "(**brouillon**) Métiers manquants : utilisation de l'algorithme précédent pour déterminer les missing values puis utiliser un algorithm e d'apprentissage supervisé pour essayer de prédire compte tenu des 5 autres features (ecole, entreprise, ville, diplome et experience) => quels sont les métiers qui manquent"
   ]
  },
  {
   "cell_type": "code",
   "execution_count": 121,
   "metadata": {},
   "outputs": [
    {
     "data": {
      "text/plain": [
       "0       NaN\n",
       "1       NaN\n",
       "2       NaN\n",
       "3       NaN\n",
       "4       NaN\n",
       "       ... \n",
       "9577    NaN\n",
       "9578    NaN\n",
       "9579    NaN\n",
       "9580    NaN\n",
       "9581    NaN\n",
       "Length: 9582, dtype: category\n",
       "Categories (4, object): ['Data architecte', 'Data engineer', 'Data scientist', 'Lead data scientist']"
      ]
     },
     "execution_count": 121,
     "metadata": {},
     "output_type": "execute_result"
    }
   ],
   "source": [
    "test_data_temp = test_data['Metier'].cat.codes\n",
    "test_data_final = test_data_temp.where(~test_data['Metier'].isna(), test_data['Metier'])"
   ]
  },
  {
   "cell_type": "code",
   "execution_count": null,
   "metadata": {},
   "outputs": [],
   "source": [
    "En comparant les données, nous pouvons dresser un tableau des différentes modalités de la variable catégorielle `Exp_label` qui sont : \n",
    "\n",
    "* **Entre 0 et 3 ans d'expérience :**  `Débutant` (0)\n",
    "* **Entre 5 ans et 8 ans d'expérience :** `Confirmé` (1)\n",
    "* **Entre 10 ans et 13 ans d'expérience :** `Avancé` (2)\n",
    "* **Plus de 13 ans d'expérience :** `Expert` (3)  "
   ]
  },
  {
   "cell_type": "code",
   "execution_count": null,
   "metadata": {},
   "outputs": [],
   "source": []
  },
  {
   "cell_type": "code",
   "execution_count": null,
   "metadata": {},
   "outputs": [],
   "source": [
    "# convert all columns to category type\n",
    "for col in object_cols_final:\n",
    "    X_final_data[col] = X_final_data[col].astype('category')\n",
    "    \n",
    "s_category = (X_final_data.dtypes == 'category')\n",
    "category_cols_final = list(s_category[s_category].index)\n",
    "# check column types\n",
    "X_final_data.dtypes"
   ]
  },
  {
   "cell_type": "code",
   "execution_count": null,
   "metadata": {},
   "outputs": [],
   "source": [
    "col = X_final_data['Metier']\n",
    "X_final_label.insert(0, column='Metier', value=col)"
   ]
  },
  {
   "cell_type": "code",
   "execution_count": null,
   "metadata": {},
   "outputs": [],
   "source": [
    "# Get list of categorical variables\n",
    "s_final_data = (X_final_data.dtypes == 'object')\n",
    "object_cols_final = list(s_final_data[s_final_data].index)\n",
    "\n",
    "#print(\"Object variables:\")\n",
    "print(object_cols_final)\n",
    "#output : ['Metier', 'Technologies', 'Diplome']"
   ]
  },
  {
   "cell_type": "code",
   "execution_count": null,
   "metadata": {},
   "outputs": [],
   "source": [
    "s_int = (X_final.dtypes == 'int')\n",
    "int_cols = list(s_int[s_int].index)\n",
    "\n",
    "for int_cols in X_final.columns:\n",
    "    X_final[int_cols] =  X_final[int_cols].astype('int64')\n",
    "    "
   ]
  },
  {
   "cell_type": "code",
   "execution_count": null,
   "metadata": {},
   "outputs": [],
   "source": [
    "for col in X_final.columns:\n",
    "    X_final[col] =  X_final[col].astype(float)\n",
    "\n",
    "s_float = (X_final.dtypes == 'float64')\n",
    "float_cols = list(s_float[s_float].index)\n",
    "\n",
    "# check the column types\n",
    "print(f\"Number of float columns : {len(float_cols)} columns\")\n",
    "print(f\"Index of float columns : \\n {float_cols}\")"
   ]
  },
  {
   "cell_type": "code",
   "execution_count": 1,
   "metadata": {},
   "outputs": [
    {
     "ename": "NameError",
     "evalue": "name 'X_data_filter' is not defined",
     "output_type": "error",
     "traceback": [
      "\u001b[1;31m---------------------------------------------------------------------------\u001b[0m",
      "\u001b[1;31mNameError\u001b[0m                                 Traceback (most recent call last)",
      "\u001b[1;32m<ipython-input-1-ee08e64e03c7>\u001b[0m in \u001b[0;36m<module>\u001b[1;34m\u001b[0m\n\u001b[0;32m      2\u001b[0m \u001b[1;33m\u001b[0m\u001b[0m\n\u001b[0;32m      3\u001b[0m \u001b[0mcnt\u001b[0m\u001b[1;33m=\u001b[0m\u001b[1;36m0\u001b[0m\u001b[1;33m\u001b[0m\u001b[1;33m\u001b[0m\u001b[0m\n\u001b[1;32m----> 4\u001b[1;33m \u001b[1;32mfor\u001b[0m \u001b[0mrow\u001b[0m \u001b[1;32min\u001b[0m \u001b[0mX_data_filter\u001b[0m\u001b[1;33m[\u001b[0m\u001b[1;34m'Metier'\u001b[0m\u001b[1;33m]\u001b[0m\u001b[1;33m:\u001b[0m\u001b[1;33m\u001b[0m\u001b[1;33m\u001b[0m\u001b[0m\n\u001b[0m\u001b[0;32m      5\u001b[0m     \u001b[1;32mtry\u001b[0m\u001b[1;33m:\u001b[0m\u001b[1;33m\u001b[0m\u001b[1;33m\u001b[0m\u001b[0m\n\u001b[0;32m      6\u001b[0m         \u001b[0mint\u001b[0m\u001b[1;33m(\u001b[0m\u001b[0mrow\u001b[0m\u001b[1;33m)\u001b[0m\u001b[1;33m\u001b[0m\u001b[1;33m\u001b[0m\u001b[0m\n",
      "\u001b[1;31mNameError\u001b[0m: name 'X_data_filter' is not defined"
     ]
    }
   ],
   "source": [
    "# Detecting numbers NA\n",
    "\n",
    "cnt=0\n",
    "for row in X_data_filter['Metier']:\n",
    "    try:\n",
    "        int(row)\n",
    "        df.loc[cnt, 'Metier'] = np.nan\n",
    "    except ValueError:\n",
    "        pass\n",
    "    cnt+=1"
   ]
  },
  {
   "cell_type": "code",
   "execution_count": null,
   "metadata": {},
   "outputs": [],
   "source": [
    "# check nan values\n",
    "#X_data['Metier'][2055:2061]\n",
    "X_data_filter = X_data[X_data['Metier'] != None].copy()\n",
    "X_data_filter['Metier'].isnull().any()"
   ]
  },
  {
   "cell_type": "code",
   "execution_count": null,
   "metadata": {},
   "outputs": [],
   "source": [
    "rmse=np.sqrt(np.mean((y_test-y_pred)**2))"
   ]
  },
  {
   "cell_type": "code",
   "execution_count": null,
   "metadata": {},
   "outputs": [],
   "source": [
    "from sklearn.model_selection import KFold\n",
    "from sklearn.linear_model import LinearRegression\n",
    "from sklearn.metrics import r2_score\n",
    "\n",
    "kf = KFold(n_splits=1200, random_state = 0, shuffle=True)\n",
    "for train_index, test_index in kf.split(X_data_filter):\n",
    "    X_data_test = X_data_filter.iloc[test_index]\n",
    "    X_data_train = X_data_filter.iloc[train_index]\n",
    "    \n",
    "    X_train = np.array(X_data_train['R']).reshape(-1, 1)     \n",
    "    y_train = np.array(X_data_train['Metier']).reshape(-1, 1)\n",
    "    X_test = np.array(X_data_test['R']).reshape(-1, 1)  \n",
    "    y_test = np.array(X_data_test['Metier']).reshape(-1, 1)\n",
    "    \n",
    "    model = LinearRegression()\n",
    "    model.fit(X_train, y_train)\n",
    "    \n",
    "    y_pred.append(model.predict(X_test)[0])\n",
    "    y_true.append(y_test[0])\n",
    " \n",
    "\n",
    "print(\"r2_score : \", r2_score(y_true, y_pred))"
   ]
  },
  {
   "cell_type": "code",
   "execution_count": null,
   "metadata": {},
   "outputs": [],
   "source": [
    "['Python', 'R', 'SQL','Java','Hadoop','Machine Learning',\n",
    "                 'Excel','C++','Spark','Linux','MongoDB','VBA','SAS','Docker','Matlab']"
   ]
  },
  {
   "cell_type": "code",
   "execution_count": null,
   "metadata": {},
   "outputs": [],
   "source": [
    "from sklearn.model_selection import train_test_split\n",
    "from sklearn.utils import shuffle\n",
    "\n",
    "# filters nan values\n",
    "X_data = X_data.dropna(axis=0)\n",
    "\n",
    "# Choosing the column 'Metier' to be predicted\n",
    "y = X_data.Metier\n",
    "# get all the relevant features in the dataset for this prediction task\n",
    "data_features = [col for col in X_data.columns]\n",
    "X = shuffle(X_data[data_features])\n",
    "\n",
    "# splitting data into training and validation data, for both features and target (randomly)\n",
    "X_train, X_val, y_train, y_val = train_test_split(X,y, random_state=0)ajouter des colonnes au dataframe, one-hot encoding (colonne metier, technos, exp_label, diplome). réitérer sur plusieurs colonnes pour les technos (pour compter les technos)\n",
    "\n",
    "Après le label encoding des différentes technologies, nous pouvons les exploiter "
   ]
  },
  {
   "cell_type": "code",
   "execution_count": null,
   "metadata": {},
   "outputs": [],
   "source": [
    "from sklearn.ensemble import RandomForestRegressor\n",
    "from sklearn.metrics import accuracy_score\n",
    "\n",
    "regression_forest_model = RandomForestRegressor(random_state=1)\n",
    "regression_forest_model.fit(X_train, y_train)\n",
    "\n",
    "regression_forest_model"
   ]
  },
  {
   "cell_type": "code",
   "execution_count": null,
   "metadata": {},
   "outputs": [],
   "source": []
  },
  {
   "cell_type": "markdown",
   "metadata": {},
   "source": [
    "ajouter des colonnes au dataframe, one-hot encoding (colonne metier, technos, exp_label, diplome). réitérer sur plusieurs colonnes pour les technos (pour compter les technos)\n",
    "\n",
    "Après le label encoding des différentes technologies, nous pouvons les exploiter "
   ]
  },
  {
   "cell_type": "markdown",
   "metadata": {},
   "source": [
    "Parler de la colonne **`Entreprise`** et de son potentiel impact pour notre prédiction"
   ]
  },
  {
   "cell_type": "code",
   "execution_count": null,
   "metadata": {},
   "outputs": [],
   "source": []
  }
 ],
 "metadata": {
  "kernelspec": {
   "display_name": "Python 3",
   "language": "python",
   "name": "python3"
  },
  "language_info": {
   "codemirror_mode": {
    "name": "ipython",
    "version": 3
   },
   "file_extension": ".py",
   "mimetype": "text/x-python",
   "name": "python",
   "nbconvert_exporter": "python",
   "pygments_lexer": "ipython3",
   "version": "3.8.7"
  }
 },
 "nbformat": 4,
 "nbformat_minor": 2
}
