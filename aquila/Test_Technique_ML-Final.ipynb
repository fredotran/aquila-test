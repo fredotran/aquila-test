{
 "cells": [
  {
   "cell_type": "markdown",
   "metadata": {},
   "source": [
    "# Part I : Quel(le) data scientist êtes-vous ?\n",
    "## Contexte de l’analyse\n",
    "\n",
    "Elu métier le plus sexy par la Harvard Business Review en octobre 2012, le data scientist représente un profil rare qui exige de nombreuses compétences.\n",
    "\n",
    "A partir d'un dataset Aquila, vous réaliserez :\n",
    "- un clustering non supervisé afin d'identifier 2 groupes de profils techniques distinctes\n",
    "- une prédiction des profils dont le métier n'est pas labellisé\n",
    "\n",
    "\n",
    "## Données\n",
    "data.csv contient 6 variables : \n",
    "    - 'Entreprise' correspond à une liste d'entreprises fictive\n",
    "    - 'Metier' correspond au métier parmi data scientist, lead data scientist, data engineer et data architecte\n",
    "    - 'Technologies' correspond aux compétences maîtrisées par le profil\n",
    "    - 'Diplome' correspond à son niveau scolaire (Bac, Master, PhD,...)\n",
    "    - 'Experience' correspond au nombre d'années d'expériences\n",
    "    - 'Ville' correspond au lieu de travail\n",
    "    \n",
    "\n",
    "\n",
    "## Répondez aux questions \n",
    "\n",
    "Bonne chance!"
   ]
  },
  {
   "cell_type": "code",
   "execution_count": 1,
   "metadata": {},
   "outputs": [],
   "source": [
    "# Import des libraries classique (numpy, pandas, ...)\n",
    "import pandas as pd\n",
    "import numpy as np\n",
    "import re\n",
    "import sklearn as sk\n",
    "import seaborn as sb\n",
    "from matplotlib import pyplot as plt\n",
    "plt.style.use('ggplot')"
   ]
  },
  {
   "cell_type": "code",
   "execution_count": 2,
   "metadata": {},
   "outputs": [
    {
     "name": "stdout",
     "output_type": "stream",
     "text": [
      "Python version : 3.8.7 (tags/v3.8.7:6503f05, Dec 21 2020, 17:59:51) [MSC v.1928 64 bit (AMD64)]\n"
     ]
    }
   ],
   "source": [
    "# checking python version\n",
    "import sys\n",
    "print(f\"Python version : {sys.version}\")"
   ]
  },
  {
   "cell_type": "markdown",
   "metadata": {},
   "source": [
    "### 1) Importer le tableau de données dans un dataframe "
   ]
  },
  {
   "cell_type": "code",
   "execution_count": 3,
   "metadata": {},
   "outputs": [],
   "source": [
    "# Import du dataframe \"data.csv\"\n",
    "df = pd.read_csv(\"data.csv\")"
   ]
  },
  {
   "cell_type": "markdown",
   "metadata": {},
   "source": [
    "### 2) Combien y a t-il d'observations dans ce dataset? Y a t-il des valeurs manquantes? "
   ]
  },
  {
   "cell_type": "markdown",
   "metadata": {},
   "source": [
    "**Réponse :**\n",
    "\n",
    "Le dataset est constitué de **6 colonnes différentes**, nous récupérons le nom de ces différentes colonnes puis les ajoutons dans une liste appelée `categories`. Ensuite nous allons pouvoir étudier chaque valeur manquante de ce dataset en utilisant des méthodes implémentées directement dans la librairie `pandas`."
   ]
  },
  {
   "cell_type": "code",
   "execution_count": 4,
   "metadata": {},
   "outputs": [
    {
     "name": "stdout",
     "output_type": "stream",
     "text": [
      "['Entreprise', 'Metier', 'Technologies', 'Diplome', 'Experience', 'Ville']\n"
     ]
    }
   ],
   "source": [
    "# get the label names\n",
    "categories = [categories for categories in df.columns]\n",
    "print(categories)"
   ]
  },
  {
   "cell_type": "markdown",
   "metadata": {},
   "source": [
    "Par habitude, nous allons utiliser `X_data` pour nommer les listes de données."
   ]
  },
  {
   "cell_type": "code",
   "execution_count": 5,
   "metadata": {},
   "outputs": [
    {
     "name": "stdout",
     "output_type": "stream",
     "text": [
      "Data shape : (9582, 6) \n",
      "Number of rows : 9582 \n",
      "Number of columns : 6\n"
     ]
    }
   ],
   "source": [
    "# get the data values using the features we defined before\n",
    "X_data = df[categories]\n",
    "\n",
    "# visualize the shape of the data we've collected\n",
    "print(f\"Data shape : {X_data.shape} \\nNumber of rows : {X_data.shape[0]} \\nNumber of columns : {X_data.shape[1]}\")"
   ]
  },
  {
   "cell_type": "markdown",
   "metadata": {},
   "source": [
    "Le dataset est constitué de **9582 lignes** (instances/observations) et de **6 colonnes** en référence aux catégories que nous avions extraites au préalable.\n",
    "Désormais, sachant que nous connaissons les différentes catégories et le nombre de données disponibles, nous allons pouvoir creuser un peu plus en détails, en commençant par passer en revue **les premières données du dataset**. Pour ce faire, nous allons utiliser la méthode **head()**."
   ]
  },
  {
   "cell_type": "code",
   "execution_count": 6,
   "metadata": {
    "scrolled": true
   },
   "outputs": [
    {
     "data": {
      "text/html": [
       "<div>\n",
       "<style scoped>\n",
       "    .dataframe tbody tr th:only-of-type {\n",
       "        vertical-align: middle;\n",
       "    }\n",
       "\n",
       "    .dataframe tbody tr th {\n",
       "        vertical-align: top;\n",
       "    }\n",
       "\n",
       "    .dataframe thead th {\n",
       "        text-align: right;\n",
       "    }\n",
       "</style>\n",
       "<table border=\"1\" class=\"dataframe\">\n",
       "  <thead>\n",
       "    <tr style=\"text-align: right;\">\n",
       "      <th></th>\n",
       "      <th>Entreprise</th>\n",
       "      <th>Metier</th>\n",
       "      <th>Technologies</th>\n",
       "      <th>Diplome</th>\n",
       "      <th>Experience</th>\n",
       "      <th>Ville</th>\n",
       "    </tr>\n",
       "  </thead>\n",
       "  <tbody>\n",
       "    <tr>\n",
       "      <th>0</th>\n",
       "      <td>Sanofi</td>\n",
       "      <td>Data scientist</td>\n",
       "      <td>Matlab/Python/Pyspark/Scikit-learn/Tensorflow</td>\n",
       "      <td>Master</td>\n",
       "      <td>1</td>\n",
       "      <td>Paris</td>\n",
       "    </tr>\n",
       "    <tr>\n",
       "      <th>1</th>\n",
       "      <td>Massachusetts General Hospital(MGH)</td>\n",
       "      <td>Data architecte</td>\n",
       "      <td>Python/Java/Scala/MongoDB</td>\n",
       "      <td>Master</td>\n",
       "      <td>3</td>\n",
       "      <td>Marseille</td>\n",
       "    </tr>\n",
       "    <tr>\n",
       "      <th>2</th>\n",
       "      <td>Delve</td>\n",
       "      <td>Lead data scientist</td>\n",
       "      <td>SPSS/SQL/Teradata/R/Python/Tensorflow/scikit-l...</td>\n",
       "      <td>Master</td>\n",
       "      <td>3</td>\n",
       "      <td>Nantes</td>\n",
       "    </tr>\n",
       "    <tr>\n",
       "      <th>3</th>\n",
       "      <td>Ann &amp; Robert H. Lurie Children’s Hospital of C...</td>\n",
       "      <td>Data scientist</td>\n",
       "      <td>C/C++/Java/Python</td>\n",
       "      <td>Master</td>\n",
       "      <td>1,5</td>\n",
       "      <td>Marseille</td>\n",
       "    </tr>\n",
       "    <tr>\n",
       "      <th>4</th>\n",
       "      <td>Arm</td>\n",
       "      <td>Data scientist</td>\n",
       "      <td>Matlab/Python/C++/numpy/Tensorflow/scikit-learn</td>\n",
       "      <td>Phd</td>\n",
       "      <td>NaN</td>\n",
       "      <td>Bordeaux</td>\n",
       "    </tr>\n",
       "  </tbody>\n",
       "</table>\n",
       "</div>"
      ],
      "text/plain": [
       "                                          Entreprise               Metier  \\\n",
       "0                                             Sanofi       Data scientist   \n",
       "1                Massachusetts General Hospital(MGH)      Data architecte   \n",
       "2                                              Delve  Lead data scientist   \n",
       "3  Ann & Robert H. Lurie Children’s Hospital of C...       Data scientist   \n",
       "4                                                Arm       Data scientist   \n",
       "\n",
       "                                        Technologies Diplome Experience  \\\n",
       "0      Matlab/Python/Pyspark/Scikit-learn/Tensorflow  Master          1   \n",
       "1                          Python/Java/Scala/MongoDB  Master          3   \n",
       "2  SPSS/SQL/Teradata/R/Python/Tensorflow/scikit-l...  Master          3   \n",
       "3                                  C/C++/Java/Python  Master        1,5   \n",
       "4    Matlab/Python/C++/numpy/Tensorflow/scikit-learn     Phd        NaN   \n",
       "\n",
       "       Ville  \n",
       "0      Paris  \n",
       "1  Marseille  \n",
       "2     Nantes  \n",
       "3  Marseille  \n",
       "4   Bordeaux  "
      ]
     },
     "execution_count": 6,
     "metadata": {},
     "output_type": "execute_result"
    }
   ],
   "source": [
    "# quick review of the data\n",
    "X_data.head()"
   ]
  },
  {
   "cell_type": "markdown",
   "metadata": {},
   "source": [
    "Nous regardons ensuite le nombre de valeurs manquantes dans notre dataset en utilisant les méthodes **isna()** ou **isnull()** directement disponibles à travers `pandas`."
   ]
  },
  {
   "cell_type": "code",
   "execution_count": 7,
   "metadata": {},
   "outputs": [
    {
     "name": "stdout",
     "output_type": "stream",
     "text": [
      "Number of missing values per categories :\n",
      "\n",
      "Entreprise      17\n",
      "Metier          19\n",
      "Technologies     0\n",
      "Diplome          0\n",
      "Experience      94\n",
      "Ville            0\n",
      "dtype: int64 \n",
      "\n",
      "Total of missing values in all categories : 130\n"
     ]
    }
   ],
   "source": [
    "# checking the na values in our dataset and summing them \n",
    "na_values = X_data.isna()\n",
    "number_na = na_values.sum()\n",
    "total_number_na = number_na.sum()\n",
    "\n",
    "print(f\"Number of missing values per categories :\\n\")\n",
    "print(f\"{number_na} \\n\\nTotal of missing values in all categories : {total_number_na}\")"
   ]
  },
  {
   "cell_type": "markdown",
   "metadata": {},
   "source": [
    "Nous pouvons observer qu'il y a des valeurs manquantes (`NaN`) dans les catégories **`Experience`**, **`Metier`** et **`Entreprise`**."
   ]
  },
  {
   "cell_type": "markdown",
   "metadata": {},
   "source": [
    "### 3) Réaliser l'imputation des valeurs manquantes pour la variable \"Experience\" avec : \n",
    "- la valeur médiane pour les data scientists\n",
    "- la valeur moyenne pour les data engineers"
   ]
  },
  {
   "cell_type": "markdown",
   "metadata": {},
   "source": [
    "**Réponse :**\n",
    "\n",
    "Il y a plusieurs façons de remédier aux problèmes des valeurs manquantes, dans cet exercice nous allons utiliser les méthodes fournies directement dans `pandas`, mais nous pouvons aussi utiliser celle de `scikit-learn` avec le module `SimpleImputer`.  \n",
    "\n",
    "La méthode **fillna()** de `pandas` nous permet de \"impute\" de nouvelles valeurs sur les valeurs manquantes, tout en choisissant la manière que l'on veut **i.e.** en remplaçant par la médiane des valeurs ou la moyenne (au choix). D'après nos observations, seules les colonnes **`Experience`**, **`Metier`** et **`Entreprise`** possèdent des valeurs manquantes. Sachant que la colonne **`Experience`** est la seule contenant des *valeurs numériques* nous pouvons donc \"imputer\" les valeurs médianes et moyennes seulement dans cette colonne."
   ]
  },
  {
   "cell_type": "code",
   "execution_count": 8,
   "metadata": {},
   "outputs": [],
   "source": [
    "# make copy to avoid changing original data \n",
    "X_data_copy = X_data.copy()"
   ]
  },
  {
   "cell_type": "code",
   "execution_count": 9,
   "metadata": {},
   "outputs": [
    {
     "data": {
      "text/plain": [
       "dtype('O')"
      ]
     },
     "execution_count": 9,
     "metadata": {},
     "output_type": "execute_result"
    }
   ],
   "source": [
    "# we get the data type of the values in the category 'Experience'\n",
    "X_data_copy['Experience'].dtypes\n",
    "# output dtype = object"
   ]
  },
  {
   "cell_type": "markdown",
   "metadata": {},
   "source": [
    "En regardant attentivement les données dans la catégorie **`Experience`**, nous avons remarqué que les valeurs décimales sont sous un format à virgule et que le type de données de la colonne est `object`.  \n",
    "Il est donc nécessaire de transformer le type de données de la colonne **`Experience`** en `float` pour pouvoir calculer la valeur moyenne et la valeur médiane, mais aussi de remplacer **TOUTES** les virgules par des points."
   ]
  },
  {
   "cell_type": "code",
   "execution_count": 10,
   "metadata": {},
   "outputs": [
    {
     "data": {
      "text/plain": [
       "dtype('float64')"
      ]
     },
     "execution_count": 10,
     "metadata": {},
     "output_type": "execute_result"
    }
   ],
   "source": [
    "# convert the object types to float type\n",
    "X_data_copy['Experience'] = X_data_copy['Experience'].str.replace(',', '.').astype(float)\n",
    "X_data_copy['Experience'].dtypes"
   ]
  },
  {
   "cell_type": "markdown",
   "metadata": {},
   "source": [
    "Nous utilisons ensuite la méthode **loc()** pour imposer nos conditions et localiser les différents métiers correspondant à la colonne **`Experience`** qui nous intéresse. Finalement, nous allons imputer les valeurs moyennes et médianes correspondantes à ces métiers dans la colonne **`Experience`**. \n",
    "\n",
    "**A noter que** : si nous nous trompons dans l'orthographe du métier dans la condition (cf. mask), `pandas` ne prendra pas en compte les instructions que l'on confie ensuite **i.e** : les lignes contenant des valeurs manquantes ne seront pas remplies."
   ]
  },
  {
   "cell_type": "code",
   "execution_count": 11,
   "metadata": {
    "scrolled": true
   },
   "outputs": [],
   "source": [
    "# we'll use masks to respect the conditions, here we want to put median value experience for data scientist\n",
    "mask1 = (X_data_copy['Metier'] == 'Data scientist')\n",
    "X_data_copy.loc[mask1, 'Experience'] = X_data_copy.loc[mask1, 'Experience'].fillna(X_data_copy.loc[mask1, 'Experience'].median())\n",
    "\n",
    "# we'll use masks to respect the conditions, here we want to put median value experience for lead data scientist\n",
    "mask2 = (X_data_copy['Metier'] == 'Lead data scientist')\n",
    "X_data_copy.loc[mask2, 'Experience'] = X_data_copy.loc[mask2, 'Experience'].fillna(X_data_copy.loc[mask2, 'Experience'].median())\n",
    "\n",
    "# we'll use masks to respect the conditions, here we want to put mean value experience for data engineer\n",
    "mask3 = (X_data_copy['Metier'] == 'Data engineer')\n",
    "X_data_copy.loc[mask3, 'Experience'] = X_data_copy.loc[mask3, 'Experience'].fillna(X_data_copy.loc[mask3, 'Experience'].mean())"
   ]
  },
  {
   "cell_type": "code",
   "execution_count": 54,
   "metadata": {},
   "outputs": [
    {
     "name": "stdout",
     "output_type": "stream",
     "text": [
      "Are there any missing values for data scientist? : False\n",
      "Are there any missing values for lead data scientist? : False\n",
      "Are there any missing values for data engineer? : False\n"
     ]
    },
    {
     "data": {
      "text/html": [
       "<div>\n",
       "<style scoped>\n",
       "    .dataframe tbody tr th:only-of-type {\n",
       "        vertical-align: middle;\n",
       "    }\n",
       "\n",
       "    .dataframe tbody tr th {\n",
       "        vertical-align: top;\n",
       "    }\n",
       "\n",
       "    .dataframe thead th {\n",
       "        text-align: right;\n",
       "    }\n",
       "</style>\n",
       "<table border=\"1\" class=\"dataframe\">\n",
       "  <thead>\n",
       "    <tr style=\"text-align: right;\">\n",
       "      <th></th>\n",
       "      <th>Entreprise</th>\n",
       "      <th>Metier</th>\n",
       "      <th>Technologies</th>\n",
       "      <th>Diplome</th>\n",
       "      <th>Experience</th>\n",
       "      <th>Ville</th>\n",
       "    </tr>\n",
       "  </thead>\n",
       "  <tbody>\n",
       "    <tr>\n",
       "      <th>0</th>\n",
       "      <td>Sanofi</td>\n",
       "      <td>Data scientist</td>\n",
       "      <td>Matlab/Python/Pyspark/Scikit-learn/Tensorflow</td>\n",
       "      <td>Master</td>\n",
       "      <td>1.0</td>\n",
       "      <td>Paris</td>\n",
       "    </tr>\n",
       "    <tr>\n",
       "      <th>1</th>\n",
       "      <td>Massachusetts General Hospital(MGH)</td>\n",
       "      <td>Data architecte</td>\n",
       "      <td>Python/Java/Scala/MongoDB</td>\n",
       "      <td>Master</td>\n",
       "      <td>3.0</td>\n",
       "      <td>Marseille</td>\n",
       "    </tr>\n",
       "    <tr>\n",
       "      <th>2</th>\n",
       "      <td>Delve</td>\n",
       "      <td>Lead data scientist</td>\n",
       "      <td>SPSS/SQL/Teradata/R/Python/Tensorflow/scikit-l...</td>\n",
       "      <td>Master</td>\n",
       "      <td>3.0</td>\n",
       "      <td>Nantes</td>\n",
       "    </tr>\n",
       "    <tr>\n",
       "      <th>3</th>\n",
       "      <td>Ann &amp; Robert H. Lurie Children’s Hospital of C...</td>\n",
       "      <td>Data scientist</td>\n",
       "      <td>C/C++/Java/Python</td>\n",
       "      <td>Master</td>\n",
       "      <td>1.5</td>\n",
       "      <td>Marseille</td>\n",
       "    </tr>\n",
       "    <tr>\n",
       "      <th>4</th>\n",
       "      <td>Arm</td>\n",
       "      <td>Data scientist</td>\n",
       "      <td>Matlab/Python/C++/numpy/Tensorflow/scikit-learn</td>\n",
       "      <td>Phd</td>\n",
       "      <td>2.0</td>\n",
       "      <td>Bordeaux</td>\n",
       "    </tr>\n",
       "  </tbody>\n",
       "</table>\n",
       "</div>"
      ],
      "text/plain": [
       "                                          Entreprise               Metier  \\\n",
       "0                                             Sanofi       Data scientist   \n",
       "1                Massachusetts General Hospital(MGH)      Data architecte   \n",
       "2                                              Delve  Lead data scientist   \n",
       "3  Ann & Robert H. Lurie Children’s Hospital of C...       Data scientist   \n",
       "4                                                Arm       Data scientist   \n",
       "\n",
       "                                        Technologies Diplome  Experience  \\\n",
       "0      Matlab/Python/Pyspark/Scikit-learn/Tensorflow  Master         1.0   \n",
       "1                          Python/Java/Scala/MongoDB  Master         3.0   \n",
       "2  SPSS/SQL/Teradata/R/Python/Tensorflow/scikit-l...  Master         3.0   \n",
       "3                                  C/C++/Java/Python  Master         1.5   \n",
       "4    Matlab/Python/C++/numpy/Tensorflow/scikit-learn     Phd         2.0   \n",
       "\n",
       "       Ville  \n",
       "0      Paris  \n",
       "1  Marseille  \n",
       "2     Nantes  \n",
       "3  Marseille  \n",
       "4   Bordeaux  "
      ]
     },
     "execution_count": 54,
     "metadata": {},
     "output_type": "execute_result"
    }
   ],
   "source": [
    "# checking the results by verifying is there are still any missing values\n",
    "print(f\"Are there any missing values for data scientist? : {X_data_copy.loc[mask1, 'Experience'].isna().any()}\")\n",
    "print(f\"Are there any missing values for lead data scientist? : {X_data_copy.loc[mask2, 'Experience'].isna().any()}\")\n",
    "print(f\"Are there any missing values for data engineer? : {X_data_copy.loc[mask3, 'Experience'].isna().any()}\")\n",
    "\n",
    "# we can check the X_data values to be sure\n",
    "X_data_copy.head()"
   ]
  },
  {
   "cell_type": "markdown",
   "metadata": {},
   "source": [
    "Nous pouvons observer les statistiques de la colonne `Experience` en utilisant la méthode **describe()**."
   ]
  },
  {
   "cell_type": "code",
   "execution_count": 15,
   "metadata": {},
   "outputs": [
    {
     "data": {
      "text/html": [
       "<div>\n",
       "<style scoped>\n",
       "    .dataframe tbody tr th:only-of-type {\n",
       "        vertical-align: middle;\n",
       "    }\n",
       "\n",
       "    .dataframe tbody tr th {\n",
       "        vertical-align: top;\n",
       "    }\n",
       "\n",
       "    .dataframe thead th {\n",
       "        text-align: right;\n",
       "    }\n",
       "</style>\n",
       "<table border=\"1\" class=\"dataframe\">\n",
       "  <thead>\n",
       "    <tr style=\"text-align: right;\">\n",
       "      <th></th>\n",
       "      <th>Experience</th>\n",
       "    </tr>\n",
       "  </thead>\n",
       "  <tbody>\n",
       "    <tr>\n",
       "      <th>count</th>\n",
       "      <td>9559.000000</td>\n",
       "    </tr>\n",
       "    <tr>\n",
       "      <th>mean</th>\n",
       "      <td>2.813181</td>\n",
       "    </tr>\n",
       "    <tr>\n",
       "      <th>std</th>\n",
       "      <td>2.706779</td>\n",
       "    </tr>\n",
       "    <tr>\n",
       "      <th>min</th>\n",
       "      <td>0.000000</td>\n",
       "    </tr>\n",
       "    <tr>\n",
       "      <th>25%</th>\n",
       "      <td>1.000000</td>\n",
       "    </tr>\n",
       "    <tr>\n",
       "      <th>50%</th>\n",
       "      <td>2.000000</td>\n",
       "    </tr>\n",
       "    <tr>\n",
       "      <th>75%</th>\n",
       "      <td>3.500000</td>\n",
       "    </tr>\n",
       "    <tr>\n",
       "      <th>max</th>\n",
       "      <td>21.000000</td>\n",
       "    </tr>\n",
       "  </tbody>\n",
       "</table>\n",
       "</div>"
      ],
      "text/plain": [
       "        Experience\n",
       "count  9559.000000\n",
       "mean      2.813181\n",
       "std       2.706779\n",
       "min       0.000000\n",
       "25%       1.000000\n",
       "50%       2.000000\n",
       "75%       3.500000\n",
       "max      21.000000"
      ]
     },
     "execution_count": 15,
     "metadata": {},
     "output_type": "execute_result"
    }
   ],
   "source": [
    "# we get the values back in X_data\n",
    "X_data = X_data_copy\n",
    "# generate descriptive statistics of the 'Experience' column which is the only column with float values\n",
    "X_data.describe()"
   ]
  },
  {
   "cell_type": "markdown",
   "metadata": {},
   "source": [
    "A partir des données statistisques que nous avons récupéré et les codes écrits précédents, nous pouvons répondre à la question suivante."
   ]
  },
  {
   "cell_type": "markdown",
   "metadata": {},
   "source": [
    "### 4) Combien d'années d'expériences ont, en moyenne, chacun des profils : le data scientist, le lead data scientist et le data engineer en moyenne?\n",
    "\n",
    "**Réponse :**"
   ]
  },
  {
   "cell_type": "code",
   "execution_count": 16,
   "metadata": {
    "scrolled": false
   },
   "outputs": [
    {
     "name": "stdout",
     "output_type": "stream",
     "text": [
      "Mean value for years of experience working (data scientist) : 2.24 years\n",
      "Mean value for years of experience working (Lead data scientist) : 3.96 years\n",
      "Mean value for years of experience working (data engineer) : 2.98 years\n",
      "Mean value for years of experience working (data architecte) : 3.00 years\n"
     ]
    }
   ],
   "source": [
    "# mask for data architecte \n",
    "mask4 = (X_data['Metier'] == 'Data architecte')\n",
    "\n",
    "# mean values calculations\n",
    "mean_values_data_scientist = X_data.loc[mask1, 'Experience'].mean()\n",
    "mean_values_lead_data_scientist = X_data.loc[mask2, 'Experience'].mean()\n",
    "mean_values_data_engineer = X_data.loc[mask3, 'Experience'].mean()\n",
    "mean_values_data_architecte = X_data.loc[mask4, 'Experience'].mean()\n",
    "\n",
    "print(f'Mean value for years of experience working (data scientist) : {mean_values_data_scientist:.2f} years') \n",
    "print(f'Mean value for years of experience working (Lead data scientist) : {mean_values_lead_data_scientist:.2f} years') \n",
    "print(f'Mean value for years of experience working (data engineer) : {mean_values_data_engineer:.2f} years') \n",
    "print(f'Mean value for years of experience working (data architecte) : {mean_values_data_architecte:.2f} years') "
   ]
  },
  {
   "cell_type": "code",
   "execution_count": 17,
   "metadata": {},
   "outputs": [
    {
     "name": "stdout",
     "output_type": "stream",
     "text": [
      "Mean value for years of experience working for all types of jobs : 3.05 years\n"
     ]
    }
   ],
   "source": [
    "# mean value for all :\n",
    "mean_value = 1/4*(mean_values_data_scientist + mean_values_lead_data_scientist \n",
    "                                             + mean_values_data_engineer \n",
    "                                             + mean_values_data_architecte)\n",
    "\n",
    "print(f'Mean value for years of experience working for all types of jobs : {mean_value:.2f} years') "
   ]
  },
  {
   "cell_type": "markdown",
   "metadata": {},
   "source": [
    "La valeur moyenne d'expérience au travail d'un data architecte **est très suspecte**, nous vérifions donc s'il manque des valeurs dans le dataset de cette catégorie de travail."
   ]
  },
  {
   "cell_type": "code",
   "execution_count": 18,
   "metadata": {},
   "outputs": [
    {
     "name": "stdout",
     "output_type": "stream",
     "text": [
      "Are there any missing values for data architecte? : True\n",
      "There are 23 missing year of working experience values for the data architecte job.\n"
     ]
    }
   ],
   "source": [
    "print(f\"Are there any missing values for data architecte? : {X_data.loc[mask4, 'Experience'].isna().any()}\")\n",
    "print(f\"There are {X_data.loc[mask4, 'Experience'].isna().sum()} missing year of working experience values for the data architecte job.\")"
   ]
  },
  {
   "cell_type": "markdown",
   "metadata": {},
   "source": [
    "Nous observons qu'il y a 23 valeurs manquantes (missing values) pour le métier de **data architecte**, néanmoins il n'y a aucune consigne indiquée pour imputer ces valeurs manquantes. Nous pouvons donc décider oui ou non d'imputer une moyenne des valeurs pour ces valeurs manquantes."
   ]
  },
  {
   "cell_type": "markdown",
   "metadata": {},
   "source": [
    "### 5) Faire la représentation graphique de votre choix afin de comparer le nombre moyen d'années d'expériences pour chaque métier\n",
    "\n",
    "**Réponse :**"
   ]
  },
  {
   "cell_type": "code",
   "execution_count": 19,
   "metadata": {},
   "outputs": [
    {
     "data": {
      "text/plain": [
       "<AxesSubplot:xlabel='Metier', ylabel='Experience'>"
      ]
     },
     "execution_count": 19,
     "metadata": {},
     "output_type": "execute_result"
    },
    {
     "data": {
      "image/png": "[encoded data removed]",
      "text/plain": [
       "<Figure size 792x504 with 1 Axes>"
      ]
     },
     "metadata": {},
     "output_type": "display_data"
    }
   ],
   "source": [
    "# plot the mean value of year experience for each jobs\n",
    "f, ax = plt.subplots(figsize=(11, 7))\n",
    "sb.set_color_codes(\"muted\")\n",
    "sb.barplot(x='Metier', y='Experience', data=X_data, color='b')"
   ]
  },
  {
   "cell_type": "markdown",
   "metadata": {},
   "source": [
    "### 6) Transformer la variable continue 'Experience' en une nouvelle variable catégorielle 'Exp_label' à 4 modalités: débutant, confirmé, avancé et expert\n",
    "- Veuillez expliquer votre choix du règle de transformation.  "
   ]
  },
  {
   "cell_type": "markdown",
   "metadata": {},
   "source": [
    "**Réponse :** \n",
    "\n",
    "Il y a différentes façons de transformer des variables **continues** en **catégorielles**, parmi elles, il y a les techniques classiques dites de **\"label encoding\"** ou de **\"one-hot encoding\"**. Pour la méthode de **\"label encoding\"** les variables continues doivent être *ordonnées* c'est à dire qu'elles doivent respecter un ordre ou une hiérarchie entre elles. \n",
    "\n",
    "Prenons l'exemple d'une variable **`Brossage de dents après le petit-déj`** contenant des valeurs ordonnées : `Tous les jours` ,`Jamais` ,`Rarement`, `Parfois`; nous observons donc bien une hiérarchie entre les valeurs possibles de cette variable. Nous pouvons, dès lors, appliquer la méthode de **\"label encoding\"** pour transformer la variable continue en variable catégorielle à 4 modalités (classées par ordre hiérarchique): \n",
    "\n",
    "* `Jamais` (0) <  `Rarement` (1) < `Parfois` (2) < `Tous les jours` (3).\n",
    "\n",
    "Dans notre cas d'étude, nous allons transformer notre variable continue **`Experience`** en variable catégorielle **`Exp_label`** à 4 modalités en utilisant une méthode implémentée dans `pandas` directement.  \n",
    "Nous allons encoder la nouvelle variable catégorielle comme suit (classées par ordre hiérarchique) : \n",
    "\n",
    "* `Débutant` (0) <  `Confirmé` (1) < `Avancé` (2) < `Expert` (3).\n",
    "\n",
    "Il existe plusieurs façons de faire du **\"label encoding\"**, en utilisant le module `LabelEncoder` dans `scikit-learn`  ou bien les méthodes de catégorisation de `pandas`. Dans ce cas de figure, nous allons utiliser les méthodes de `pandas`."
   ]
  },
  {
   "cell_type": "code",
   "execution_count": 20,
   "metadata": {
    "scrolled": true
   },
   "outputs": [],
   "source": [
    "# make copy to avoid changing original data \n",
    "label_X_data = X_data.copy()"
   ]
  },
  {
   "cell_type": "code",
   "execution_count": 21,
   "metadata": {},
   "outputs": [
    {
     "data": {
      "text/plain": [
       "0       Débutant\n",
       "1       Débutant\n",
       "2       Débutant\n",
       "3       Débutant\n",
       "4       Débutant\n",
       "          ...   \n",
       "9577    Débutant\n",
       "9578      Avancé\n",
       "9579    Débutant\n",
       "9580      Expert\n",
       "9581    Débutant\n",
       "Name: Exp_label, Length: 9582, dtype: category\n",
       "Categories (4, object): ['Débutant' < 'Confirmé' < 'Avancé' < 'Expert']"
      ]
     },
     "execution_count": 21,
     "metadata": {},
     "output_type": "execute_result"
    }
   ],
   "source": [
    "# encode the new column using cut() method from pandas\n",
    "label_X_data['Exp_label'] = pd.cut(label_X_data['Experience'], 4, labels=['Débutant', 'Confirmé', 'Avancé', 'Expert'])\n",
    "# check the result\n",
    "label_X_data['Exp_label']"
   ]
  },
  {
   "cell_type": "code",
   "execution_count": 22,
   "metadata": {},
   "outputs": [
    {
     "data": {
      "text/html": [
       "<div>\n",
       "<style scoped>\n",
       "    .dataframe tbody tr th:only-of-type {\n",
       "        vertical-align: middle;\n",
       "    }\n",
       "\n",
       "    .dataframe tbody tr th {\n",
       "        vertical-align: top;\n",
       "    }\n",
       "\n",
       "    .dataframe thead th {\n",
       "        text-align: right;\n",
       "    }\n",
       "</style>\n",
       "<table border=\"1\" class=\"dataframe\">\n",
       "  <thead>\n",
       "    <tr style=\"text-align: right;\">\n",
       "      <th></th>\n",
       "      <th>Entreprise</th>\n",
       "      <th>Metier</th>\n",
       "      <th>Technologies</th>\n",
       "      <th>Diplome</th>\n",
       "      <th>Experience</th>\n",
       "      <th>Ville</th>\n",
       "      <th>Exp_label</th>\n",
       "    </tr>\n",
       "  </thead>\n",
       "  <tbody>\n",
       "    <tr>\n",
       "      <th>0</th>\n",
       "      <td>Sanofi</td>\n",
       "      <td>Data scientist</td>\n",
       "      <td>Matlab/Python/Pyspark/Scikit-learn/Tensorflow</td>\n",
       "      <td>Master</td>\n",
       "      <td>1.0</td>\n",
       "      <td>Paris</td>\n",
       "      <td>Débutant</td>\n",
       "    </tr>\n",
       "    <tr>\n",
       "      <th>1</th>\n",
       "      <td>Massachusetts General Hospital(MGH)</td>\n",
       "      <td>Data architecte</td>\n",
       "      <td>Python/Java/Scala/MongoDB</td>\n",
       "      <td>Master</td>\n",
       "      <td>3.0</td>\n",
       "      <td>Marseille</td>\n",
       "      <td>Débutant</td>\n",
       "    </tr>\n",
       "    <tr>\n",
       "      <th>2</th>\n",
       "      <td>Delve</td>\n",
       "      <td>Lead data scientist</td>\n",
       "      <td>SPSS/SQL/Teradata/R/Python/Tensorflow/scikit-l...</td>\n",
       "      <td>Master</td>\n",
       "      <td>3.0</td>\n",
       "      <td>Nantes</td>\n",
       "      <td>Débutant</td>\n",
       "    </tr>\n",
       "    <tr>\n",
       "      <th>3</th>\n",
       "      <td>Ann &amp; Robert H. Lurie Children’s Hospital of C...</td>\n",
       "      <td>Data scientist</td>\n",
       "      <td>C/C++/Java/Python</td>\n",
       "      <td>Master</td>\n",
       "      <td>1.5</td>\n",
       "      <td>Marseille</td>\n",
       "      <td>Débutant</td>\n",
       "    </tr>\n",
       "    <tr>\n",
       "      <th>4</th>\n",
       "      <td>Arm</td>\n",
       "      <td>Data scientist</td>\n",
       "      <td>Matlab/Python/C++/numpy/Tensorflow/scikit-learn</td>\n",
       "      <td>Phd</td>\n",
       "      <td>2.0</td>\n",
       "      <td>Bordeaux</td>\n",
       "      <td>Débutant</td>\n",
       "    </tr>\n",
       "    <tr>\n",
       "      <th>5</th>\n",
       "      <td>S&amp;P Global Ratings</td>\n",
       "      <td>Lead data scientist</td>\n",
       "      <td>VBA/Python/Excel/R</td>\n",
       "      <td>Master</td>\n",
       "      <td>6.0</td>\n",
       "      <td>Lille</td>\n",
       "      <td>Confirmé</td>\n",
       "    </tr>\n",
       "    <tr>\n",
       "      <th>6</th>\n",
       "      <td>NVIDIA</td>\n",
       "      <td>Data scientist</td>\n",
       "      <td>Excel/VBA/R/Python/PySpark</td>\n",
       "      <td>Bachelor</td>\n",
       "      <td>0.0</td>\n",
       "      <td>Lille</td>\n",
       "      <td>Débutant</td>\n",
       "    </tr>\n",
       "  </tbody>\n",
       "</table>\n",
       "</div>"
      ],
      "text/plain": [
       "                                          Entreprise               Metier  \\\n",
       "0                                             Sanofi       Data scientist   \n",
       "1                Massachusetts General Hospital(MGH)      Data architecte   \n",
       "2                                              Delve  Lead data scientist   \n",
       "3  Ann & Robert H. Lurie Children’s Hospital of C...       Data scientist   \n",
       "4                                                Arm       Data scientist   \n",
       "5                                 S&P Global Ratings  Lead data scientist   \n",
       "6                                             NVIDIA       Data scientist   \n",
       "\n",
       "                                        Technologies   Diplome  Experience  \\\n",
       "0      Matlab/Python/Pyspark/Scikit-learn/Tensorflow    Master         1.0   \n",
       "1                          Python/Java/Scala/MongoDB    Master         3.0   \n",
       "2  SPSS/SQL/Teradata/R/Python/Tensorflow/scikit-l...    Master         3.0   \n",
       "3                                  C/C++/Java/Python    Master         1.5   \n",
       "4    Matlab/Python/C++/numpy/Tensorflow/scikit-learn       Phd         2.0   \n",
       "5                                 VBA/Python/Excel/R    Master         6.0   \n",
       "6                         Excel/VBA/R/Python/PySpark  Bachelor         0.0   \n",
       "\n",
       "       Ville Exp_label  \n",
       "0      Paris  Débutant  \n",
       "1  Marseille  Débutant  \n",
       "2     Nantes  Débutant  \n",
       "3  Marseille  Débutant  \n",
       "4   Bordeaux  Débutant  \n",
       "5      Lille  Confirmé  \n",
       "6      Lille  Débutant  "
      ]
     },
     "execution_count": 22,
     "metadata": {},
     "output_type": "execute_result"
    }
   ],
   "source": [
    "# get an overall view of the new transformed dataset \n",
    "label_X_data.head(7)"
   ]
  },
  {
   "cell_type": "markdown",
   "metadata": {},
   "source": [
    "Nous avons donc bien réussi à créer une colonne **`Exp_label`** avec des valeurs de variables catégorielles respectant la hiérarchie suivante : \n",
    "* `Débutant` (0) <  `Confirmé` (1) < `Avancé` (2) < `Expert` (3)."
   ]
  },
  {
   "cell_type": "markdown",
   "metadata": {},
   "source": [
    "### 7) Quelles sont les 5 technologies les plus utilisées? Faites un graphique\n",
    "\n",
    "\n",
    "**Réponse :**\n",
    "\n",
    "Nous allons d'abord prétaiter les données contenues dans la colonne **`Technologies`**, nous transformons la colonne en `list` puis faisons en sorte de rassembler tous les éléments de cette liste ensemble dans un **dictionnaire**. A partir de ce **dictionnaire**, nous allons compter le nombre de répétitions des différentes technologies, et ainsi pouvoir déterminer lesquelles sont les plus utilisées. Pour ce faire, nous allons utiliser la méthode **count()**. "
   ]
  },
  {
   "cell_type": "code",
   "execution_count": 23,
   "metadata": {
    "scrolled": true
   },
   "outputs": [],
   "source": [
    "# make copy to avoid changing original data \n",
    "lst_X_data = label_X_data.copy()\n",
    "# for checking\n",
    "#print(lst_X_data['Technologies'])"
   ]
  },
  {
   "cell_type": "code",
   "execution_count": 24,
   "metadata": {},
   "outputs": [],
   "source": [
    "# function to extract\n",
    "def extract_slash(lst): \n",
    "    \"\"\" This function split the elements with a slash suffix\"\"\"\n",
    "    res = [] \n",
    "    for element in lst: \n",
    "        sub_list = element.split('/')         \n",
    "        res.append(sub_list)       \n",
    "    return(res) "
   ]
  },
  {
   "cell_type": "markdown",
   "metadata": {},
   "source": [
    "Nous choisissons d'utiliser une méthode de comptage à l'aide d'un **dictionnaire Python**, ce n'est pas la meilleure méthode car elle est assez lente (quelques secondes d'attente lors d'un run). Néanmoins, elle reste très efficace et permet de classer **par ordre décroissant** le nombre d'apparitions des technologies à travers le dataset."
   ]
  },
  {
   "cell_type": "code",
   "execution_count": 25,
   "metadata": {},
   "outputs": [
    {
     "name": "stdout",
     "output_type": "stream",
     "text": [
      "{'Matlab': 871, 'Python': 6627, 'Pyspark': 448, 'Scikit-learn': 313, 'Tensorflow': 848, 'Java': 1719, 'Scala': 310, 'MongoDB': 1166, 'SPSS': 359, 'SQL': 2581, 'Teradata': 610, 'R': 4374, 'scikit-learn': 476, 'C': 739, 'C++': 1381, 'numpy': 140, 'VBA': 1003, 'Excel': 1398, 'PySpark': 145, 'Linux': 1183, 'Docker': 927, 'GNU': 677, 'Hadoop': 1589, 'Hive': 864, 'MariaDB': 335, 'machine learning': 996, 'Spark': 1240, 'AWS': 691, 'Deep learning': 227, 'PostgreSQL': 208, 'Elasticsearch': 826, 'Kibana': 728, 'HDFS': 361, 'Yarn': 206, 'Microsoft Azure': 338, 'Redshift': 124, 'SAS': 943, 'Machine learning': 458, 'Anglais': 458, 'anglais': 145, 'AI': 250, 'Scoring': 250, 'Perl': 74, 'Ruby': 35, 'Pycharm': 235, 'Vertica': 250, 'Tableau': 250, '': 539, 'Big data': 824, 'Kafka': 235, 'ORACLE': 94, 'MySQL': 94, 'Cassandra': 284, 'NoSQL': 232, 'Matplotlib': 273, 'Map-Reduce': 155, 'PIG': 155, 'HBASE': 155, 'Windows': 75, 'NoSQ': 123, 'Hadoop(HDFS)': 98}\n"
     ]
    }
   ],
   "source": [
    "# transform into a list\n",
    "raw_tech_list = lst_X_data['Technologies'].tolist()\n",
    "\n",
    "# extract elements with a slash suffix and stored them in sublists\n",
    "raw_tech_list = extract_slash(raw_tech_list)\n",
    "tech_list = []\n",
    "for elem in raw_tech_list:\n",
    "    tech_list.extend(elem)\n",
    "\n",
    "# check our dict before processing\n",
    "tech_dict_no_processed = {i:tech_list.count(i) for i in tech_list}\n",
    "print(tech_dict_no_processed)"
   ]
  },
  {
   "cell_type": "markdown",
   "metadata": {},
   "source": [
    "Nous remarquons qu'il y a des soucis dans les noms de certaines technologies. En effet par exemple pour `scikit-learn` : il y a deux écritures différentes dans notre colonne **`Technologies`**, avec le **s** majuscule ou mininuscule; nous devons donc uniformiser et corriger toutes les erreurs dans tous les mots-clés nommant les technologies, avant de pouvoir faire notre compte."
   ]
  },
  {
   "cell_type": "code",
   "execution_count": 26,
   "metadata": {},
   "outputs": [],
   "source": [
    "# replace all the redundants words with only 1 version\n",
    "def get_processed(tech_list):\n",
    "    \"\"\" Processing error names \"\"\"\n",
    "    tech_list_processed = []\n",
    "    for tech in tech_list:\n",
    "        word1 = tech.replace(\"Pyspark\", \"PySpark\"\n",
    "                             ).replace(\"scikit-learn\", \"Scikit-learn\"\n",
    "                             ).replace(\"anglais\", \"Anglais\"\n",
    "                             ).replace(\"machine learning\", \"Machine Learning\"\n",
    "                             ).replace(\"Machine learning\", \"Machine Learning\"\n",
    "                             ).replace(\"Hadoop(HDFS)\", \"HDFS\"\n",
    "                             ).replace(\"NoSQ\", \"NoSQL\"\n",
    "                             ).replace(\"NoSQLL\", \"NoSQL\")\n",
    "        tech_list_processed.append(word1)\n",
    "    \n",
    "    return tech_list_processed"
   ]
  },
  {
   "cell_type": "code",
   "execution_count": 27,
   "metadata": {},
   "outputs": [
    {
     "name": "stdout",
     "output_type": "stream",
     "text": [
      "{'Python': 6627, 'R': 4374, 'SQL': 2581, 'Java': 1719, 'Hadoop': 1589, 'Machine Learning': 1454, 'Excel': 1398, 'C++': 1381, 'Spark': 1240, 'Linux': 1183, 'MongoDB': 1166, 'VBA': 1003, 'SAS': 943, 'Docker': 927, 'Matlab': 871, 'Hive': 864, 'Tensorflow': 848, 'Elasticsearch': 826, 'Big data': 824, 'Scikit-learn': 789, 'C': 739, 'Kibana': 728, 'AWS': 691, 'GNU': 677, 'Teradata': 610, 'Anglais': 603, 'PySpark': 593, 'HDFS': 459, 'SPSS': 359, 'NoSQL': 355, 'Microsoft Azure': 338, 'MariaDB': 335, 'Scala': 310, 'Cassandra': 284, 'Matplotlib': 273, 'AI': 250, 'Scoring': 250, 'Vertica': 250, 'Tableau': 250, 'Pycharm': 235, 'Kafka': 235, 'Deep learning': 227, 'PostgreSQL': 208, 'Yarn': 206, 'Map-Reduce': 155, 'PIG': 155, 'HBASE': 155, 'numpy': 140, 'Redshift': 124, 'ORACLE': 94, 'MySQL': 94, 'Windows': 75, 'Perl': 74, 'Ruby': 35}\n"
     ]
    }
   ],
   "source": [
    "tech_list_processed = get_processed(tech_list)\n",
    "\n",
    "# processed dict\n",
    "tech_dict = {i:tech_list_processed.count(i) for i in tech_list_processed}\n",
    "# getting rid of phantom technologies names\n",
    "tech_dict.pop('', None)\n",
    "# sorted technologies dict in descending order\n",
    "sorted_dict = dict(sorted(tech_dict.items(), key=lambda item:item[1], reverse=True))\n",
    "print(sorted_dict)"
   ]
  },
  {
   "cell_type": "code",
   "execution_count": 28,
   "metadata": {},
   "outputs": [
    {
     "data": {
      "text/plain": [
       "['Python', 'R', 'SQL', 'Java', 'Hadoop']"
      ]
     },
     "execution_count": 28,
     "metadata": {},
     "output_type": "execute_result"
    }
   ],
   "source": [
    "# get the first 5 most used technologies\n",
    "max_5_values_tech_dict = sorted(tech_dict, key=tech_dict.get, reverse=True)[:5]\n",
    "max_5_values_tech_dict"
   ]
  },
  {
   "cell_type": "markdown",
   "metadata": {},
   "source": [
    "**Résultats :** \n",
    "\n",
    "Les 5 technologies les plus utilisées sont : \n",
    "- Python (6627 apparitions)\n",
    "- R      (4374 apparitions)\n",
    "- SQL    (2581 apparitions)\n",
    "- Java   (1719 apparitions)\n",
    "- Hadoop (1589 apparitions)\n",
    "\n",
    "Vu que l'on a traité au préalable les éléments de la liste `Technologies`, et qu'on les a stockés dans un **dictionnaire**, nous pouvons désormais tracer un histogramme des **5 technologies les plus utilisées**."
   ]
  },
  {
   "cell_type": "code",
   "execution_count": 29,
   "metadata": {},
   "outputs": [
    {
     "data": {
      "text/plain": [
       "<BarContainer object of 5 artists>"
      ]
     },
     "execution_count": 29,
     "metadata": {},
     "output_type": "execute_result"
    },
    {
     "data": {
      "image/png": "[encoded data removed]",
      "text/plain": [
       "<Figure size 720x576 with 1 Axes>"
      ]
     },
     "metadata": {},
     "output_type": "display_data"
    }
   ],
   "source": [
    "# plot histogram\n",
    "f, ax = plt.subplots(figsize=(10, 8))\n",
    "\n",
    "ax.set_ylabel('Apparitions in work resumes')\n",
    "ax.set_xlabel('Technologies')\n",
    "ax.set_title('Most used technologies in data science jobs')\n",
    "\n",
    "# limit our dictionnary to the first max used technologies\n",
    "max_value = 5\n",
    "keys = dict(list(sorted_dict.items())[0:max_value]).keys()\n",
    "values = dict(list(sorted_dict.items())[0:max_value]).values()\n",
    "\n",
    "plt.bar(keys,values)"
   ]
  },
  {
   "cell_type": "markdown",
   "metadata": {},
   "source": [
    "### 8) Réaliser une méthode de clustering non supervisée de votre choix pour faire apparaître 2 clusters que vous jugerez pertinents. Donnez les caractéristiques de chacun des clusters.\n",
    "-  Justifier la performance de votre algorithme grace à une métrique.\n",
    "-  Interpréter votre resultat.  \n",
    "\n",
    "**Message** : (*Malheureusement je n'ai fait majoritairement que de l'algorithme supervisé et surtout qu'en Deep Learning, donc mes connaissances en ML et surtout dans le non supervisé sont très limitées voir quasi inexistantes... mais je vais quand même essayer de répondre à cette question.*)\n",
    "\n",
    "\n",
    "**Réponse :**  \n",
    "Pour cette question, nous allons utiliser les algorithmes de clustering présent dans `scikit-learn`. Nous jugeons pertinent qu'il y ait un rapport entre les colonnes `Metier` et `Experience`, nous allons donc faire apparaître deux clusters regroupant d'un côté les **ingénieurs débutants** et leurs métiers respectifs et de l'autre les **plus expérimentés** et leurs métiers respectifs."
   ]
  },
  {
   "cell_type": "markdown",
   "metadata": {},
   "source": [
    "### Prétraitement :\n",
    "\n",
    "Comme nous l'avons dit précédemment, il y a des valeurs d'expérience manquantes pour le travail de Data Engineer. Nous décidons alors de **reconstituer un nouveau dataset** (à partir du dataset *d'avant imputation* de la question 3) en remplissant les profils d'expérience du Data Engineer par une **valeur d'expérience médiane** (dans la colonne `Experience`) qui est arbitraire. \n",
    "\n",
    "Nous avons donc ainsi créé la nouvelle catégorie `Exp_label` mise à jour par rapport à celle que l'on avait auparavant (dans les précédentes questions)."
   ]
  },
  {
   "cell_type": "code",
   "execution_count": 30,
   "metadata": {},
   "outputs": [
    {
     "name": "stdout",
     "output_type": "stream",
     "text": [
      "Entreprise       True\n",
      "Metier           True\n",
      "Technologies    False\n",
      "Diplome         False\n",
      "Experience       True\n",
      "Ville           False\n",
      "dtype: bool\n"
     ]
    }
   ],
   "source": [
    "# copy the dataset before applying categorical encoding (in the question 3)\n",
    "X_cluster_data = X_data.copy()\n",
    "#X_cluster_data\n",
    "# we're checking if there are any missing values \n",
    "print(X_cluster_data.isna().any())"
   ]
  },
  {
   "cell_type": "markdown",
   "metadata": {},
   "source": [
    "Il y a des valeurs manquantes dans la colonne `Experience`, nous allons y remédier dans les blocs suivants."
   ]
  },
  {
   "cell_type": "code",
   "execution_count": 31,
   "metadata": {
    "scrolled": true
   },
   "outputs": [
    {
     "name": "stdout",
     "output_type": "stream",
     "text": [
      "Are there any missing values for data architecte? : True\n",
      "There are 23 missing year of working experience values for the data architecte job.\n"
     ]
    }
   ],
   "source": [
    "# convert the column type to float type\n",
    "X_cluster_data['Experience'] = X_cluster_data['Experience'].astype(float)\n",
    "# mask for data architecte (cf question 4)\n",
    "mask4 = (X_data['Metier'] == 'Data architecte')\n",
    "\n",
    "print(f\"Are there any missing values for data architecte? : {X_cluster_data.loc[mask4, 'Experience'].isna().any()}\")\n",
    "print(f\"There are {X_cluster_data.loc[mask4, 'Experience'].isna().sum()} missing year of working experience values for the data architecte job.\")"
   ]
  },
  {
   "cell_type": "markdown",
   "metadata": {},
   "source": [
    "Nous effectuons le remplissage des valeurs manquantes à travers le bloc suivant."
   ]
  },
  {
   "cell_type": "code",
   "execution_count": 33,
   "metadata": {},
   "outputs": [
    {
     "name": "stdout",
     "output_type": "stream",
     "text": [
      "Are there any missing values for data architecte? : False\n",
      "There are 0 missing year of working experience values for the data architecte job.\n"
     ]
    }
   ],
   "source": [
    "# fill na values for data architecte experience in 'Experience' column \n",
    "X_cluster_data.loc[mask4, 'Experience'] = X_cluster_data.loc[mask4, 'Experience'].fillna(X_cluster_data['Experience'].median())\n",
    "\n",
    "# test if there are still na values \n",
    "print(f\"Are there any missing values for data architecte? : {X_cluster_data.loc[mask4, 'Experience'].isna().any()}\")\n",
    "print(f\"There are {X_cluster_data.loc[mask4, 'Experience'].isna().sum()} missing year of working experience values for the data architecte job.\")"
   ]
  },
  {
   "cell_type": "markdown",
   "metadata": {},
   "source": [
    "Il n'y a désormais plus aucune valeurs manquantes dans nos données essentielles (`Experience` et `Exp_label`)."
   ]
  },
  {
   "cell_type": "code",
   "execution_count": 37,
   "metadata": {},
   "outputs": [
    {
     "data": {
      "text/html": [
       "<div>\n",
       "<style scoped>\n",
       "    .dataframe tbody tr th:only-of-type {\n",
       "        vertical-align: middle;\n",
       "    }\n",
       "\n",
       "    .dataframe tbody tr th {\n",
       "        vertical-align: top;\n",
       "    }\n",
       "\n",
       "    .dataframe thead th {\n",
       "        text-align: right;\n",
       "    }\n",
       "</style>\n",
       "<table border=\"1\" class=\"dataframe\">\n",
       "  <thead>\n",
       "    <tr style=\"text-align: right;\">\n",
       "      <th></th>\n",
       "      <th>Entreprise</th>\n",
       "      <th>Metier</th>\n",
       "      <th>Technologies</th>\n",
       "      <th>Diplome</th>\n",
       "      <th>Experience</th>\n",
       "      <th>Ville</th>\n",
       "      <th>Exp_label</th>\n",
       "    </tr>\n",
       "  </thead>\n",
       "  <tbody>\n",
       "    <tr>\n",
       "      <th>0</th>\n",
       "      <td>Sanofi</td>\n",
       "      <td>Data scientist</td>\n",
       "      <td>Matlab/Python/Pyspark/Scikit-learn/Tensorflow</td>\n",
       "      <td>Master</td>\n",
       "      <td>1.0</td>\n",
       "      <td>Paris</td>\n",
       "      <td>Débutant</td>\n",
       "    </tr>\n",
       "    <tr>\n",
       "      <th>1</th>\n",
       "      <td>Massachusetts General Hospital(MGH)</td>\n",
       "      <td>Data architecte</td>\n",
       "      <td>Python/Java/Scala/MongoDB</td>\n",
       "      <td>Master</td>\n",
       "      <td>3.0</td>\n",
       "      <td>Marseille</td>\n",
       "      <td>Débutant</td>\n",
       "    </tr>\n",
       "    <tr>\n",
       "      <th>2</th>\n",
       "      <td>Delve</td>\n",
       "      <td>Lead data scientist</td>\n",
       "      <td>SPSS/SQL/Teradata/R/Python/Tensorflow/scikit-l...</td>\n",
       "      <td>Master</td>\n",
       "      <td>3.0</td>\n",
       "      <td>Nantes</td>\n",
       "      <td>Débutant</td>\n",
       "    </tr>\n",
       "    <tr>\n",
       "      <th>3</th>\n",
       "      <td>Ann &amp; Robert H. Lurie Children’s Hospital of C...</td>\n",
       "      <td>Data scientist</td>\n",
       "      <td>C/C++/Java/Python</td>\n",
       "      <td>Master</td>\n",
       "      <td>1.5</td>\n",
       "      <td>Marseille</td>\n",
       "      <td>Débutant</td>\n",
       "    </tr>\n",
       "    <tr>\n",
       "      <th>4</th>\n",
       "      <td>Arm</td>\n",
       "      <td>Data scientist</td>\n",
       "      <td>Matlab/Python/C++/numpy/Tensorflow/scikit-learn</td>\n",
       "      <td>Phd</td>\n",
       "      <td>2.0</td>\n",
       "      <td>Bordeaux</td>\n",
       "      <td>Débutant</td>\n",
       "    </tr>\n",
       "  </tbody>\n",
       "</table>\n",
       "</div>"
      ],
      "text/plain": [
       "                                          Entreprise               Metier  \\\n",
       "0                                             Sanofi       Data scientist   \n",
       "1                Massachusetts General Hospital(MGH)      Data architecte   \n",
       "2                                              Delve  Lead data scientist   \n",
       "3  Ann & Robert H. Lurie Children’s Hospital of C...       Data scientist   \n",
       "4                                                Arm       Data scientist   \n",
       "\n",
       "                                        Technologies Diplome  Experience  \\\n",
       "0      Matlab/Python/Pyspark/Scikit-learn/Tensorflow  Master         1.0   \n",
       "1                          Python/Java/Scala/MongoDB  Master         3.0   \n",
       "2  SPSS/SQL/Teradata/R/Python/Tensorflow/scikit-l...  Master         3.0   \n",
       "3                                  C/C++/Java/Python  Master         1.5   \n",
       "4    Matlab/Python/C++/numpy/Tensorflow/scikit-learn     Phd         2.0   \n",
       "\n",
       "       Ville Exp_label  \n",
       "0      Paris  Débutant  \n",
       "1  Marseille  Débutant  \n",
       "2     Nantes  Débutant  \n",
       "3  Marseille  Débutant  \n",
       "4   Bordeaux  Débutant  "
      ]
     },
     "execution_count": 37,
     "metadata": {},
     "output_type": "execute_result"
    }
   ],
   "source": [
    "# encode the new column using cut() method from pandas\n",
    "X_cluster_data['Exp_label'] = pd.cut(X_cluster_data['Experience'], 4, labels=['Débutant', 'Confirmé', 'Avancé', 'Expert'])\n",
    "X_cluster_data.head()"
   ]
  },
  {
   "cell_type": "code",
   "execution_count": 35,
   "metadata": {},
   "outputs": [
    {
     "name": "stdout",
     "output_type": "stream",
     "text": [
      "Are there any missing values for the 'Experience' column ? False\n",
      "Are there any missing values for the 'Exp_label' column ? False\n",
      "\n",
      "Statistical data of the 'Experience' column after filling missing values from data architecte jobs:\n"
     ]
    },
    {
     "data": {
      "text/html": [
       "<div>\n",
       "<style scoped>\n",
       "    .dataframe tbody tr th:only-of-type {\n",
       "        vertical-align: middle;\n",
       "    }\n",
       "\n",
       "    .dataframe tbody tr th {\n",
       "        vertical-align: top;\n",
       "    }\n",
       "\n",
       "    .dataframe thead th {\n",
       "        text-align: right;\n",
       "    }\n",
       "</style>\n",
       "<table border=\"1\" class=\"dataframe\">\n",
       "  <thead>\n",
       "    <tr style=\"text-align: right;\">\n",
       "      <th></th>\n",
       "      <th>Experience</th>\n",
       "    </tr>\n",
       "  </thead>\n",
       "  <tbody>\n",
       "    <tr>\n",
       "      <th>count</th>\n",
       "      <td>9582.000000</td>\n",
       "    </tr>\n",
       "    <tr>\n",
       "      <th>mean</th>\n",
       "      <td>2.811229</td>\n",
       "    </tr>\n",
       "    <tr>\n",
       "      <th>std</th>\n",
       "      <td>2.703821</td>\n",
       "    </tr>\n",
       "    <tr>\n",
       "      <th>min</th>\n",
       "      <td>0.000000</td>\n",
       "    </tr>\n",
       "    <tr>\n",
       "      <th>25%</th>\n",
       "      <td>1.000000</td>\n",
       "    </tr>\n",
       "    <tr>\n",
       "      <th>50%</th>\n",
       "      <td>2.000000</td>\n",
       "    </tr>\n",
       "    <tr>\n",
       "      <th>75%</th>\n",
       "      <td>3.500000</td>\n",
       "    </tr>\n",
       "    <tr>\n",
       "      <th>max</th>\n",
       "      <td>21.000000</td>\n",
       "    </tr>\n",
       "  </tbody>\n",
       "</table>\n",
       "</div>"
      ],
      "text/plain": [
       "        Experience\n",
       "count  9582.000000\n",
       "mean      2.811229\n",
       "std       2.703821\n",
       "min       0.000000\n",
       "25%       1.000000\n",
       "50%       2.000000\n",
       "75%       3.500000\n",
       "max      21.000000"
      ]
     },
     "execution_count": 35,
     "metadata": {},
     "output_type": "execute_result"
    }
   ],
   "source": [
    "# check if there are still missing values\n",
    "print(f\"Are there any missing values for the 'Experience' column ? {X_cluster_data['Experience'].isna().any()}\")\n",
    "print(f\"Are there any missing values for the 'Exp_label' column ? {X_cluster_data['Exp_label'].isna().any()}\")\n",
    "# generate descriptive statistics of the 'Experience' column which is the only column with float values\n",
    "print(f\"\\nStatistical data of the 'Experience' column after filling missing values from data architecte jobs:\")\n",
    "X_cluster_data.describe()"
   ]
  },
  {
   "cell_type": "markdown",
   "metadata": {},
   "source": [
    "### Récupération des colonnes \n",
    "\n",
    "Nous récupérons donc les colonnes qui nous intéressent pour ce problème."
   ]
  },
  {
   "cell_type": "code",
   "execution_count": 38,
   "metadata": {
    "scrolled": true
   },
   "outputs": [
    {
     "name": "stdout",
     "output_type": "stream",
     "text": [
      "Experience    False\n",
      "Metier         True\n",
      "dtype: bool\n"
     ]
    }
   ],
   "source": [
    "# we define the clusters category columns\n",
    "clusters_category = pd.DataFrame(X_cluster_data, columns=['Experience', 'Metier'])\n",
    "# checking missing values\n",
    "print(clusters_category.isna().any())\n",
    "#clusters_category"
   ]
  },
  {
   "cell_type": "markdown",
   "metadata": {},
   "source": [
    "Pour pouvoir appliquer l'algorithme non supervisé `KMeans`, il faut que les données de la colonne **`Metier`** soit au format labellisé (`float` ou `int`) pour permettre leur exploitation. Sachant que nous savons déjà que les valeurs dans cette colonne sont hiérarchisées (**cf. q6**), nous pouvons effectuer une méthode d'encodage directement sur la colonne **`Metier`** pour convertir les valeurs `str` en labels exploitables de type `int` prenant la valeur 0 ou 1."
   ]
  },
  {
   "cell_type": "code",
   "execution_count": 39,
   "metadata": {
    "scrolled": true
   },
   "outputs": [
    {
     "name": "stdout",
     "output_type": "stream",
     "text": [
      "Categorical variables:\n",
      "['Metier']\n"
     ]
    }
   ],
   "source": [
    "# convert the 'Metier' column type to categorical\n",
    "clusters_category['Metier'] = clusters_category['Metier'].astype('category')\n",
    "# Get list of categorical variables\n",
    "data_type_object = (clusters_category.dtypes == 'category')\n",
    "categorical_cols = list(data_type_object[data_type_object].index)\n",
    "\n",
    "# check the dataset\n",
    "print(f\"Categorical variables:\")\n",
    "print(categorical_cols)"
   ]
  },
  {
   "cell_type": "markdown",
   "metadata": {},
   "source": [
    "Nous allons donc appliquer une méthode d'encodage appelée (**one-hot encoding**) sur la variable continue **`Metier`** pour pouvoir exploiter les valeurs de celle-ci dans le cadre de notre algorithme non supervisé."
   ]
  },
  {
   "cell_type": "code",
   "execution_count": 40,
   "metadata": {
    "scrolled": false
   },
   "outputs": [],
   "source": [
    "from sklearn.preprocessing import OneHotEncoder\n",
    "\n",
    "# Apply one-hot encoder to each column with categorical data\n",
    "OH_encoder = OneHotEncoder(handle_unknown='ignore', sparse=False)\n",
    "clusters_category = pd.DataFrame(OH_encoder.fit_transform(clusters_category[categorical_cols]))\n",
    "\n",
    "# get back the name of the columns\n",
    "clusters_category.columns = OH_encoder.get_feature_names()\n",
    "# One-hot encoding removed index; put it back\n",
    "clusters_category.index = X_cluster_data.index\n",
    "# Remove categorical columns (will replace with one-hot encoding)\n",
    "num_clusters_category = X_cluster_data.drop(categorical_cols, axis=1)\n",
    "\n",
    "# Add one-hot encoded columns to numerical features\n",
    "OH_clusters_category = pd.concat([num_clusters_category, clusters_category], axis=1)"
   ]
  },
  {
   "cell_type": "code",
   "execution_count": 41,
   "metadata": {},
   "outputs": [
    {
     "name": "stdout",
     "output_type": "stream",
     "text": [
      "Features names : \n",
      "['x0_Data architecte' 'x0_Data engineer' 'x0_Data scientist'\n",
      " 'x0_Lead data scientist' 'x0_nan'] \n",
      "\n"
     ]
    },
    {
     "data": {
      "text/html": [
       "<div>\n",
       "<style scoped>\n",
       "    .dataframe tbody tr th:only-of-type {\n",
       "        vertical-align: middle;\n",
       "    }\n",
       "\n",
       "    .dataframe tbody tr th {\n",
       "        vertical-align: top;\n",
       "    }\n",
       "\n",
       "    .dataframe thead th {\n",
       "        text-align: right;\n",
       "    }\n",
       "</style>\n",
       "<table border=\"1\" class=\"dataframe\">\n",
       "  <thead>\n",
       "    <tr style=\"text-align: right;\">\n",
       "      <th></th>\n",
       "      <th>x0_Data architecte</th>\n",
       "      <th>x0_Data engineer</th>\n",
       "      <th>x0_Data scientist</th>\n",
       "      <th>x0_Lead data scientist</th>\n",
       "      <th>x0_nan</th>\n",
       "      <th>Experience</th>\n",
       "    </tr>\n",
       "  </thead>\n",
       "  <tbody>\n",
       "    <tr>\n",
       "      <th>0</th>\n",
       "      <td>0.0</td>\n",
       "      <td>0.0</td>\n",
       "      <td>1.0</td>\n",
       "      <td>0.0</td>\n",
       "      <td>0.0</td>\n",
       "      <td>1.0</td>\n",
       "    </tr>\n",
       "    <tr>\n",
       "      <th>1</th>\n",
       "      <td>1.0</td>\n",
       "      <td>0.0</td>\n",
       "      <td>0.0</td>\n",
       "      <td>0.0</td>\n",
       "      <td>0.0</td>\n",
       "      <td>3.0</td>\n",
       "    </tr>\n",
       "    <tr>\n",
       "      <th>2</th>\n",
       "      <td>0.0</td>\n",
       "      <td>0.0</td>\n",
       "      <td>0.0</td>\n",
       "      <td>1.0</td>\n",
       "      <td>0.0</td>\n",
       "      <td>3.0</td>\n",
       "    </tr>\n",
       "    <tr>\n",
       "      <th>3</th>\n",
       "      <td>0.0</td>\n",
       "      <td>0.0</td>\n",
       "      <td>1.0</td>\n",
       "      <td>0.0</td>\n",
       "      <td>0.0</td>\n",
       "      <td>1.5</td>\n",
       "    </tr>\n",
       "    <tr>\n",
       "      <th>4</th>\n",
       "      <td>0.0</td>\n",
       "      <td>0.0</td>\n",
       "      <td>1.0</td>\n",
       "      <td>0.0</td>\n",
       "      <td>0.0</td>\n",
       "      <td>2.0</td>\n",
       "    </tr>\n",
       "  </tbody>\n",
       "</table>\n",
       "</div>"
      ],
      "text/plain": [
       "   x0_Data architecte  x0_Data engineer  x0_Data scientist  \\\n",
       "0                 0.0               0.0                1.0   \n",
       "1                 1.0               0.0                0.0   \n",
       "2                 0.0               0.0                0.0   \n",
       "3                 0.0               0.0                1.0   \n",
       "4                 0.0               0.0                1.0   \n",
       "\n",
       "   x0_Lead data scientist  x0_nan  Experience  \n",
       "0                     0.0     0.0         1.0  \n",
       "1                     0.0     0.0         3.0  \n",
       "2                     1.0     0.0         3.0  \n",
       "3                     0.0     0.0         1.5  \n",
       "4                     0.0     0.0         2.0  "
      ]
     },
     "execution_count": 41,
     "metadata": {},
     "output_type": "execute_result"
    }
   ],
   "source": [
    "# adding back the column Experience from the preprocessed data\n",
    "experience = X_cluster_data['Experience']\n",
    "clusters_category['Experience'] = experience\n",
    "\n",
    "# check the new dataset to work with and the features names\n",
    "print(f'Features names : \\n{OH_encoder.get_feature_names()} \\n')\n",
    "\n",
    "# checking the new columns after adding back the 'Experience' one\n",
    "clusters_category.head()"
   ]
  },
  {
   "cell_type": "markdown",
   "metadata": {},
   "source": [
    "### Application de la méthode de clustering KMeans\n",
    "\n",
    "Désormais, nous avons nos colonnes encodées et des valeurs exploitables pour la méthode de clustering `KMeans`. Nous allons donc essayer de la mettre en place et en dégager 2 clusters bien distinct. "
   ]
  },
  {
   "cell_type": "code",
   "execution_count": 42,
   "metadata": {},
   "outputs": [],
   "source": [
    "from sklearn.cluster import KMeans\n",
    "\n",
    "# get the features we want to apply KMeans\n",
    "clustering_features = [clustering_features for clustering_features in clusters_category.columns]\n",
    "X = clusters_category[clustering_features]\n",
    "#print(X.values)"
   ]
  },
  {
   "cell_type": "code",
   "execution_count": 43,
   "metadata": {
    "scrolled": true
   },
   "outputs": [
    {
     "name": "stdout",
     "output_type": "stream",
     "text": [
      "KMeans inertia : 35194.29836520809 \n",
      "\n",
      "KMeans cluster centers :\n",
      " [[2.12891114e-01 2.37296621e-01 4.37546934e-01 1.10387985e-01\n",
      "  1.87734668e-03 1.88125146e+00]\n",
      " [2.65075377e-01 2.83291457e-01 2.31783920e-01 2.17336683e-01\n",
      "  2.51256281e-03 7.47864322e+00]] \n",
      "\n",
      "KMeans number of iteration to converge : 5\n"
     ]
    }
   ],
   "source": [
    "# applying KMeans\n",
    "n_cluster = 2\n",
    "kmeans = KMeans(init=\"random\", n_clusters=n_cluster, random_state=0)\n",
    "y_kmeans = kmeans.fit(X.values)\n",
    "\n",
    "print(f'KMeans inertia : {kmeans.inertia_} \\n')\n",
    "print(f'KMeans cluster centers :\\n {kmeans.cluster_centers_} \\n')\n",
    "print(f'KMeans number of iteration to converge : {kmeans.n_iter_}')"
   ]
  },
  {
   "cell_type": "markdown",
   "metadata": {},
   "source": [
    "Nous utilisons la métrique `silhouette_score` pour évaluer notre séparation en deux clusters de nos données contenues dans **X**."
   ]
  },
  {
   "cell_type": "code",
   "execution_count": 44,
   "metadata": {
    "scrolled": true
   },
   "outputs": [
    {
     "name": "stdout",
     "output_type": "stream",
     "text": [
      "For 2 clusters, the average Silhouette score is : 0.603\n"
     ]
    }
   ],
   "source": [
    "from sklearn.metrics import silhouette_score\n",
    "\n",
    "# store kmeans labels\n",
    "label = kmeans.labels_\n",
    "\n",
    "# get the silhouette score of our model\n",
    "kmeans_silhouette = silhouette_score(X, label).round(3)\n",
    "print(f'For {n_cluster} clusters, the average Silhouette score is : {kmeans_silhouette}')"
   ]
  },
  {
   "cell_type": "markdown",
   "metadata": {},
   "source": [
    "La valeur de `silhouette_score` varie **entre -1 et 1**, si le score est **de 1** alors les clusters sont denses et bien séparés entre eux. Une valeur du score proche **de 0** correspond à une différenciation pas assez prononcée entre les différents clusters (l'algorithme a du mal à les séparer en clusters bien distincts). Une valeur négative (entre **-1 et 0**) indique que les valeurs exploitées ne sont pas adéquates ou bien qu'elles ont été mal assignées aux clusters.  \n",
    "Le score obtenu est de **0.603**, ce qui n'est pas si mal même si l'on peut l'améliorer. Un score de silhouette compris entre **0.5 et 1** peut être considéré comme étant représentatif d'une bonne différenciation entre les clusters.\n",
    "\n",
    "**Message :**\n",
    "*Je ne sais pas si la réponse de la question 8 est juste, mais je vous propose quand même ma démarche pour utiliser au mieux cet algorithme non supervisé et comment j'ai fait pour parvenir à ce résultat*"
   ]
  },
  {
   "cell_type": "markdown",
   "metadata": {},
   "source": [
    "### 9) Réaliser la prédiction des métiers manquants dans la base de données par l'algorithme de votre choix\n",
    "-  Justifier la performance de votre algorithme grace à une métrique.\n",
    "-  Interpréter votre resultat.  "
   ]
  },
  {
   "cell_type": "markdown",
   "metadata": {},
   "source": [
    "**Réponse :**\n",
    "\n",
    "Nous pouvons utiliser les données disponibles des autres colonnes pour pouvoir prédire les métiers manquants dans la colonne **`Metier`**, cependant il y a un gros mur qui se heurte à nous : **les données ne sont pas numériques**.  \n",
    "Deux choix s'offrent donc à nous, soit nous convertissons en numérique toutes les données pertinentes (utiles) pour pouvoir prédire quels types de métiers manquent (**en utilisant les méthodes d'encodage**) => *prétraitement des données long*, soit nous essayons de prédire les métiers manquants de la colonne **`Metier`** seulement avec l'aide de la colonne **`Experience`** qui est la seule contenant des valeurs numériques. La deuxième approche ne semble pas être assez efficace pour ce problème.  \n",
    "\n",
    "Compte tenu du dataset et des différentes catégories qui peuvent être pertinentes pour la détermination des métiers manquants, nous tentons **la première approche** car elle nous semble la plus efficace pour ce problème."
   ]
  },
  {
   "cell_type": "code",
   "execution_count": 61,
   "metadata": {
    "scrolled": true
   },
   "outputs": [
    {
     "name": "stdout",
     "output_type": "stream",
     "text": [
      "Are there any missing values in the 'Metier' column ? : True\n",
      "There are 19 missing values in the 'Metier' column.\n"
     ]
    }
   ],
   "source": [
    "# we're using our data preprocessed from question 8\n",
    "X_final_data = X_cluster_data.copy()\n",
    "# checking how many missing values the column 'Metier' have\n",
    "print(f\"Are there any missing values in the 'Metier' column ? : {X_final_data['Metier'].isna().any()}\")\n",
    "print(f\"There are {X_final_data['Metier'].isna().sum()} missing values in the 'Metier' column.\")"
   ]
  },
  {
   "cell_type": "markdown",
   "metadata": {},
   "source": [
    "### Prétaitement.\n",
    "\n",
    "Nous devons désormais garder seulement les variables pertinentes pour nos prédictions. Pour cela, nous allons étudier en détails les colonnes **`Technologies`**, **`Diplome`** et **`Exp_label`**, car elles semblent les plus pertinentes pour la prédiction des métiers manquants de la colonne **`Metier`**. \n",
    "\n",
    "Dans un premier temps, nous allons effectuer un encodage de la colonne **`Technologies`** pour pouvoir récupérer les technologies présentes dans les différents profils d'ingénieur data science de notre dataset. Nous reprenons les mêmes méthodes de prétraitement car il y a toujours les même soucis d'orthographe des technologies que pour la question 7, mais cette fois-ci, la fonction de processing d'orthographe sera optimisée pour garder **l'attribution des technologies au bon index**."
   ]
  },
  {
   "cell_type": "code",
   "execution_count": 62,
   "metadata": {},
   "outputs": [],
   "source": [
    "# function to process error names in our list \n",
    "def replace_words(tech_list):\n",
    "    \"\"\" Processing error in names without changing the lists dimensions \"\"\"\n",
    "    for i, lists in enumerate(tech_list):\n",
    "        for j, elem in enumerate(lists):\n",
    "            \n",
    "            if elem == 'Pyspark':\n",
    "                tech_list[i][j] = 'PySpark'\n",
    "            if elem == 'scikit-learn':\n",
    "                tech_list[i][j] = 'Scikit-learn'\n",
    "            if elem == 'anglais':\n",
    "                tech_list[i][j] = 'Anglais'                \n",
    "            if elem == 'machine learning':\n",
    "                tech_list[i][j] = 'Machine Learning'\n",
    "            if elem == 'Machine learning':\n",
    "                tech_list[i][j] = 'Machine Learning'\n",
    "            if elem == 'Hadoop(HDFS)':\n",
    "                tech_list[i][j] = 'HDFS'\n",
    "            if elem == 'NoSQ':\n",
    "                tech_list[i][j] = 'NoSQL'\n",
    "            if elem == 'NoSQLL':\n",
    "                tech_list[i][j] = 'NoSQL'   \n",
    "                \n",
    "    return tech_list"
   ]
  },
  {
   "cell_type": "code",
   "execution_count": 63,
   "metadata": {},
   "outputs": [],
   "source": [
    "# function to process none values in our nested lists\n",
    "def list_processing(tech_list):\n",
    "    \"\"\" Processing none values \"\"\"\n",
    "    processed_tech_list = []    \n",
    "    for i, lists in enumerate(tech_list):\n",
    "        for j, elem in enumerate(lists):\n",
    "            \n",
    "            lists = filter(None,lists)\n",
    "            lists = list(lists)\n",
    "        processed_tech_list.append(lists)\n",
    "                \n",
    "    return processed_tech_list"
   ]
  },
  {
   "cell_type": "code",
   "execution_count": 64,
   "metadata": {},
   "outputs": [
    {
     "data": {
      "text/plain": [
       "[['Matlab', 'Python', 'PySpark', 'Scikit-learn', 'Tensorflow'],\n",
       " ['Python', 'Java', 'Scala', 'MongoDB'],\n",
       " ['SPSS', 'SQL', 'Teradata', 'R', 'Python', 'Tensorflow', 'Scikit-learn'],\n",
       " ['C', 'C++', 'Java', 'Python'],\n",
       " ['Matlab', 'Python', 'C++', 'numpy', 'Tensorflow', 'Scikit-learn'],\n",
       " ['VBA', 'Python', 'Excel', 'R'],\n",
       " ['Excel', 'VBA', 'R', 'Python', 'PySpark'],\n",
       " ['Java', 'C', 'C++', 'R', 'Python'],\n",
       " ['Java', 'Linux', 'Docker'],\n",
       " ['Python', 'Java', 'Linux', 'GNU'],\n",
       " ['Hadoop', 'Hive', 'SQL', 'MariaDB'],\n",
       " ['Python', 'R', 'Machine Learning', 'Excel', 'VBA', 'C++']]"
      ]
     },
     "execution_count": 64,
     "metadata": {},
     "output_type": "execute_result"
    }
   ],
   "source": [
    "# transform into a list and extract elements with a slash suffix and stored them in sublists\n",
    "final_raw_tech_list = X_final_data['Technologies'].tolist() \n",
    "final_raw_tech_list = extract_slash(final_raw_tech_list)\n",
    "\n",
    "# apply processing to our list of technologies\n",
    "final_tech_list = replace_words(final_raw_tech_list)\n",
    "final_tech_list = list_processing(final_tech_list)\n",
    "\n",
    "#checking the first values of our new processed list\n",
    "final_tech_list[:12]"
   ]
  },
  {
   "cell_type": "markdown",
   "metadata": {},
   "source": [
    "La fonction de processing d'orthographe a modifié la plus part des noms de technologies de sorte à les harmoniser."
   ]
  },
  {
   "cell_type": "code",
   "execution_count": 65,
   "metadata": {},
   "outputs": [
    {
     "name": "stdout",
     "output_type": "stream",
     "text": [
      "Type of the column 'Technologies' : object\n",
      "\n"
     ]
    },
    {
     "data": {
      "text/html": [
       "<div>\n",
       "<style scoped>\n",
       "    .dataframe tbody tr th:only-of-type {\n",
       "        vertical-align: middle;\n",
       "    }\n",
       "\n",
       "    .dataframe tbody tr th {\n",
       "        vertical-align: top;\n",
       "    }\n",
       "\n",
       "    .dataframe thead th {\n",
       "        text-align: right;\n",
       "    }\n",
       "</style>\n",
       "<table border=\"1\" class=\"dataframe\">\n",
       "  <thead>\n",
       "    <tr style=\"text-align: right;\">\n",
       "      <th></th>\n",
       "      <th>Metier</th>\n",
       "      <th>Technologies</th>\n",
       "      <th>Diplome</th>\n",
       "      <th>Exp_label</th>\n",
       "    </tr>\n",
       "  </thead>\n",
       "  <tbody>\n",
       "    <tr>\n",
       "      <th>0</th>\n",
       "      <td>Data scientist</td>\n",
       "      <td>[Matlab, Python, PySpark, Scikit-learn, Tensor...</td>\n",
       "      <td>Master</td>\n",
       "      <td>Débutant</td>\n",
       "    </tr>\n",
       "    <tr>\n",
       "      <th>1</th>\n",
       "      <td>Data architecte</td>\n",
       "      <td>[Python, Java, Scala, MongoDB]</td>\n",
       "      <td>Master</td>\n",
       "      <td>Débutant</td>\n",
       "    </tr>\n",
       "    <tr>\n",
       "      <th>2</th>\n",
       "      <td>Lead data scientist</td>\n",
       "      <td>[SPSS, SQL, Teradata, R, Python, Tensorflow, S...</td>\n",
       "      <td>Master</td>\n",
       "      <td>Débutant</td>\n",
       "    </tr>\n",
       "    <tr>\n",
       "      <th>3</th>\n",
       "      <td>Data scientist</td>\n",
       "      <td>[C, C++, Java, Python]</td>\n",
       "      <td>Master</td>\n",
       "      <td>Débutant</td>\n",
       "    </tr>\n",
       "    <tr>\n",
       "      <th>4</th>\n",
       "      <td>Data scientist</td>\n",
       "      <td>[Matlab, Python, C++, numpy, Tensorflow, Sciki...</td>\n",
       "      <td>Phd</td>\n",
       "      <td>Débutant</td>\n",
       "    </tr>\n",
       "  </tbody>\n",
       "</table>\n",
       "</div>"
      ],
      "text/plain": [
       "                Metier                                       Technologies  \\\n",
       "0       Data scientist  [Matlab, Python, PySpark, Scikit-learn, Tensor...   \n",
       "1      Data architecte                     [Python, Java, Scala, MongoDB]   \n",
       "2  Lead data scientist  [SPSS, SQL, Teradata, R, Python, Tensorflow, S...   \n",
       "3       Data scientist                             [C, C++, Java, Python]   \n",
       "4       Data scientist  [Matlab, Python, C++, numpy, Tensorflow, Sciki...   \n",
       "\n",
       "  Diplome Exp_label  \n",
       "0  Master  Débutant  \n",
       "1  Master  Débutant  \n",
       "2  Master  Débutant  \n",
       "3  Master  Débutant  \n",
       "4     Phd  Débutant  "
      ]
     },
     "execution_count": 65,
     "metadata": {},
     "output_type": "execute_result"
    }
   ],
   "source": [
    "X_final_data['Technologies'] = final_tech_list\n",
    "#convert back to object type\n",
    "X_final_data['Technologies'].convert_dtypes\n",
    "print(f\"Type of the column 'Technologies' : {X_final_data['Technologies'].dtypes}\\n\")\n",
    "# drop the column we do not need for prediction\n",
    "X_final_data = X_final_data.drop(columns=['Entreprise', 'Ville', 'Experience'])\n",
    "X_final_data.head()"
   ]
  },
  {
   "cell_type": "markdown",
   "metadata": {},
   "source": [
    "### Encoding de la colonne \"Technologies\".\n",
    "\n",
    "Nous allons utiliser le module `MultiLabelBinarizer` de `scikit-learn` pour effectuer une méthode d'encodage en **one-hot encoding** des nested-lists contenues dans la variable continue **`Technologies`**."
   ]
  },
  {
   "cell_type": "code",
   "execution_count": 66,
   "metadata": {},
   "outputs": [
    {
     "name": "stdout",
     "output_type": "stream",
     "text": [
      "Index(['AI', 'AWS', 'Anglais', 'Big data', 'C', 'C++', 'Cassandra',\n",
      "       'Deep learning', 'Docker', 'Elasticsearch', 'Excel', 'GNU', 'HBASE',\n",
      "       'HDFS', 'Hadoop', 'Hive', 'Java', 'Kafka', 'Kibana', 'Linux',\n",
      "       'Machine Learning', 'Map-Reduce', 'MariaDB', 'Matlab', 'Matplotlib',\n",
      "       'Microsoft Azure', 'MongoDB', 'MySQL', 'NoSQL', 'ORACLE', 'PIG', 'Perl',\n",
      "       'PostgreSQL', 'PySpark', 'Pycharm', 'Python', 'R', 'Redshift', 'Ruby',\n",
      "       'SAS', 'SPSS', 'SQL', 'Scala', 'Scikit-learn', 'Scoring', 'Spark',\n",
      "       'Tableau', 'Tensorflow', 'Teradata', 'VBA', 'Vertica', 'Windows',\n",
      "       'Yarn', 'numpy'],\n",
      "      dtype='object')\n"
     ]
    },
    {
     "data": {
      "text/html": [
       "<div>\n",
       "<style scoped>\n",
       "    .dataframe tbody tr th:only-of-type {\n",
       "        vertical-align: middle;\n",
       "    }\n",
       "\n",
       "    .dataframe tbody tr th {\n",
       "        vertical-align: top;\n",
       "    }\n",
       "\n",
       "    .dataframe thead th {\n",
       "        text-align: right;\n",
       "    }\n",
       "</style>\n",
       "<table border=\"1\" class=\"dataframe\">\n",
       "  <thead>\n",
       "    <tr style=\"text-align: right;\">\n",
       "      <th></th>\n",
       "      <th>AI</th>\n",
       "      <th>AWS</th>\n",
       "      <th>Anglais</th>\n",
       "      <th>Big data</th>\n",
       "      <th>C</th>\n",
       "      <th>C++</th>\n",
       "      <th>Cassandra</th>\n",
       "      <th>Deep learning</th>\n",
       "      <th>Docker</th>\n",
       "      <th>Elasticsearch</th>\n",
       "      <th>...</th>\n",
       "      <th>Scoring</th>\n",
       "      <th>Spark</th>\n",
       "      <th>Tableau</th>\n",
       "      <th>Tensorflow</th>\n",
       "      <th>Teradata</th>\n",
       "      <th>VBA</th>\n",
       "      <th>Vertica</th>\n",
       "      <th>Windows</th>\n",
       "      <th>Yarn</th>\n",
       "      <th>numpy</th>\n",
       "    </tr>\n",
       "  </thead>\n",
       "  <tbody>\n",
       "    <tr>\n",
       "      <th>0</th>\n",
       "      <td>0</td>\n",
       "      <td>0</td>\n",
       "      <td>0</td>\n",
       "      <td>0</td>\n",
       "      <td>0</td>\n",
       "      <td>0</td>\n",
       "      <td>0</td>\n",
       "      <td>0</td>\n",
       "      <td>0</td>\n",
       "      <td>0</td>\n",
       "      <td>...</td>\n",
       "      <td>0</td>\n",
       "      <td>0</td>\n",
       "      <td>0</td>\n",
       "      <td>1</td>\n",
       "      <td>0</td>\n",
       "      <td>0</td>\n",
       "      <td>0</td>\n",
       "      <td>0</td>\n",
       "      <td>0</td>\n",
       "      <td>0</td>\n",
       "    </tr>\n",
       "    <tr>\n",
       "      <th>1</th>\n",
       "      <td>0</td>\n",
       "      <td>0</td>\n",
       "      <td>0</td>\n",
       "      <td>0</td>\n",
       "      <td>0</td>\n",
       "      <td>0</td>\n",
       "      <td>0</td>\n",
       "      <td>0</td>\n",
       "      <td>0</td>\n",
       "      <td>0</td>\n",
       "      <td>...</td>\n",
       "      <td>0</td>\n",
       "      <td>0</td>\n",
       "      <td>0</td>\n",
       "      <td>0</td>\n",
       "      <td>0</td>\n",
       "      <td>0</td>\n",
       "      <td>0</td>\n",
       "      <td>0</td>\n",
       "      <td>0</td>\n",
       "      <td>0</td>\n",
       "    </tr>\n",
       "    <tr>\n",
       "      <th>2</th>\n",
       "      <td>0</td>\n",
       "      <td>0</td>\n",
       "      <td>0</td>\n",
       "      <td>0</td>\n",
       "      <td>0</td>\n",
       "      <td>0</td>\n",
       "      <td>0</td>\n",
       "      <td>0</td>\n",
       "      <td>0</td>\n",
       "      <td>0</td>\n",
       "      <td>...</td>\n",
       "      <td>0</td>\n",
       "      <td>0</td>\n",
       "      <td>0</td>\n",
       "      <td>1</td>\n",
       "      <td>1</td>\n",
       "      <td>0</td>\n",
       "      <td>0</td>\n",
       "      <td>0</td>\n",
       "      <td>0</td>\n",
       "      <td>0</td>\n",
       "    </tr>\n",
       "    <tr>\n",
       "      <th>3</th>\n",
       "      <td>0</td>\n",
       "      <td>0</td>\n",
       "      <td>0</td>\n",
       "      <td>0</td>\n",
       "      <td>1</td>\n",
       "      <td>1</td>\n",
       "      <td>0</td>\n",
       "      <td>0</td>\n",
       "      <td>0</td>\n",
       "      <td>0</td>\n",
       "      <td>...</td>\n",
       "      <td>0</td>\n",
       "      <td>0</td>\n",
       "      <td>0</td>\n",
       "      <td>0</td>\n",
       "      <td>0</td>\n",
       "      <td>0</td>\n",
       "      <td>0</td>\n",
       "      <td>0</td>\n",
       "      <td>0</td>\n",
       "      <td>0</td>\n",
       "    </tr>\n",
       "    <tr>\n",
       "      <th>4</th>\n",
       "      <td>0</td>\n",
       "      <td>0</td>\n",
       "      <td>0</td>\n",
       "      <td>0</td>\n",
       "      <td>0</td>\n",
       "      <td>1</td>\n",
       "      <td>0</td>\n",
       "      <td>0</td>\n",
       "      <td>0</td>\n",
       "      <td>0</td>\n",
       "      <td>...</td>\n",
       "      <td>0</td>\n",
       "      <td>0</td>\n",
       "      <td>0</td>\n",
       "      <td>1</td>\n",
       "      <td>0</td>\n",
       "      <td>0</td>\n",
       "      <td>0</td>\n",
       "      <td>0</td>\n",
       "      <td>0</td>\n",
       "      <td>1</td>\n",
       "    </tr>\n",
       "  </tbody>\n",
       "</table>\n",
       "<p>5 rows × 54 columns</p>\n",
       "</div>"
      ],
      "text/plain": [
       "   AI  AWS  Anglais  Big data  C  C++  Cassandra  Deep learning  Docker  \\\n",
       "0   0    0        0         0  0    0          0              0       0   \n",
       "1   0    0        0         0  0    0          0              0       0   \n",
       "2   0    0        0         0  0    0          0              0       0   \n",
       "3   0    0        0         0  1    1          0              0       0   \n",
       "4   0    0        0         0  0    1          0              0       0   \n",
       "\n",
       "   Elasticsearch  ...  Scoring  Spark  Tableau  Tensorflow  Teradata  VBA  \\\n",
       "0              0  ...        0      0        0           1         0    0   \n",
       "1              0  ...        0      0        0           0         0    0   \n",
       "2              0  ...        0      0        0           1         1    0   \n",
       "3              0  ...        0      0        0           0         0    0   \n",
       "4              0  ...        0      0        0           1         0    0   \n",
       "\n",
       "   Vertica  Windows  Yarn  numpy  \n",
       "0        0        0     0      0  \n",
       "1        0        0     0      0  \n",
       "2        0        0     0      0  \n",
       "3        0        0     0      0  \n",
       "4        0        0     0      1  \n",
       "\n",
       "[5 rows x 54 columns]"
      ]
     },
     "execution_count": 66,
     "metadata": {},
     "output_type": "execute_result"
    }
   ],
   "source": [
    "from sklearn.preprocessing import MultiLabelBinarizer\n",
    "\n",
    "# use the multilabelinarizer from scikit-learn\n",
    "mlb = MultiLabelBinarizer()\n",
    "label_tech_list = mlb.fit_transform(X_final_data['Technologies'])\n",
    "\n",
    "# our new dataset with technology encoded\n",
    "X_final_label = pd.DataFrame(label_tech_list, columns=mlb.classes_)\n",
    "print(X_final_label.columns)\n",
    "X_final_label.head()"
   ]
  },
  {
   "cell_type": "markdown",
   "metadata": {},
   "source": [
    "### Encoding des colonnes pertinentes pour la prédiction.\n",
    "\n",
    "Nous avons pu encoder les différentes technologies apparaissant dans chaque profil d'ingénieurs, nous avons fait un pas vers la possibilité de prédire les métiers manquants. Désormais, nous devons effectuer l'encodage des autres colonnes de notre dataset **X_final_data**, c'est à dire : **`Diplome`** et **`Exp_label`**.\n",
    "\n",
    "Nous avons le choix d'effectuer du **label encoding** ou bien du **one-hot encoding**. Nous observons une certaine hiérarchie entre les valeurs des deux colonnes restantes, nous pouvons donc affirmer que ce sont toutes des **valeurs ordinales** ou **hiérarchisées** :\n",
    "\n",
    "* `No diploma` (0) < `Bachelor` (1) < `Master` (2) < `Phd` (3).\n",
    "* `Débutant` (0) <  `Confirmé` (1) < `Avancé` (2) < `Expert` (3).\n",
    "\n",
    "Nous décidons donc d'effectuer une labellisation par la méthode **label encoding** pour ces deux colonnes."
   ]
  },
  {
   "cell_type": "code",
   "execution_count": 67,
   "metadata": {},
   "outputs": [
    {
     "name": "stdout",
     "output_type": "stream",
     "text": [
      "Type objects columns : ['Metier', 'Diplome']\n"
     ]
    }
   ],
   "source": [
    "# drop the column 'Technologies' for our convenience to manipulate object columns\n",
    "# the technologies column is \"list\" so it's unhashabme to convert\n",
    "X_final_data = X_final_data.drop(columns=['Technologies'])\n",
    "\n",
    "# Get list of categorical variables\n",
    "s_final_data = (X_final_data.dtypes == 'object')\n",
    "object_cols_final = list(s_final_data[s_final_data].index)\n",
    "\n",
    "#print(\"Object variables:\")\n",
    "print(f\"Type objects columns : {object_cols_final}\")\n",
    "#output : ['Metier', Diplome']"
   ]
  },
  {
   "cell_type": "code",
   "execution_count": 69,
   "metadata": {},
   "outputs": [
    {
     "name": "stdout",
     "output_type": "stream",
     "text": [
      "Metier       category\n",
      "Diplome      category\n",
      "Exp_label    category\n",
      "dtype: object\n"
     ]
    },
    {
     "data": {
      "text/html": [
       "<div>\n",
       "<style scoped>\n",
       "    .dataframe tbody tr th:only-of-type {\n",
       "        vertical-align: middle;\n",
       "    }\n",
       "\n",
       "    .dataframe tbody tr th {\n",
       "        vertical-align: top;\n",
       "    }\n",
       "\n",
       "    .dataframe thead th {\n",
       "        text-align: right;\n",
       "    }\n",
       "</style>\n",
       "<table border=\"1\" class=\"dataframe\">\n",
       "  <thead>\n",
       "    <tr style=\"text-align: right;\">\n",
       "      <th></th>\n",
       "      <th>Metier</th>\n",
       "      <th>Diplome</th>\n",
       "      <th>Exp_label</th>\n",
       "    </tr>\n",
       "  </thead>\n",
       "  <tbody>\n",
       "    <tr>\n",
       "      <th>0</th>\n",
       "      <td>Data scientist</td>\n",
       "      <td>Master</td>\n",
       "      <td>Débutant</td>\n",
       "    </tr>\n",
       "    <tr>\n",
       "      <th>1</th>\n",
       "      <td>Data architecte</td>\n",
       "      <td>Master</td>\n",
       "      <td>Débutant</td>\n",
       "    </tr>\n",
       "    <tr>\n",
       "      <th>2</th>\n",
       "      <td>Lead data scientist</td>\n",
       "      <td>Master</td>\n",
       "      <td>Débutant</td>\n",
       "    </tr>\n",
       "    <tr>\n",
       "      <th>3</th>\n",
       "      <td>Data scientist</td>\n",
       "      <td>Master</td>\n",
       "      <td>Débutant</td>\n",
       "    </tr>\n",
       "    <tr>\n",
       "      <th>4</th>\n",
       "      <td>Data scientist</td>\n",
       "      <td>Phd</td>\n",
       "      <td>Débutant</td>\n",
       "    </tr>\n",
       "  </tbody>\n",
       "</table>\n",
       "</div>"
      ],
      "text/plain": [
       "                Metier Diplome Exp_label\n",
       "0       Data scientist  Master  Débutant\n",
       "1      Data architecte  Master  Débutant\n",
       "2  Lead data scientist  Master  Débutant\n",
       "3       Data scientist  Master  Débutant\n",
       "4       Data scientist     Phd  Débutant"
      ]
     },
     "execution_count": 69,
     "metadata": {},
     "output_type": "execute_result"
    }
   ],
   "source": [
    "# convert all object columns to category type\n",
    "for col in object_cols_final:\n",
    "    X_final_data[col] = X_final_data[col].astype('category')\n",
    "\n",
    "s_category = (X_final_data.dtypes == 'category')\n",
    "category_cols_final = list(s_category[s_category].index)\n",
    "# check column types\n",
    "print(X_final_data.dtypes)\n",
    "X_final_data.head()"
   ]
  },
  {
   "cell_type": "markdown",
   "metadata": {},
   "source": [
    "Nos colonnes ont bien été converties en type catégorique. Avant de labelliser les colonnes restantes, nous devons vérifier l'ordre hiérarchique dans ces colonnes. Pour cela nous avons juste à vérifier cette ordre directement en affichant nos variables catégorielles."
   ]
  },
  {
   "cell_type": "code",
   "execution_count": 70,
   "metadata": {},
   "outputs": [
    {
     "data": {
      "text/plain": [
       "0    Débutant\n",
       "1    Débutant\n",
       "2    Débutant\n",
       "3    Débutant\n",
       "4    Débutant\n",
       "Name: Exp_label, dtype: category\n",
       "Categories (4, object): ['Débutant' < 'Confirmé' < 'Avancé' < 'Expert']"
      ]
     },
     "execution_count": 70,
     "metadata": {},
     "output_type": "execute_result"
    }
   ],
   "source": [
    "# checking values order in categorical variables\n",
    "X_final_data['Exp_label'].head()"
   ]
  },
  {
   "cell_type": "markdown",
   "metadata": {},
   "source": [
    "Nous aurons donc comme ordre :\n",
    "* `Débutant` (0) <  `Confirmé` (1) < `Avancé` (2) < `Expert` (3)."
   ]
  },
  {
   "cell_type": "code",
   "execution_count": 71,
   "metadata": {
    "scrolled": true
   },
   "outputs": [
    {
     "data": {
      "text/html": [
       "<div>\n",
       "<style scoped>\n",
       "    .dataframe tbody tr th:only-of-type {\n",
       "        vertical-align: middle;\n",
       "    }\n",
       "\n",
       "    .dataframe tbody tr th {\n",
       "        vertical-align: top;\n",
       "    }\n",
       "\n",
       "    .dataframe thead th {\n",
       "        text-align: right;\n",
       "    }\n",
       "</style>\n",
       "<table border=\"1\" class=\"dataframe\">\n",
       "  <thead>\n",
       "    <tr style=\"text-align: right;\">\n",
       "      <th></th>\n",
       "      <th>Metier</th>\n",
       "      <th>Diplome</th>\n",
       "      <th>Exp_label</th>\n",
       "      <th>Exp_label_category</th>\n",
       "    </tr>\n",
       "  </thead>\n",
       "  <tbody>\n",
       "    <tr>\n",
       "      <th>9577</th>\n",
       "      <td>Data scientist</td>\n",
       "      <td>Master</td>\n",
       "      <td>Débutant</td>\n",
       "      <td>0</td>\n",
       "    </tr>\n",
       "    <tr>\n",
       "      <th>9578</th>\n",
       "      <td>Data scientist</td>\n",
       "      <td>Master</td>\n",
       "      <td>Avancé</td>\n",
       "      <td>2</td>\n",
       "    </tr>\n",
       "    <tr>\n",
       "      <th>9579</th>\n",
       "      <td>Data scientist</td>\n",
       "      <td>Master</td>\n",
       "      <td>Débutant</td>\n",
       "      <td>0</td>\n",
       "    </tr>\n",
       "    <tr>\n",
       "      <th>9580</th>\n",
       "      <td>Data scientist</td>\n",
       "      <td>Master</td>\n",
       "      <td>Expert</td>\n",
       "      <td>3</td>\n",
       "    </tr>\n",
       "    <tr>\n",
       "      <th>9581</th>\n",
       "      <td>Data scientist</td>\n",
       "      <td>Phd</td>\n",
       "      <td>Débutant</td>\n",
       "      <td>0</td>\n",
       "    </tr>\n",
       "  </tbody>\n",
       "</table>\n",
       "</div>"
      ],
      "text/plain": [
       "              Metier Diplome Exp_label  Exp_label_category\n",
       "9577  Data scientist  Master  Débutant                   0\n",
       "9578  Data scientist  Master    Avancé                   2\n",
       "9579  Data scientist  Master  Débutant                   0\n",
       "9580  Data scientist  Master    Expert                   3\n",
       "9581  Data scientist     Phd  Débutant                   0"
      ]
     },
     "execution_count": 71,
     "metadata": {},
     "output_type": "execute_result"
    }
   ],
   "source": [
    "# store a new column with the label-encoded category Exp_label\n",
    "X_final_data['Exp_label_category'] = X_final_data['Exp_label'].cat.codes\n",
    "X_final_data.tail()"
   ]
  },
  {
   "cell_type": "markdown",
   "metadata": {},
   "source": [
    "Nous passons désormais à la remise en ordre hiérarchique des valeurs dans la colonne **`Diplome`**.\n",
    "\n",
    "* `No diploma` (0) < `Bachelor` (1) < `Master` (2) < `Phd` (3)."
   ]
  },
  {
   "cell_type": "code",
   "execution_count": 72,
   "metadata": {},
   "outputs": [
    {
     "name": "stdout",
     "output_type": "stream",
     "text": [
      "0    Master\n",
      "1    Master\n",
      "2    Master\n",
      "3    Master\n",
      "4       Phd\n",
      "Name: Diplome, dtype: category\n",
      "Categories (4, object): ['No diploma' < 'Bachelor' < 'Master' < 'Phd']\n"
     ]
    },
    {
     "data": {
      "text/html": [
       "<div>\n",
       "<style scoped>\n",
       "    .dataframe tbody tr th:only-of-type {\n",
       "        vertical-align: middle;\n",
       "    }\n",
       "\n",
       "    .dataframe tbody tr th {\n",
       "        vertical-align: top;\n",
       "    }\n",
       "\n",
       "    .dataframe thead th {\n",
       "        text-align: right;\n",
       "    }\n",
       "</style>\n",
       "<table border=\"1\" class=\"dataframe\">\n",
       "  <thead>\n",
       "    <tr style=\"text-align: right;\">\n",
       "      <th></th>\n",
       "      <th>Metier</th>\n",
       "      <th>Diplome</th>\n",
       "      <th>Exp_label</th>\n",
       "      <th>Exp_label_category</th>\n",
       "      <th>Dip_label</th>\n",
       "    </tr>\n",
       "  </thead>\n",
       "  <tbody>\n",
       "    <tr>\n",
       "      <th>9577</th>\n",
       "      <td>Data scientist</td>\n",
       "      <td>Master</td>\n",
       "      <td>Débutant</td>\n",
       "      <td>0</td>\n",
       "      <td>2</td>\n",
       "    </tr>\n",
       "    <tr>\n",
       "      <th>9578</th>\n",
       "      <td>Data scientist</td>\n",
       "      <td>Master</td>\n",
       "      <td>Avancé</td>\n",
       "      <td>2</td>\n",
       "      <td>2</td>\n",
       "    </tr>\n",
       "    <tr>\n",
       "      <th>9579</th>\n",
       "      <td>Data scientist</td>\n",
       "      <td>Master</td>\n",
       "      <td>Débutant</td>\n",
       "      <td>0</td>\n",
       "      <td>2</td>\n",
       "    </tr>\n",
       "    <tr>\n",
       "      <th>9580</th>\n",
       "      <td>Data scientist</td>\n",
       "      <td>Master</td>\n",
       "      <td>Expert</td>\n",
       "      <td>3</td>\n",
       "      <td>2</td>\n",
       "    </tr>\n",
       "    <tr>\n",
       "      <th>9581</th>\n",
       "      <td>Data scientist</td>\n",
       "      <td>Phd</td>\n",
       "      <td>Débutant</td>\n",
       "      <td>0</td>\n",
       "      <td>3</td>\n",
       "    </tr>\n",
       "  </tbody>\n",
       "</table>\n",
       "</div>"
      ],
      "text/plain": [
       "              Metier Diplome Exp_label  Exp_label_category  Dip_label\n",
       "9577  Data scientist  Master  Débutant                   0          2\n",
       "9578  Data scientist  Master    Avancé                   2          2\n",
       "9579  Data scientist  Master  Débutant                   0          2\n",
       "9580  Data scientist  Master    Expert                   3          2\n",
       "9581  Data scientist     Phd  Débutant                   0          3"
      ]
     },
     "execution_count": 72,
     "metadata": {},
     "output_type": "execute_result"
    }
   ],
   "source": [
    "# get the values in order \n",
    "X_final_data[\"Diplome\"] = pd.Categorical(X_final_data[\"Diplome\"], categories=[\"No diploma\",\"Bachelor\",\"Master\",\"Phd\"], ordered=True)\n",
    "print(X_final_data[\"Diplome\"].head())\n",
    "\n",
    "# label encoding the column \"Diplome\" and stores it into a new column \"Dip_label\"\n",
    "X_final_data['Dip_label'] = X_final_data['Diplome'].cat.codes\n",
    "X_final_data.tail()"
   ]
  },
  {
   "cell_type": "markdown",
   "metadata": {},
   "source": [
    "### Encoding de la colonne \"Metier\" à prédire.\n",
    "\n",
    "Nous avons désormais les colonnes nécessaires pour effectuer nos prédictions, néanmoins nous devons d'abord labelliser la colonne `Metier` sans pour autant labelliser ou déplacer les valeurs manquantes. \n",
    "\n",
    "Il y a 4 types de métiers différents, nous allons donc effectuer un **label-encoding** sans prendre en compte l'ordinalité entre les différents métiers."
   ]
  },
  {
   "cell_type": "code",
   "execution_count": 77,
   "metadata": {},
   "outputs": [
    {
     "data": {
      "text/html": [
       "<div>\n",
       "<style scoped>\n",
       "    .dataframe tbody tr th:only-of-type {\n",
       "        vertical-align: middle;\n",
       "    }\n",
       "\n",
       "    .dataframe tbody tr th {\n",
       "        vertical-align: top;\n",
       "    }\n",
       "\n",
       "    .dataframe thead th {\n",
       "        text-align: right;\n",
       "    }\n",
       "</style>\n",
       "<table border=\"1\" class=\"dataframe\">\n",
       "  <thead>\n",
       "    <tr style=\"text-align: right;\">\n",
       "      <th></th>\n",
       "      <th>Metier</th>\n",
       "      <th>Exp_label_category</th>\n",
       "      <th>Dip_label</th>\n",
       "    </tr>\n",
       "  </thead>\n",
       "  <tbody>\n",
       "    <tr>\n",
       "      <th>0</th>\n",
       "      <td>Data scientist</td>\n",
       "      <td>0</td>\n",
       "      <td>2</td>\n",
       "    </tr>\n",
       "    <tr>\n",
       "      <th>1</th>\n",
       "      <td>Data architecte</td>\n",
       "      <td>0</td>\n",
       "      <td>2</td>\n",
       "    </tr>\n",
       "    <tr>\n",
       "      <th>2</th>\n",
       "      <td>Lead data scientist</td>\n",
       "      <td>0</td>\n",
       "      <td>2</td>\n",
       "    </tr>\n",
       "    <tr>\n",
       "      <th>3</th>\n",
       "      <td>Data scientist</td>\n",
       "      <td>0</td>\n",
       "      <td>2</td>\n",
       "    </tr>\n",
       "    <tr>\n",
       "      <th>4</th>\n",
       "      <td>Data scientist</td>\n",
       "      <td>0</td>\n",
       "      <td>3</td>\n",
       "    </tr>\n",
       "  </tbody>\n",
       "</table>\n",
       "</div>"
      ],
      "text/plain": [
       "                Metier  Exp_label_category  Dip_label\n",
       "0       Data scientist                   0          2\n",
       "1      Data architecte                   0          2\n",
       "2  Lead data scientist                   0          2\n",
       "3       Data scientist                   0          2\n",
       "4       Data scientist                   0          3"
      ]
     },
     "execution_count": 77,
     "metadata": {},
     "output_type": "execute_result"
    }
   ],
   "source": [
    "# doing label encoding without touching the nans values\n",
    "X_merge_data = X_final_data.copy()\n",
    "\n",
    "# drop the column we do not need to use anymore\n",
    "X_merge_data = X_merge_data.drop(columns=['Diplome', 'Exp_label'])\n",
    "X_merge_data.head()"
   ]
  },
  {
   "cell_type": "markdown",
   "metadata": {},
   "source": [
    "Nous pouvons alors commencer l'encodage des métiers tout en préservant les cases de métiers manquants."
   ]
  },
  {
   "cell_type": "code",
   "execution_count": 78,
   "metadata": {},
   "outputs": [
    {
     "data": {
      "text/plain": [
       "0         Data scientist\n",
       "1        Data architecte\n",
       "2    Lead data scientist\n",
       "3         Data scientist\n",
       "4         Data scientist\n",
       "Name: Metier, dtype: category\n",
       "Categories (4, object): ['Data architecte', 'Data engineer', 'Data scientist', 'Lead data scientist']"
      ]
     },
     "execution_count": 78,
     "metadata": {},
     "output_type": "execute_result"
    }
   ],
   "source": [
    "# check our 'Metier' column before encoding\n",
    "X_merge_data['Metier'].head()"
   ]
  },
  {
   "cell_type": "markdown",
   "metadata": {},
   "source": [
    "Nous avons donc les labels suivants pour les différents métiers : \n",
    "- `Data architecte` (0)\n",
    "- `Data engineer` (1)\n",
    "- `Data scientist` (2)\n",
    "- `Lead data scientist` (3)\n",
    "\n",
    "Nous effectuons donc le **label-encoding** de la colonne **`Metier`**."
   ]
  },
  {
   "cell_type": "code",
   "execution_count": 79,
   "metadata": {},
   "outputs": [],
   "source": [
    "X_merge_data_tmp = X_merge_data.astype(\"category\").apply(lambda elem: elem.cat.codes)\n",
    "X_merge_data = X_merge_data_tmp.where(~X_merge_data.isna(), X_merge_data)"
   ]
  },
  {
   "cell_type": "code",
   "execution_count": 82,
   "metadata": {},
   "outputs": [
    {
     "name": "stdout",
     "output_type": "stream",
     "text": [
      "Missing values : \n",
      "\n",
      "Metier                19\n",
      "Exp_label_category     0\n",
      "Dip_label              0\n",
      "dtype: int64\n"
     ]
    },
    {
     "data": {
      "text/html": [
       "<div>\n",
       "<style scoped>\n",
       "    .dataframe tbody tr th:only-of-type {\n",
       "        vertical-align: middle;\n",
       "    }\n",
       "\n",
       "    .dataframe tbody tr th {\n",
       "        vertical-align: top;\n",
       "    }\n",
       "\n",
       "    .dataframe thead th {\n",
       "        text-align: right;\n",
       "    }\n",
       "</style>\n",
       "<table border=\"1\" class=\"dataframe\">\n",
       "  <thead>\n",
       "    <tr style=\"text-align: right;\">\n",
       "      <th></th>\n",
       "      <th>Metier</th>\n",
       "      <th>Exp_label_category</th>\n",
       "      <th>Dip_label</th>\n",
       "    </tr>\n",
       "  </thead>\n",
       "  <tbody>\n",
       "    <tr>\n",
       "      <th>0</th>\n",
       "      <td>2</td>\n",
       "      <td>0</td>\n",
       "      <td>2</td>\n",
       "    </tr>\n",
       "    <tr>\n",
       "      <th>1</th>\n",
       "      <td>0</td>\n",
       "      <td>0</td>\n",
       "      <td>2</td>\n",
       "    </tr>\n",
       "    <tr>\n",
       "      <th>2</th>\n",
       "      <td>3</td>\n",
       "      <td>0</td>\n",
       "      <td>2</td>\n",
       "    </tr>\n",
       "    <tr>\n",
       "      <th>3</th>\n",
       "      <td>2</td>\n",
       "      <td>0</td>\n",
       "      <td>2</td>\n",
       "    </tr>\n",
       "    <tr>\n",
       "      <th>4</th>\n",
       "      <td>2</td>\n",
       "      <td>0</td>\n",
       "      <td>3</td>\n",
       "    </tr>\n",
       "  </tbody>\n",
       "</table>\n",
       "</div>"
      ],
      "text/plain": [
       "  Metier  Exp_label_category  Dip_label\n",
       "0      2                   0          2\n",
       "1      0                   0          2\n",
       "2      3                   0          2\n",
       "3      2                   0          2\n",
       "4      2                   0          3"
      ]
     },
     "execution_count": 82,
     "metadata": {},
     "output_type": "execute_result"
    }
   ],
   "source": [
    "# check if there are still any na values\n",
    "print(f\"Missing values : \\n\\n{X_merge_data.isna().sum()}\")\n",
    "# check our new dataset\n",
    "X_merge_data.head()"
   ]
  },
  {
   "cell_type": "markdown",
   "metadata": {},
   "source": [
    "Nous avons réussi à encoder la colonne **`Metier`** tout en conservant les valeurs manquantes."
   ]
  },
  {
   "cell_type": "markdown",
   "metadata": {},
   "source": [
    "### Merge des deux datasets encodés\n",
    "\n",
    "Nous avons désormais tous les éléments pour commencer nos prédictions, pour commencer nous allons donc fusionner les datasets encodés ensemble dans notre variable appelée **X_final**."
   ]
  },
  {
   "cell_type": "code",
   "execution_count": 83,
   "metadata": {},
   "outputs": [],
   "source": [
    "X_final = X_final_label.copy()"
   ]
  },
  {
   "cell_type": "code",
   "execution_count": 84,
   "metadata": {},
   "outputs": [
    {
     "data": {
      "text/html": [
       "<div>\n",
       "<style scoped>\n",
       "    .dataframe tbody tr th:only-of-type {\n",
       "        vertical-align: middle;\n",
       "    }\n",
       "\n",
       "    .dataframe tbody tr th {\n",
       "        vertical-align: top;\n",
       "    }\n",
       "\n",
       "    .dataframe thead th {\n",
       "        text-align: right;\n",
       "    }\n",
       "</style>\n",
       "<table border=\"1\" class=\"dataframe\">\n",
       "  <thead>\n",
       "    <tr style=\"text-align: right;\">\n",
       "      <th></th>\n",
       "      <th>Metier</th>\n",
       "      <th>Dip_label</th>\n",
       "      <th>Exp_label_category</th>\n",
       "      <th>AI</th>\n",
       "      <th>AWS</th>\n",
       "      <th>Anglais</th>\n",
       "      <th>Big data</th>\n",
       "      <th>C</th>\n",
       "      <th>C++</th>\n",
       "      <th>Cassandra</th>\n",
       "      <th>...</th>\n",
       "      <th>Scoring</th>\n",
       "      <th>Spark</th>\n",
       "      <th>Tableau</th>\n",
       "      <th>Tensorflow</th>\n",
       "      <th>Teradata</th>\n",
       "      <th>VBA</th>\n",
       "      <th>Vertica</th>\n",
       "      <th>Windows</th>\n",
       "      <th>Yarn</th>\n",
       "      <th>numpy</th>\n",
       "    </tr>\n",
       "  </thead>\n",
       "  <tbody>\n",
       "    <tr>\n",
       "      <th>0</th>\n",
       "      <td>2</td>\n",
       "      <td>2</td>\n",
       "      <td>0</td>\n",
       "      <td>0</td>\n",
       "      <td>0</td>\n",
       "      <td>0</td>\n",
       "      <td>0</td>\n",
       "      <td>0</td>\n",
       "      <td>0</td>\n",
       "      <td>0</td>\n",
       "      <td>...</td>\n",
       "      <td>0</td>\n",
       "      <td>0</td>\n",
       "      <td>0</td>\n",
       "      <td>1</td>\n",
       "      <td>0</td>\n",
       "      <td>0</td>\n",
       "      <td>0</td>\n",
       "      <td>0</td>\n",
       "      <td>0</td>\n",
       "      <td>0</td>\n",
       "    </tr>\n",
       "    <tr>\n",
       "      <th>1</th>\n",
       "      <td>0</td>\n",
       "      <td>2</td>\n",
       "      <td>0</td>\n",
       "      <td>0</td>\n",
       "      <td>0</td>\n",
       "      <td>0</td>\n",
       "      <td>0</td>\n",
       "      <td>0</td>\n",
       "      <td>0</td>\n",
       "      <td>0</td>\n",
       "      <td>...</td>\n",
       "      <td>0</td>\n",
       "      <td>0</td>\n",
       "      <td>0</td>\n",
       "      <td>0</td>\n",
       "      <td>0</td>\n",
       "      <td>0</td>\n",
       "      <td>0</td>\n",
       "      <td>0</td>\n",
       "      <td>0</td>\n",
       "      <td>0</td>\n",
       "    </tr>\n",
       "    <tr>\n",
       "      <th>2</th>\n",
       "      <td>3</td>\n",
       "      <td>2</td>\n",
       "      <td>0</td>\n",
       "      <td>0</td>\n",
       "      <td>0</td>\n",
       "      <td>0</td>\n",
       "      <td>0</td>\n",
       "      <td>0</td>\n",
       "      <td>0</td>\n",
       "      <td>0</td>\n",
       "      <td>...</td>\n",
       "      <td>0</td>\n",
       "      <td>0</td>\n",
       "      <td>0</td>\n",
       "      <td>1</td>\n",
       "      <td>1</td>\n",
       "      <td>0</td>\n",
       "      <td>0</td>\n",
       "      <td>0</td>\n",
       "      <td>0</td>\n",
       "      <td>0</td>\n",
       "    </tr>\n",
       "    <tr>\n",
       "      <th>3</th>\n",
       "      <td>2</td>\n",
       "      <td>2</td>\n",
       "      <td>0</td>\n",
       "      <td>0</td>\n",
       "      <td>0</td>\n",
       "      <td>0</td>\n",
       "      <td>0</td>\n",
       "      <td>1</td>\n",
       "      <td>1</td>\n",
       "      <td>0</td>\n",
       "      <td>...</td>\n",
       "      <td>0</td>\n",
       "      <td>0</td>\n",
       "      <td>0</td>\n",
       "      <td>0</td>\n",
       "      <td>0</td>\n",
       "      <td>0</td>\n",
       "      <td>0</td>\n",
       "      <td>0</td>\n",
       "      <td>0</td>\n",
       "      <td>0</td>\n",
       "    </tr>\n",
       "    <tr>\n",
       "      <th>4</th>\n",
       "      <td>2</td>\n",
       "      <td>3</td>\n",
       "      <td>0</td>\n",
       "      <td>0</td>\n",
       "      <td>0</td>\n",
       "      <td>0</td>\n",
       "      <td>0</td>\n",
       "      <td>0</td>\n",
       "      <td>1</td>\n",
       "      <td>0</td>\n",
       "      <td>...</td>\n",
       "      <td>0</td>\n",
       "      <td>0</td>\n",
       "      <td>0</td>\n",
       "      <td>1</td>\n",
       "      <td>0</td>\n",
       "      <td>0</td>\n",
       "      <td>0</td>\n",
       "      <td>0</td>\n",
       "      <td>0</td>\n",
       "      <td>1</td>\n",
       "    </tr>\n",
       "  </tbody>\n",
       "</table>\n",
       "<p>5 rows × 57 columns</p>\n",
       "</div>"
      ],
      "text/plain": [
       "  Metier  Dip_label  Exp_label_category  AI  AWS  Anglais  Big data  C  C++  \\\n",
       "0      2          2                   0   0    0        0         0  0    0   \n",
       "1      0          2                   0   0    0        0         0  0    0   \n",
       "2      3          2                   0   0    0        0         0  0    0   \n",
       "3      2          2                   0   0    0        0         0  1    1   \n",
       "4      2          3                   0   0    0        0         0  0    1   \n",
       "\n",
       "   Cassandra  ...  Scoring  Spark  Tableau  Tensorflow  Teradata  VBA  \\\n",
       "0          0  ...        0      0        0           1         0    0   \n",
       "1          0  ...        0      0        0           0         0    0   \n",
       "2          0  ...        0      0        0           1         1    0   \n",
       "3          0  ...        0      0        0           0         0    0   \n",
       "4          0  ...        0      0        0           1         0    0   \n",
       "\n",
       "   Vertica  Windows  Yarn  numpy  \n",
       "0        0        0     0      0  \n",
       "1        0        0     0      0  \n",
       "2        0        0     0      0  \n",
       "3        0        0     0      0  \n",
       "4        0        0     0      1  \n",
       "\n",
       "[5 rows x 57 columns]"
      ]
     },
     "execution_count": 84,
     "metadata": {},
     "output_type": "execute_result"
    }
   ],
   "source": [
    "col1 = X_merge_data['Metier']\n",
    "col2 = X_merge_data['Exp_label_category']\n",
    "col3 = X_merge_data['Dip_label']\n",
    "\n",
    "# insert the columns of X_merge_data to X_final_data\n",
    "X_final.insert(0, column='Metier', value=col1)\n",
    "X_final.insert(1, column='Exp_label_category', value=col2)\n",
    "X_final.insert(1, column='Dip_label', value=col3)\n",
    "\n",
    "# overview of the new dataset available\n",
    "X_final.head()"
   ]
  },
  {
   "cell_type": "markdown",
   "metadata": {},
   "source": [
    "Nous pouvons explorer la corrélation entre les différentes colonnes à l'aide de la méthode **corr()** implémentée dans `pandas`."
   ]
  },
  {
   "cell_type": "code",
   "execution_count": 87,
   "metadata": {
    "scrolled": false
   },
   "outputs": [],
   "source": [
    "#X_final.corr('pearson')"
   ]
  },
  {
   "cell_type": "markdown",
   "metadata": {},
   "source": [
    "Plus la valeur de corrélation est proche de 1, plus la corrélation entre les deux colonnes concernées est forte."
   ]
  },
  {
   "cell_type": "markdown",
   "metadata": {},
   "source": [
    "### Application de l'algorithme de prédiction.\n",
    "\n",
    "Nous avons finalement réussi à obtenir notre super dataset contenant des valeurs de types `float`, nous pouvons désormais utiliser un algorithme d'apprentissage machine pour effectuer nos prédictions. Nous nous tournons naturellement vers un algorithme de régression pour ce type de données numériques, néanmoins la nature de l'exercice veut que l'on puisse prédire les métiers manquants ceci peut-être aussi interprété comme un problème de **classification**. \n",
    "\n",
    "Nous pouvons essayer d'effectuer les prédictions en utilisant un algorithme de régression puis référer ces prédictions à nos métiers correspondants: \n",
    "\n",
    "- `Data architecte` (0)\n",
    "- `Data engineer` (1)\n",
    "- `Data scientist` (2)\n",
    "- `Lead data scientist` (3)"
   ]
  },
  {
   "cell_type": "code",
   "execution_count": 88,
   "metadata": {
    "scrolled": false
   },
   "outputs": [
    {
     "data": {
      "text/html": [
       "<div>\n",
       "<style scoped>\n",
       "    .dataframe tbody tr th:only-of-type {\n",
       "        vertical-align: middle;\n",
       "    }\n",
       "\n",
       "    .dataframe tbody tr th {\n",
       "        vertical-align: top;\n",
       "    }\n",
       "\n",
       "    .dataframe thead th {\n",
       "        text-align: right;\n",
       "    }\n",
       "</style>\n",
       "<table border=\"1\" class=\"dataframe\">\n",
       "  <thead>\n",
       "    <tr style=\"text-align: right;\">\n",
       "      <th></th>\n",
       "      <th>Metier</th>\n",
       "      <th>Dip_label</th>\n",
       "      <th>Exp_label_category</th>\n",
       "      <th>AI</th>\n",
       "      <th>AWS</th>\n",
       "      <th>Anglais</th>\n",
       "      <th>Big data</th>\n",
       "      <th>C</th>\n",
       "      <th>C++</th>\n",
       "      <th>Cassandra</th>\n",
       "      <th>...</th>\n",
       "      <th>Scoring</th>\n",
       "      <th>Spark</th>\n",
       "      <th>Tableau</th>\n",
       "      <th>Tensorflow</th>\n",
       "      <th>Teradata</th>\n",
       "      <th>VBA</th>\n",
       "      <th>Vertica</th>\n",
       "      <th>Windows</th>\n",
       "      <th>Yarn</th>\n",
       "      <th>numpy</th>\n",
       "    </tr>\n",
       "  </thead>\n",
       "  <tbody>\n",
       "    <tr>\n",
       "      <th>0</th>\n",
       "      <td>2</td>\n",
       "      <td>2</td>\n",
       "      <td>0</td>\n",
       "      <td>0</td>\n",
       "      <td>0</td>\n",
       "      <td>0</td>\n",
       "      <td>0</td>\n",
       "      <td>0</td>\n",
       "      <td>0</td>\n",
       "      <td>0</td>\n",
       "      <td>...</td>\n",
       "      <td>0</td>\n",
       "      <td>0</td>\n",
       "      <td>0</td>\n",
       "      <td>1</td>\n",
       "      <td>0</td>\n",
       "      <td>0</td>\n",
       "      <td>0</td>\n",
       "      <td>0</td>\n",
       "      <td>0</td>\n",
       "      <td>0</td>\n",
       "    </tr>\n",
       "    <tr>\n",
       "      <th>1</th>\n",
       "      <td>0</td>\n",
       "      <td>2</td>\n",
       "      <td>0</td>\n",
       "      <td>0</td>\n",
       "      <td>0</td>\n",
       "      <td>0</td>\n",
       "      <td>0</td>\n",
       "      <td>0</td>\n",
       "      <td>0</td>\n",
       "      <td>0</td>\n",
       "      <td>...</td>\n",
       "      <td>0</td>\n",
       "      <td>0</td>\n",
       "      <td>0</td>\n",
       "      <td>0</td>\n",
       "      <td>0</td>\n",
       "      <td>0</td>\n",
       "      <td>0</td>\n",
       "      <td>0</td>\n",
       "      <td>0</td>\n",
       "      <td>0</td>\n",
       "    </tr>\n",
       "    <tr>\n",
       "      <th>2</th>\n",
       "      <td>3</td>\n",
       "      <td>2</td>\n",
       "      <td>0</td>\n",
       "      <td>0</td>\n",
       "      <td>0</td>\n",
       "      <td>0</td>\n",
       "      <td>0</td>\n",
       "      <td>0</td>\n",
       "      <td>0</td>\n",
       "      <td>0</td>\n",
       "      <td>...</td>\n",
       "      <td>0</td>\n",
       "      <td>0</td>\n",
       "      <td>0</td>\n",
       "      <td>1</td>\n",
       "      <td>1</td>\n",
       "      <td>0</td>\n",
       "      <td>0</td>\n",
       "      <td>0</td>\n",
       "      <td>0</td>\n",
       "      <td>0</td>\n",
       "    </tr>\n",
       "    <tr>\n",
       "      <th>3</th>\n",
       "      <td>2</td>\n",
       "      <td>2</td>\n",
       "      <td>0</td>\n",
       "      <td>0</td>\n",
       "      <td>0</td>\n",
       "      <td>0</td>\n",
       "      <td>0</td>\n",
       "      <td>1</td>\n",
       "      <td>1</td>\n",
       "      <td>0</td>\n",
       "      <td>...</td>\n",
       "      <td>0</td>\n",
       "      <td>0</td>\n",
       "      <td>0</td>\n",
       "      <td>0</td>\n",
       "      <td>0</td>\n",
       "      <td>0</td>\n",
       "      <td>0</td>\n",
       "      <td>0</td>\n",
       "      <td>0</td>\n",
       "      <td>0</td>\n",
       "    </tr>\n",
       "    <tr>\n",
       "      <th>4</th>\n",
       "      <td>2</td>\n",
       "      <td>3</td>\n",
       "      <td>0</td>\n",
       "      <td>0</td>\n",
       "      <td>0</td>\n",
       "      <td>0</td>\n",
       "      <td>0</td>\n",
       "      <td>0</td>\n",
       "      <td>1</td>\n",
       "      <td>0</td>\n",
       "      <td>...</td>\n",
       "      <td>0</td>\n",
       "      <td>0</td>\n",
       "      <td>0</td>\n",
       "      <td>1</td>\n",
       "      <td>0</td>\n",
       "      <td>0</td>\n",
       "      <td>0</td>\n",
       "      <td>0</td>\n",
       "      <td>0</td>\n",
       "      <td>1</td>\n",
       "    </tr>\n",
       "  </tbody>\n",
       "</table>\n",
       "<p>5 rows × 57 columns</p>\n",
       "</div>"
      ],
      "text/plain": [
       "  Metier  Dip_label  Exp_label_category  AI  AWS  Anglais  Big data  C  C++  \\\n",
       "0      2          2                   0   0    0        0         0  0    0   \n",
       "1      0          2                   0   0    0        0         0  0    0   \n",
       "2      3          2                   0   0    0        0         0  0    0   \n",
       "3      2          2                   0   0    0        0         0  1    1   \n",
       "4      2          3                   0   0    0        0         0  0    1   \n",
       "\n",
       "   Cassandra  ...  Scoring  Spark  Tableau  Tensorflow  Teradata  VBA  \\\n",
       "0          0  ...        0      0        0           1         0    0   \n",
       "1          0  ...        0      0        0           0         0    0   \n",
       "2          0  ...        0      0        0           1         1    0   \n",
       "3          0  ...        0      0        0           0         0    0   \n",
       "4          0  ...        0      0        0           1         0    0   \n",
       "\n",
       "   Vertica  Windows  Yarn  numpy  \n",
       "0        0        0     0      0  \n",
       "1        0        0     0      0  \n",
       "2        0        0     0      0  \n",
       "3        0        0     0      0  \n",
       "4        0        0     0      1  \n",
       "\n",
       "[5 rows x 57 columns]"
      ]
     },
     "execution_count": 88,
     "metadata": {},
     "output_type": "execute_result"
    }
   ],
   "source": [
    "# get back our data after many processing steps\n",
    "X_data = X_final.copy()\n",
    "X_data.head()"
   ]
  },
  {
   "cell_type": "markdown",
   "metadata": {},
   "source": [
    "Nous allons d'abord sélectionner dans un premier temps, un panel de features susceptibles d'être les plus intéressantes pour les prédictions de la colonne **`Metier`**, parmi toutes les technologies présentes nous allons sélectionner les **20 plus utilisées**."
   ]
  },
  {
   "cell_type": "code",
   "execution_count": 89,
   "metadata": {},
   "outputs": [
    {
     "data": {
      "text/plain": [
       "Python                6627\n",
       "R                     4374\n",
       "SQL                   2581\n",
       "Java                  1719\n",
       "Hadoop                1589\n",
       "Machine Learning      1454\n",
       "Excel                 1398\n",
       "Exp_label_category    1395\n",
       "C++                   1381\n",
       "Spark                 1240\n",
       "Linux                 1183\n",
       "MongoDB               1166\n",
       "VBA                   1003\n",
       "SAS                    943\n",
       "Docker                 927\n",
       "Matlab                 871\n",
       "Hive                   864\n",
       "Tensorflow             848\n",
       "Elasticsearch          826\n",
       "Big data               824\n",
       "Scikit-learn           789\n",
       "dtype: int64"
      ]
     },
     "execution_count": 89,
     "metadata": {},
     "output_type": "execute_result"
    }
   ],
   "source": [
    "# sorting sum values of the first 20 most used technologies columns in X_data\n",
    "list_best_tech = X_data.iloc[:,2:-1].sum().sort_values(ascending=False)[:21] \n",
    "list_best_tech"
   ]
  },
  {
   "cell_type": "markdown",
   "metadata": {},
   "source": [
    "Si l'on fait abstraction de la variable **`Exp_label_category`**, nous avons listé les 20 technologies les plus utilisées par les ingénieurs en data science.  \n",
    "Dès lors, nous vérifions s'il y a toujours les valeurs manquantes dans notre colonne **`Metier`**."
   ]
  },
  {
   "cell_type": "code",
   "execution_count": 91,
   "metadata": {},
   "outputs": [
    {
     "name": "stdout",
     "output_type": "stream",
     "text": [
      "Are there any missing values in 'Metier' column ? : True\n"
     ]
    }
   ],
   "source": [
    "# verifying missing values in the dataset\n",
    "print(f\"Are there any missing values in 'Metier' column ? : {X_data['Metier'].isna().any()}\")"
   ]
  },
  {
   "cell_type": "markdown",
   "metadata": {},
   "source": [
    "Pour ce type de prédiction, nous allons nettoyer les valeurs manquantes dans la colonne **`Metier`**. Nous définissons notre modèle comme suit, en utilisant un algorithme d'apprentissage machine appelé **RandomForest**, celui-ci est disponible dans `scikit-learn` sous le nom de `RandomForestRegressor`. Nous utiliserons ici deux métriques de précision  **r2_score** et **mean squared error** pour comparer nos prédictions avec les valeurs *ground truth*."
   ]
  },
  {
   "cell_type": "code",
   "execution_count": 92,
   "metadata": {},
   "outputs": [
    {
     "name": "stdout",
     "output_type": "stream",
     "text": [
      "Training set shape : (7172, 20)\n",
      "Test set shape : (2391, 20)\n"
     ]
    }
   ],
   "source": [
    "from sklearn.model_selection import train_test_split\n",
    "from sklearn.ensemble import RandomForestRegressor\n",
    "from sklearn.metrics import mean_squared_error\n",
    "from sklearn.metrics import r2_score\n",
    "\n",
    "# filters nan values\n",
    "X_data = X_data.dropna(axis=0)\n",
    "# Choosing the column 'Metier' to be predicted\n",
    "y = X_data.Metier\n",
    "# get all the relevant features in the dataset for this prediction task\n",
    "data_features = ['Python', 'R', 'SQL','Java','Hadoop','Machine Learning',\n",
    "                 'Excel','C++','Spark','Linux','MongoDB','VBA','SAS',\n",
    "                 'Docker','Matlab', 'Hive','Tensorflow','Elasticsearch','Big data','Scikit-learn']\n",
    "X = X_data[data_features]\n",
    "\n",
    "# splitting data into training and validation data, for both features and target (randomly)\n",
    "X_train, X_val, y_train, y_val = train_test_split(X,y, random_state=0)\n",
    "print(f\"Training set shape : {X_train.shape}\")\n",
    "print(f\"Test set shape : {X_val.shape}\")"
   ]
  },
  {
   "cell_type": "code",
   "execution_count": 93,
   "metadata": {},
   "outputs": [
    {
     "name": "stdout",
     "output_type": "stream",
     "text": [
      "Mean Square Error for our predictions : 0.176\n",
      "r2_score for our predictions : 0.811\n"
     ]
    }
   ],
   "source": [
    "# random forest model\n",
    "regression_forest_model = RandomForestRegressor(random_state=0)\n",
    "regression_forest_model.fit(X_train, y_train)\n",
    "\n",
    "# predictions\n",
    "metier_preds = regression_forest_model.predict(X_val)\n",
    "metier_preds = np.rint(metier_preds)\n",
    "\n",
    "# mean square error and r2_score\n",
    "mse = mean_squared_error(y_val, metier_preds)\n",
    "r2_score = r2_score(y_val, metier_preds)\n",
    "print(f\"Mean Square Error for our predictions : {mse:.3f}\")\n",
    "print(f\"r2_score for our predictions : {r2_score:.3f}\")"
   ]
  },
  {
   "cell_type": "markdown",
   "metadata": {},
   "source": [
    "Nous avons des résultats plutôt satisfaisant, **l'erreur quadratique moyenne** (mse ~ 0.18) est correcte mais sur ce type de problème de regression celle-ci a tendance à traduire une légère imprécision sur les prédictions de l'algorithme. Tandis que le **coefficient de détermination** (r2_score ~ 0.81) se rapproche de sa meilleure valeur possible qui est de **1**, ce qui peut nous conforter dans notre idée que les scores obtenus sont satisfaisants. "
   ]
  },
  {
   "cell_type": "code",
   "execution_count": 94,
   "metadata": {},
   "outputs": [
    {
     "name": "stdout",
     "output_type": "stream",
     "text": [
      "10 first values of 'Metier' : \n",
      "9354    1\n",
      "3921    3\n",
      "2856    3\n",
      "2979    3\n",
      "6809    0\n",
      "5245    2\n",
      "7963    3\n",
      "8419    1\n",
      "4036    0\n",
      "8155    1\n",
      "Name: Metier, dtype: object\n",
      "\n",
      "10 first predictions : [1. 2. 2. 2. 0. 2. 2. 1. 0. 1.]\n"
     ]
    }
   ],
   "source": [
    "print(f\"10 first values of 'Metier' : \\n{y_val[:10]}\")\n",
    "print(f\"\\n10 first predictions : {metier_preds[:10]}\")"
   ]
  },
  {
   "cell_type": "markdown",
   "metadata": {},
   "source": [
    "Nous tentons ensuite d'améliorer notre algorithme, cette fois-ci au lieu de prendre **les 20 technologies les plus utilisées** en tant que features, nous allons prendre **TOUTES** les technologies contenues dans le dataset."
   ]
  },
  {
   "cell_type": "code",
   "execution_count": 95,
   "metadata": {},
   "outputs": [
    {
     "name": "stdout",
     "output_type": "stream",
     "text": [
      "Training set shape (7172, 57)\n",
      "Test set shape (2391, 57)\n"
     ]
    }
   ],
   "source": [
    "from sklearn.model_selection import train_test_split\n",
    "from sklearn.ensemble import RandomForestRegressor\n",
    "from sklearn.metrics import mean_squared_error\n",
    "from sklearn.metrics import r2_score\n",
    "\n",
    "# filters nan values\n",
    "X_data = X_data.dropna(axis=0)\n",
    "# Choosing the column 'Metier' to be predicted\n",
    "y = X_data.Metier\n",
    "# get all the features in the dataset for this prediction task\n",
    "data_features = [col for col in X_data.columns]\n",
    "X = X_data[data_features]\n",
    "\n",
    "# splitting data into training and validation data, for both features and target (randomly)\n",
    "X_train, X_val, y_train, y_val = train_test_split(X,y, random_state=0)\n",
    "print(f\"Training set shape {X_train.shape}\")\n",
    "print(f\"Test set shape {X_val.shape}\")"
   ]
  },
  {
   "cell_type": "code",
   "execution_count": 96,
   "metadata": {},
   "outputs": [
    {
     "name": "stdout",
     "output_type": "stream",
     "text": [
      "Mean Square Error for predictions : 0.0\n",
      "r2_score : 1.0\n"
     ]
    }
   ],
   "source": [
    "# random forest model\n",
    "regression_forest_model = RandomForestRegressor(random_state=0)\n",
    "regression_forest_model.fit(X_train, y_train)\n",
    "\n",
    "# predictions\n",
    "metier_preds = regression_forest_model.predict(X_val)\n",
    "metier_preds = np.rint(metier_preds)\n",
    "\n",
    "# mean square error and r2_score\n",
    "mse = mean_squared_error(y_val, metier_preds)\n",
    "r2_score = r2_score(y_val, metier_preds)\n",
    "print(f\"Mean Square Error for predictions : {mse}\")\n",
    "print(f\"r2_score : {r2_score}\")"
   ]
  },
  {
   "cell_type": "code",
   "execution_count": 97,
   "metadata": {},
   "outputs": [
    {
     "name": "stdout",
     "output_type": "stream",
     "text": [
      "10 first values of 'Metier' : \n",
      "9354    1\n",
      "3921    3\n",
      "2856    3\n",
      "2979    3\n",
      "6809    0\n",
      "5245    2\n",
      "7963    3\n",
      "8419    1\n",
      "4036    0\n",
      "8155    1\n",
      "Name: Metier, dtype: object\n",
      "\n",
      "10 first predictions : [1. 3. 3. 3. 0. 2. 3. 1. 0. 1.]\n"
     ]
    }
   ],
   "source": [
    "print(f\"10 first values of 'Metier' : \\n{y_val[:10]}\")\n",
    "print(f\"\\n10 first predictions : {metier_preds[:10]}\")"
   ]
  },
  {
   "cell_type": "markdown",
   "metadata": {},
   "source": [
    "En prenant toutes les colonnes en tant que features pour pouvoir prédire la colonne **`Metier`**, nous obtenons un score parfait avec une **erreur quadratique moyenne** nulle (mse = 0.0) ainsi qu'un **coefficient de détermination** maximal (r2_score = 1.0). Nous pouvons donc en conclure que **notre première approche** (cf. début question 9) est une très bonne approche pour ce problème.\n",
    "\n",
    "**Message :** *Cependant, compte-tenu de la question posée, je ne suis pas sur que ma réponse soit la bonne car je n'ai pas \"prédit\" les valeurs manquantes mais plutôt essayer de prédire les métiers à partir des valeurs existantes et comparer mes prédictions aux ground truth. Libre à vous d'en juger !*"
   ]
  },
  {
   "cell_type": "code",
   "execution_count": null,
   "metadata": {},
   "outputs": [],
   "source": []
  }
 ],
 "metadata": {
  "kernelspec": {
   "display_name": "Python 3",
   "language": "python",
   "name": "python3"
  },
  "language_info": {
   "codemirror_mode": {
    "name": "ipython",
    "version": 3
   },
   "file_extension": ".py",
   "mimetype": "text/x-python",
   "name": "python",
   "nbconvert_exporter": "python",
   "pygments_lexer": "ipython3",
   "version": "3.8.7"
  }
 },
 "nbformat": 4,
 "nbformat_minor": 2
}
